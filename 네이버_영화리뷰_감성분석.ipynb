{
  "nbformat": 4,
  "nbformat_minor": 0,
  "metadata": {
    "colab": {
      "name": "네이버 영화리뷰 감성분석",
      "provenance": [],
      "collapsed_sections": [],
      "mount_file_id": "1RiiCQybs4rzThVosv0AzM0hP1f1CZudZ",
      "authorship_tag": "ABX9TyOXKyKEsnMSTIsmPVebJAej",
      "include_colab_link": true
    },
    "kernelspec": {
      "name": "python3",
      "display_name": "Python 3"
    },
    "language_info": {
      "name": "python"
    }
  },
  "cells": [
    {
      "cell_type": "markdown",
      "metadata": {
        "id": "view-in-github",
        "colab_type": "text"
      },
      "source": [
        "<a href=\"https://colab.research.google.com/github/gudals6676/Machine_Learning_Study/blob/main/%EB%84%A4%EC%9D%B4%EB%B2%84_%EC%98%81%ED%99%94%EB%A6%AC%EB%B7%B0_%EA%B0%90%EC%84%B1%EB%B6%84%EC%84%9D.ipynb\" target=\"_parent\"><img src=\"https://colab.research.google.com/assets/colab-badge.svg\" alt=\"Open In Colab\"/></a>"
      ]
    },
    {
      "cell_type": "code",
      "metadata": {
        "colab": {
          "base_uri": "https://localhost:8080/"
        },
        "id": "ot_VUmBjRbPR",
        "outputId": "cfe5869c-6592-42c1-842e-a09b7883aa2b"
      },
      "source": [
        "from google.colab import drive\n",
        "drive.mount('/content/drive')\n"
      ],
      "execution_count": null,
      "outputs": [
        {
          "output_type": "stream",
          "text": [
            "Drive already mounted at /content/drive; to attempt to forcibly remount, call drive.mount(\"/content/drive\", force_remount=True).\n"
          ],
          "name": "stdout"
        }
      ]
    },
    {
      "cell_type": "markdown",
      "metadata": {
        "id": "HfBDtf22Uxv1"
      },
      "source": [
        "### 목표\n",
        "- 네이버 영화리뷰 데이터셋을 이용해 긍정/부정 분류 모델을 만들어보자\n",
        "- TF=IDF 방식을 적용해보자\n",
        "- konlpy 한국어 형태소 분석기를 설치하고 활용해보자"
      ]
    },
    {
      "cell_type": "code",
      "metadata": {
        "colab": {
          "base_uri": "https://localhost:8080/"
        },
        "id": "GPKZ3bLtUv_d",
        "outputId": "28ac89ca-b0cb-4f8f-8b56-ab9c965d2b83"
      },
      "source": [
        "!pip install Konlpy"
      ],
      "execution_count": 3,
      "outputs": [
        {
          "output_type": "stream",
          "text": [
            "Collecting Konlpy\n",
            "\u001b[?25l  Downloading https://files.pythonhosted.org/packages/85/0e/f385566fec837c0b83f216b2da65db9997b35dd675e107752005b7d392b1/konlpy-0.5.2-py2.py3-none-any.whl (19.4MB)\n",
            "\u001b[K     |████████████████████████████████| 19.4MB 1.4MB/s \n",
            "\u001b[?25hRequirement already satisfied: tweepy>=3.7.0 in /usr/local/lib/python3.7/dist-packages (from Konlpy) (3.10.0)\n",
            "Requirement already satisfied: lxml>=4.1.0 in /usr/local/lib/python3.7/dist-packages (from Konlpy) (4.2.6)\n",
            "Collecting beautifulsoup4==4.6.0\n",
            "\u001b[?25l  Downloading https://files.pythonhosted.org/packages/9e/d4/10f46e5cfac773e22707237bfcd51bbffeaf0a576b0a847ec7ab15bd7ace/beautifulsoup4-4.6.0-py3-none-any.whl (86kB)\n",
            "\u001b[K     |████████████████████████████████| 92kB 11.6MB/s \n",
            "\u001b[?25hCollecting colorama\n",
            "  Downloading https://files.pythonhosted.org/packages/44/98/5b86278fbbf250d239ae0ecb724f8572af1c91f4a11edf4d36a206189440/colorama-0.4.4-py2.py3-none-any.whl\n",
            "Requirement already satisfied: numpy>=1.6 in /usr/local/lib/python3.7/dist-packages (from Konlpy) (1.19.5)\n",
            "Collecting JPype1>=0.7.0\n",
            "\u001b[?25l  Downloading https://files.pythonhosted.org/packages/98/88/f817ef1af6f794e8f11313dcd1549de833f4599abcec82746ab5ed086686/JPype1-1.3.0-cp37-cp37m-manylinux_2_5_x86_64.manylinux1_x86_64.whl (448kB)\n",
            "\u001b[K     |████████████████████████████████| 450kB 39.0MB/s \n",
            "\u001b[?25hRequirement already satisfied: requests-oauthlib>=0.7.0 in /usr/local/lib/python3.7/dist-packages (from tweepy>=3.7.0->Konlpy) (1.3.0)\n",
            "Requirement already satisfied: six>=1.10.0 in /usr/local/lib/python3.7/dist-packages (from tweepy>=3.7.0->Konlpy) (1.15.0)\n",
            "Requirement already satisfied: requests[socks]>=2.11.1 in /usr/local/lib/python3.7/dist-packages (from tweepy>=3.7.0->Konlpy) (2.23.0)\n",
            "Requirement already satisfied: typing-extensions; python_version < \"3.8\" in /usr/local/lib/python3.7/dist-packages (from JPype1>=0.7.0->Konlpy) (3.7.4.3)\n",
            "Requirement already satisfied: oauthlib>=3.0.0 in /usr/local/lib/python3.7/dist-packages (from requests-oauthlib>=0.7.0->tweepy>=3.7.0->Konlpy) (3.1.1)\n",
            "Requirement already satisfied: idna<3,>=2.5 in /usr/local/lib/python3.7/dist-packages (from requests[socks]>=2.11.1->tweepy>=3.7.0->Konlpy) (2.10)\n",
            "Requirement already satisfied: certifi>=2017.4.17 in /usr/local/lib/python3.7/dist-packages (from requests[socks]>=2.11.1->tweepy>=3.7.0->Konlpy) (2021.5.30)\n",
            "Requirement already satisfied: urllib3!=1.25.0,!=1.25.1,<1.26,>=1.21.1 in /usr/local/lib/python3.7/dist-packages (from requests[socks]>=2.11.1->tweepy>=3.7.0->Konlpy) (1.24.3)\n",
            "Requirement already satisfied: chardet<4,>=3.0.2 in /usr/local/lib/python3.7/dist-packages (from requests[socks]>=2.11.1->tweepy>=3.7.0->Konlpy) (3.0.4)\n",
            "Requirement already satisfied: PySocks!=1.5.7,>=1.5.6; extra == \"socks\" in /usr/local/lib/python3.7/dist-packages (from requests[socks]>=2.11.1->tweepy>=3.7.0->Konlpy) (1.7.1)\n",
            "Installing collected packages: beautifulsoup4, colorama, JPype1, Konlpy\n",
            "  Found existing installation: beautifulsoup4 4.6.3\n",
            "    Uninstalling beautifulsoup4-4.6.3:\n",
            "      Successfully uninstalled beautifulsoup4-4.6.3\n",
            "Successfully installed JPype1-1.3.0 Konlpy-0.5.2 beautifulsoup4-4.6.0 colorama-0.4.4\n"
          ],
          "name": "stdout"
        }
      ]
    },
    {
      "cell_type": "markdown",
      "metadata": {
        "id": "RnCI4lUGWwLf"
      },
      "source": [
        "### 데이터수집\n",
        "- 네이버 데이터를 로드\n",
        "- label(0:부정, 1:긍정)"
      ]
    },
    {
      "cell_type": "code",
      "metadata": {
        "id": "Jn9DoKjOW5uS"
      },
      "source": [
        "import pandas as pd"
      ],
      "execution_count": 5,
      "outputs": []
    },
    {
      "cell_type": "code",
      "metadata": {
        "id": "-mjJgX3iXOtw"
      },
      "source": [
        "df_train = pd.read_csv(\"/content/drive/MyDrive/Colab Notebooks/data/ratings_train.txt\", delimiter=\"\\t\")\n",
        "df_test = pd.read_csv(\"/content/drive/MyDrive/Colab Notebooks/data/ratings_test.txt\", delimiter=\"\\t\")\n",
        "# delimiter : 파일에서 데이터 사이의 간격을 구분해주는 구분자(설정하지 않으면, 로 구분)"
      ],
      "execution_count": 8,
      "outputs": []
    },
    {
      "cell_type": "code",
      "metadata": {
        "colab": {
          "base_uri": "https://localhost:8080/"
        },
        "id": "36OFoWNobk48",
        "outputId": "f5550557-ef0e-455b-c4f0-1533514466f0"
      },
      "source": [
        "# 컬럼의 너비를 최대치로 설정\n",
        "pd.set_option(\"display.max_colwidth\", -1)"
      ],
      "execution_count": 11,
      "outputs": [
        {
          "output_type": "stream",
          "text": [
            "/usr/local/lib/python3.7/dist-packages/ipykernel_launcher.py:2: FutureWarning: Passing a negative integer is deprecated in version 1.0 and will not be supported in future version. Instead, use None to not limit the column width.\n",
            "  \n"
          ],
          "name": "stderr"
        }
      ]
    },
    {
      "cell_type": "code",
      "metadata": {
        "colab": {
          "base_uri": "https://localhost:8080/",
          "height": 359
        },
        "id": "qaGdDbIFXs1l",
        "outputId": "b1151185-af4a-44d2-ac50-587d5c874bca"
      },
      "source": [
        "df_train.head(10)"
      ],
      "execution_count": 12,
      "outputs": [
        {
          "output_type": "execute_result",
          "data": {
            "text/html": [
              "<div>\n",
              "<style scoped>\n",
              "    .dataframe tbody tr th:only-of-type {\n",
              "        vertical-align: middle;\n",
              "    }\n",
              "\n",
              "    .dataframe tbody tr th {\n",
              "        vertical-align: top;\n",
              "    }\n",
              "\n",
              "    .dataframe thead th {\n",
              "        text-align: right;\n",
              "    }\n",
              "</style>\n",
              "<table border=\"1\" class=\"dataframe\">\n",
              "  <thead>\n",
              "    <tr style=\"text-align: right;\">\n",
              "      <th></th>\n",
              "      <th>id</th>\n",
              "      <th>document</th>\n",
              "      <th>label</th>\n",
              "    </tr>\n",
              "  </thead>\n",
              "  <tbody>\n",
              "    <tr>\n",
              "      <th>0</th>\n",
              "      <td>9976970</td>\n",
              "      <td>아 더빙.. 진짜 짜증나네요 목소리</td>\n",
              "      <td>0</td>\n",
              "    </tr>\n",
              "    <tr>\n",
              "      <th>1</th>\n",
              "      <td>3819312</td>\n",
              "      <td>흠...포스터보고 초딩영화줄....오버연기조차 가볍지 않구나</td>\n",
              "      <td>1</td>\n",
              "    </tr>\n",
              "    <tr>\n",
              "      <th>2</th>\n",
              "      <td>10265843</td>\n",
              "      <td>너무재밓었다그래서보는것을추천한다</td>\n",
              "      <td>0</td>\n",
              "    </tr>\n",
              "    <tr>\n",
              "      <th>3</th>\n",
              "      <td>9045019</td>\n",
              "      <td>교도소 이야기구먼 ..솔직히 재미는 없다..평점 조정</td>\n",
              "      <td>0</td>\n",
              "    </tr>\n",
              "    <tr>\n",
              "      <th>4</th>\n",
              "      <td>6483659</td>\n",
              "      <td>사이몬페그의 익살스런 연기가 돋보였던 영화!스파이더맨에서 늙어보이기만 했던 커스틴 던스트가 너무나도 이뻐보였다</td>\n",
              "      <td>1</td>\n",
              "    </tr>\n",
              "    <tr>\n",
              "      <th>5</th>\n",
              "      <td>5403919</td>\n",
              "      <td>막 걸음마 뗀 3세부터 초등학교 1학년생인 8살용영화.ㅋㅋㅋ...별반개도 아까움.</td>\n",
              "      <td>0</td>\n",
              "    </tr>\n",
              "    <tr>\n",
              "      <th>6</th>\n",
              "      <td>7797314</td>\n",
              "      <td>원작의 긴장감을 제대로 살려내지못했다.</td>\n",
              "      <td>0</td>\n",
              "    </tr>\n",
              "    <tr>\n",
              "      <th>7</th>\n",
              "      <td>9443947</td>\n",
              "      <td>별 반개도 아깝다 욕나온다 이응경 길용우 연기생활이몇년인지..정말 발로해도 그것보단 낫겟다 납치.감금만반복반복..이드라마는 가족도없다 연기못하는사람만모엿네</td>\n",
              "      <td>0</td>\n",
              "    </tr>\n",
              "    <tr>\n",
              "      <th>8</th>\n",
              "      <td>7156791</td>\n",
              "      <td>액션이 없는데도 재미 있는 몇안되는 영화</td>\n",
              "      <td>1</td>\n",
              "    </tr>\n",
              "    <tr>\n",
              "      <th>9</th>\n",
              "      <td>5912145</td>\n",
              "      <td>왜케 평점이 낮은건데? 꽤 볼만한데.. 헐리우드식 화려함에만 너무 길들여져 있나?</td>\n",
              "      <td>1</td>\n",
              "    </tr>\n",
              "  </tbody>\n",
              "</table>\n",
              "</div>"
            ],
            "text/plain": [
              "         id  ... label\n",
              "0  9976970   ...  0   \n",
              "1  3819312   ...  1   \n",
              "2  10265843  ...  0   \n",
              "3  9045019   ...  0   \n",
              "4  6483659   ...  1   \n",
              "5  5403919   ...  0   \n",
              "6  7797314   ...  0   \n",
              "7  9443947   ...  0   \n",
              "8  7156791   ...  1   \n",
              "9  5912145   ...  1   \n",
              "\n",
              "[10 rows x 3 columns]"
            ]
          },
          "metadata": {
            "tags": []
          },
          "execution_count": 12
        }
      ]
    },
    {
      "cell_type": "code",
      "metadata": {
        "colab": {
          "base_uri": "https://localhost:8080/",
          "height": 359
        },
        "id": "1pXyOuWpf9AA",
        "outputId": "33ec5f07-ec8e-499e-d15b-455bf9201670"
      },
      "source": [
        "df_test.head(10)"
      ],
      "execution_count": 23,
      "outputs": [
        {
          "output_type": "execute_result",
          "data": {
            "text/html": [
              "<div>\n",
              "<style scoped>\n",
              "    .dataframe tbody tr th:only-of-type {\n",
              "        vertical-align: middle;\n",
              "    }\n",
              "\n",
              "    .dataframe tbody tr th {\n",
              "        vertical-align: top;\n",
              "    }\n",
              "\n",
              "    .dataframe thead th {\n",
              "        text-align: right;\n",
              "    }\n",
              "</style>\n",
              "<table border=\"1\" class=\"dataframe\">\n",
              "  <thead>\n",
              "    <tr style=\"text-align: right;\">\n",
              "      <th></th>\n",
              "      <th>id</th>\n",
              "      <th>document</th>\n",
              "      <th>label</th>\n",
              "    </tr>\n",
              "  </thead>\n",
              "  <tbody>\n",
              "    <tr>\n",
              "      <th>0</th>\n",
              "      <td>6270596</td>\n",
              "      <td>굳 ㅋ</td>\n",
              "      <td>1</td>\n",
              "    </tr>\n",
              "    <tr>\n",
              "      <th>1</th>\n",
              "      <td>9274899</td>\n",
              "      <td>GDNTOPCLASSINTHECLUB</td>\n",
              "      <td>0</td>\n",
              "    </tr>\n",
              "    <tr>\n",
              "      <th>2</th>\n",
              "      <td>8544678</td>\n",
              "      <td>뭐야 이 평점들은.... 나쁘진 않지만 10점 짜리는 더더욱 아니잖아</td>\n",
              "      <td>0</td>\n",
              "    </tr>\n",
              "    <tr>\n",
              "      <th>3</th>\n",
              "      <td>6825595</td>\n",
              "      <td>지루하지는 않은데 완전 막장임... 돈주고 보기에는....</td>\n",
              "      <td>0</td>\n",
              "    </tr>\n",
              "    <tr>\n",
              "      <th>4</th>\n",
              "      <td>6723715</td>\n",
              "      <td>3D만 아니었어도 별 다섯 개 줬을텐데.. 왜 3D로 나와서 제 심기를 불편하게 하죠??</td>\n",
              "      <td>0</td>\n",
              "    </tr>\n",
              "    <tr>\n",
              "      <th>5</th>\n",
              "      <td>7898805</td>\n",
              "      <td>음악이 주가 된, 최고의 음악영화</td>\n",
              "      <td>1</td>\n",
              "    </tr>\n",
              "    <tr>\n",
              "      <th>6</th>\n",
              "      <td>6315043</td>\n",
              "      <td>진정한 쓰레기</td>\n",
              "      <td>0</td>\n",
              "    </tr>\n",
              "    <tr>\n",
              "      <th>7</th>\n",
              "      <td>6097171</td>\n",
              "      <td>마치 미국애니에서 튀어나온듯한 창의력없는 로봇디자인부터가,고개를 젖게한다</td>\n",
              "      <td>0</td>\n",
              "    </tr>\n",
              "    <tr>\n",
              "      <th>8</th>\n",
              "      <td>8932678</td>\n",
              "      <td>갈수록 개판되가는 중국영화 유치하고 내용없음 폼잡다 끝남 말도안되는 무기에 유치한cg남무 아 그립다 동사서독같은 영화가 이건 3류아류작이다</td>\n",
              "      <td>0</td>\n",
              "    </tr>\n",
              "    <tr>\n",
              "      <th>9</th>\n",
              "      <td>6242223</td>\n",
              "      <td>이별의 아픔뒤에 찾아오는 새로운 인연의 기쁨 But, 모든 사람이 그렇지는 않네..</td>\n",
              "      <td>1</td>\n",
              "    </tr>\n",
              "  </tbody>\n",
              "</table>\n",
              "</div>"
            ],
            "text/plain": [
              "        id  ... label\n",
              "0  6270596  ...  1   \n",
              "1  9274899  ...  0   \n",
              "2  8544678  ...  0   \n",
              "3  6825595  ...  0   \n",
              "4  6723715  ...  0   \n",
              "5  7898805  ...  1   \n",
              "6  6315043  ...  0   \n",
              "7  6097171  ...  0   \n",
              "8  8932678  ...  0   \n",
              "9  6242223  ...  1   \n",
              "\n",
              "[10 rows x 3 columns]"
            ]
          },
          "metadata": {
            "tags": []
          },
          "execution_count": 23
        }
      ]
    },
    {
      "cell_type": "code",
      "metadata": {
        "colab": {
          "base_uri": "https://localhost:8080/"
        },
        "id": "RUqSefFYbLTA",
        "outputId": "98c5f68f-8570-4832-ecfe-dddcf75fec59"
      },
      "source": [
        "df_train.info()"
      ],
      "execution_count": 13,
      "outputs": [
        {
          "output_type": "stream",
          "text": [
            "<class 'pandas.core.frame.DataFrame'>\n",
            "RangeIndex: 150000 entries, 0 to 149999\n",
            "Data columns (total 3 columns):\n",
            " #   Column    Non-Null Count   Dtype \n",
            "---  ------    --------------   ----- \n",
            " 0   id        150000 non-null  int64 \n",
            " 1   document  149995 non-null  object\n",
            " 2   label     150000 non-null  int64 \n",
            "dtypes: int64(2), object(1)\n",
            "memory usage: 3.4+ MB\n"
          ],
          "name": "stdout"
        }
      ]
    },
    {
      "cell_type": "code",
      "metadata": {
        "colab": {
          "base_uri": "https://localhost:8080/"
        },
        "id": "2-61uJxOb1Br",
        "outputId": "04da54fe-ba1e-4eb4-bc51-fe94040efd00"
      },
      "source": [
        "df_test.info()"
      ],
      "execution_count": 14,
      "outputs": [
        {
          "output_type": "stream",
          "text": [
            "<class 'pandas.core.frame.DataFrame'>\n",
            "RangeIndex: 50000 entries, 0 to 49999\n",
            "Data columns (total 3 columns):\n",
            " #   Column    Non-Null Count  Dtype \n",
            "---  ------    --------------  ----- \n",
            " 0   id        50000 non-null  int64 \n",
            " 1   document  49997 non-null  object\n",
            " 2   label     50000 non-null  int64 \n",
            "dtypes: int64(2), object(1)\n",
            "memory usage: 1.1+ MB\n"
          ],
          "name": "stdout"
        }
      ]
    },
    {
      "cell_type": "code",
      "metadata": {
        "colab": {
          "base_uri": "https://localhost:8080/",
          "height": 204
        },
        "id": "tt1Wr-4Hb3hM",
        "outputId": "72892d69-91d4-4a0f-bd81-730186af57f3"
      },
      "source": [
        "# train, test 데이터의 결측치가 있는 행을 불리언 인덱싱으로 확인해보자잇~!\n",
        "df_train[df_train[\"document\"].isnull()]"
      ],
      "execution_count": 17,
      "outputs": [
        {
          "output_type": "execute_result",
          "data": {
            "text/html": [
              "<div>\n",
              "<style scoped>\n",
              "    .dataframe tbody tr th:only-of-type {\n",
              "        vertical-align: middle;\n",
              "    }\n",
              "\n",
              "    .dataframe tbody tr th {\n",
              "        vertical-align: top;\n",
              "    }\n",
              "\n",
              "    .dataframe thead th {\n",
              "        text-align: right;\n",
              "    }\n",
              "</style>\n",
              "<table border=\"1\" class=\"dataframe\">\n",
              "  <thead>\n",
              "    <tr style=\"text-align: right;\">\n",
              "      <th></th>\n",
              "      <th>id</th>\n",
              "      <th>document</th>\n",
              "      <th>label</th>\n",
              "    </tr>\n",
              "  </thead>\n",
              "  <tbody>\n",
              "    <tr>\n",
              "      <th>25857</th>\n",
              "      <td>2172111</td>\n",
              "      <td>NaN</td>\n",
              "      <td>1</td>\n",
              "    </tr>\n",
              "    <tr>\n",
              "      <th>55737</th>\n",
              "      <td>6369843</td>\n",
              "      <td>NaN</td>\n",
              "      <td>1</td>\n",
              "    </tr>\n",
              "    <tr>\n",
              "      <th>110014</th>\n",
              "      <td>1034280</td>\n",
              "      <td>NaN</td>\n",
              "      <td>0</td>\n",
              "    </tr>\n",
              "    <tr>\n",
              "      <th>126782</th>\n",
              "      <td>5942978</td>\n",
              "      <td>NaN</td>\n",
              "      <td>0</td>\n",
              "    </tr>\n",
              "    <tr>\n",
              "      <th>140721</th>\n",
              "      <td>1034283</td>\n",
              "      <td>NaN</td>\n",
              "      <td>0</td>\n",
              "    </tr>\n",
              "  </tbody>\n",
              "</table>\n",
              "</div>"
            ],
            "text/plain": [
              "             id document  label\n",
              "25857   2172111  NaN      1    \n",
              "55737   6369843  NaN      1    \n",
              "110014  1034280  NaN      0    \n",
              "126782  5942978  NaN      0    \n",
              "140721  1034283  NaN      0    "
            ]
          },
          "metadata": {
            "tags": []
          },
          "execution_count": 17
        }
      ]
    },
    {
      "cell_type": "code",
      "metadata": {
        "colab": {
          "base_uri": "https://localhost:8080/",
          "height": 142
        },
        "id": "MX7OHcQddkzy",
        "outputId": "4db4ed1f-1a88-479b-87dc-9a0f0cd60140"
      },
      "source": [
        "df_test[df_test[\"document\"].isnull()]"
      ],
      "execution_count": 18,
      "outputs": [
        {
          "output_type": "execute_result",
          "data": {
            "text/html": [
              "<div>\n",
              "<style scoped>\n",
              "    .dataframe tbody tr th:only-of-type {\n",
              "        vertical-align: middle;\n",
              "    }\n",
              "\n",
              "    .dataframe tbody tr th {\n",
              "        vertical-align: top;\n",
              "    }\n",
              "\n",
              "    .dataframe thead th {\n",
              "        text-align: right;\n",
              "    }\n",
              "</style>\n",
              "<table border=\"1\" class=\"dataframe\">\n",
              "  <thead>\n",
              "    <tr style=\"text-align: right;\">\n",
              "      <th></th>\n",
              "      <th>id</th>\n",
              "      <th>document</th>\n",
              "      <th>label</th>\n",
              "    </tr>\n",
              "  </thead>\n",
              "  <tbody>\n",
              "    <tr>\n",
              "      <th>5746</th>\n",
              "      <td>402110</td>\n",
              "      <td>NaN</td>\n",
              "      <td>1</td>\n",
              "    </tr>\n",
              "    <tr>\n",
              "      <th>7899</th>\n",
              "      <td>5026896</td>\n",
              "      <td>NaN</td>\n",
              "      <td>0</td>\n",
              "    </tr>\n",
              "    <tr>\n",
              "      <th>27097</th>\n",
              "      <td>511097</td>\n",
              "      <td>NaN</td>\n",
              "      <td>1</td>\n",
              "    </tr>\n",
              "  </tbody>\n",
              "</table>\n",
              "</div>"
            ],
            "text/plain": [
              "            id document  label\n",
              "5746   402110   NaN      1    \n",
              "7899   5026896  NaN      0    \n",
              "27097  511097   NaN      1    "
            ]
          },
          "metadata": {
            "tags": []
          },
          "execution_count": 18
        }
      ]
    },
    {
      "cell_type": "code",
      "metadata": {
        "id": "5FTdnkuueytR"
      },
      "source": [
        "#결측치가 있는 행을 제거\n",
        "df_train.dropna(inplace=True)\n",
        "df_test.dropna(inplace=True)"
      ],
      "execution_count": 19,
      "outputs": []
    },
    {
      "cell_type": "code",
      "metadata": {
        "colab": {
          "base_uri": "https://localhost:8080/"
        },
        "id": "WXazZ6eQfM9X",
        "outputId": "cf4b2fed-9f2a-486c-dd8a-006673db4ad6"
      },
      "source": [
        "df_train.info()"
      ],
      "execution_count": 21,
      "outputs": [
        {
          "output_type": "stream",
          "text": [
            "<class 'pandas.core.frame.DataFrame'>\n",
            "Int64Index: 149995 entries, 0 to 149999\n",
            "Data columns (total 3 columns):\n",
            " #   Column    Non-Null Count   Dtype \n",
            "---  ------    --------------   ----- \n",
            " 0   id        149995 non-null  int64 \n",
            " 1   document  149995 non-null  object\n",
            " 2   label     149995 non-null  int64 \n",
            "dtypes: int64(2), object(1)\n",
            "memory usage: 4.6+ MB\n"
          ],
          "name": "stdout"
        }
      ]
    },
    {
      "cell_type": "code",
      "metadata": {
        "colab": {
          "base_uri": "https://localhost:8080/"
        },
        "id": "JyVSjjHAfQG1",
        "outputId": "2a17780e-187c-4186-83e9-b8bf3ced4ed8"
      },
      "source": [
        "df_test.info()"
      ],
      "execution_count": 22,
      "outputs": [
        {
          "output_type": "stream",
          "text": [
            "<class 'pandas.core.frame.DataFrame'>\n",
            "Int64Index: 49997 entries, 0 to 49999\n",
            "Data columns (total 3 columns):\n",
            " #   Column    Non-Null Count  Dtype \n",
            "---  ------    --------------  ----- \n",
            " 0   id        49997 non-null  int64 \n",
            " 1   document  49997 non-null  object\n",
            " 2   label     49997 non-null  int64 \n",
            "dtypes: int64(2), object(1)\n",
            "memory usage: 1.5+ MB\n"
          ],
          "name": "stdout"
        }
      ]
    },
    {
      "cell_type": "markdown",
      "metadata": {
        "id": "OFmLFpTHfZAu"
      },
      "source": [
        "- 문제/정답, 학습/평가 데이터 분리"
      ]
    },
    {
      "cell_type": "code",
      "metadata": {
        "id": "PS5guDt8f286"
      },
      "source": [
        "X_train = df_train[\"document\"]\n",
        "y_train = df_train[\"label\"]\n",
        "X_test = df_test[\"document\"]\n",
        "y_test = df_test[\"label\"]"
      ],
      "execution_count": 28,
      "outputs": []
    },
    {
      "cell_type": "code",
      "metadata": {
        "colab": {
          "base_uri": "https://localhost:8080/"
        },
        "id": "XRLr1ObNg5jZ",
        "outputId": "155bacc7-532a-4696-97b3-9a5ea642cdcd"
      },
      "source": [
        "print(X_train.shape)\n",
        "print(X_test.shape)\n",
        "print(y_train.shape)\n",
        "print(y_test.shape)"
      ],
      "execution_count": 30,
      "outputs": [
        {
          "output_type": "stream",
          "text": [
            "(149995,)\n",
            "(49997,)\n",
            "(149995,)\n",
            "(49997,)\n"
          ],
          "name": "stdout"
        }
      ]
    },
    {
      "cell_type": "markdown",
      "metadata": {
        "id": "qy2y9NpShrmS"
      },
      "source": [
        "### BOW 기법(단어사전 만들기)\n",
        "- 1. CounterVectorize(단순히 단어의 빈도만 파악)\n",
        "- 2. TF-IDF(단어의 빈도+ 단어가 등장하는 문서의 개수 둘다 파악)\n"
      ]
    },
    {
      "cell_type": "code",
      "metadata": {
        "id": "mzdzIhXng_L4"
      },
      "source": [
        "# TF-IDF를 판단하기 위해 TfidfVectorizer를 임포트\n",
        "from sklearn.feature_extraction.text import TfidfVectorizer"
      ],
      "execution_count": 34,
      "outputs": []
    },
    {
      "cell_type": "code",
      "metadata": {
        "id": "EVa8jS3yifwA"
      },
      "source": [
        "tf_idf_vect = TfidfVectorizer()\n",
        "# TfidfVectorizer의 디폴트값은 word(단어)기준으로 토큰화를 진행"
      ],
      "execution_count": 33,
      "outputs": []
    },
    {
      "cell_type": "code",
      "metadata": {
        "colab": {
          "base_uri": "https://localhost:8080/"
        },
        "id": "2Ul5weF3iob8",
        "outputId": "bdb853b0-2c78-4e94-fc34-c800674dc8c9"
      },
      "source": [
        "tf_idf_vect.fit(X_train[:3])\n",
        "# TF-IDF 방식으로 단어사전 만들기(학습)"
      ],
      "execution_count": 35,
      "outputs": [
        {
          "output_type": "execute_result",
          "data": {
            "text/plain": [
              "TfidfVectorizer(analyzer='word', binary=False, decode_error='strict',\n",
              "                dtype=<class 'numpy.float64'>, encoding='utf-8',\n",
              "                input='content', lowercase=True, max_df=1.0, max_features=None,\n",
              "                min_df=1, ngram_range=(1, 1), norm='l2', preprocessor=None,\n",
              "                smooth_idf=True, stop_words=None, strip_accents=None,\n",
              "                sublinear_tf=False, token_pattern='(?u)\\\\b\\\\w\\\\w+\\\\b',\n",
              "                tokenizer=None, use_idf=True, vocabulary=None)"
            ]
          },
          "metadata": {
            "tags": []
          },
          "execution_count": 35
        }
      ]
    },
    {
      "cell_type": "code",
      "metadata": {
        "colab": {
          "base_uri": "https://localhost:8080/"
        },
        "id": "ZrCcjHo3jMVe",
        "outputId": "2aa1f509-0e26-47b7-f35b-ced2b9a21d9f"
      },
      "source": [
        "# vocabulary_ : 토큰화 된 단어와 인덱스의 라벨을 확인\n",
        "tf_idf_vect.vocabulary_"
      ],
      "execution_count": 37,
      "outputs": [
        {
          "output_type": "execute_result",
          "data": {
            "text/plain": [
              "{'가볍지': 0,\n",
              " '너무재밓었다그래서보는것을추천한다': 1,\n",
              " '더빙': 2,\n",
              " '목소리': 3,\n",
              " '않구나': 4,\n",
              " '오버연기조차': 5,\n",
              " '진짜': 6,\n",
              " '짜증나네요': 7,\n",
              " '초딩영화줄': 8,\n",
              " '포스터보고': 9}"
            ]
          },
          "metadata": {
            "tags": []
          },
          "execution_count": 37
        }
      ]
    },
    {
      "cell_type": "markdown",
      "metadata": {
        "id": "QZpnJcJmkK3P"
      },
      "source": [
        "- 영어에 맞춰져 있어서 한글 텍스트에서는 토큰화가 제대로 이루어지고 있지 않음"
      ]
    },
    {
      "cell_type": "markdown",
      "metadata": {
        "id": "xug8EmnGkaFY"
      },
      "source": [
        "### 한글에 특화되어 있는 konlpy - Kkma(꼬꼬마) 사용하기"
      ]
    },
    {
      "cell_type": "code",
      "metadata": {
        "id": "TGdgS324jluh"
      },
      "source": [
        "# 한글을 형태소별로 잘 토큰화 할 수 있는 꼬꼬마 라이브러리를 불러오기\n",
        "from konlpy.tag import Kkma"
      ],
      "execution_count": 38,
      "outputs": []
    },
    {
      "cell_type": "code",
      "metadata": {
        "id": "jcaOly7slAsl"
      },
      "source": [
        "kkma = Kkma()"
      ],
      "execution_count": 39,
      "outputs": []
    },
    {
      "cell_type": "code",
      "metadata": {
        "colab": {
          "base_uri": "https://localhost:8080/"
        },
        "id": "-MJn0m7olOiU",
        "outputId": "3bec05dc-a3ed-453f-ef56-7e6a44b2fba6"
      },
      "source": [
        "# nouns : 명사만 토큰화 시켜보자!\n",
        "kkma.nouns(X_train[0])"
      ],
      "execution_count": 41,
      "outputs": [
        {
          "output_type": "execute_result",
          "data": {
            "text/plain": [
              "['더빙', '목소리']"
            ]
          },
          "metadata": {
            "tags": []
          },
          "execution_count": 41
        }
      ]
    },
    {
      "cell_type": "code",
      "metadata": {
        "colab": {
          "base_uri": "https://localhost:8080/"
        },
        "id": "XhqlzSFDp6nq",
        "outputId": "067a5f5d-e3d9-4934-c138-b3fad56fa933"
      },
      "source": [
        "kkma.nouns(\"지윤씨의 이상형은 가슴털이 수북한 전현무 스타일!\")"
      ],
      "execution_count": 42,
      "outputs": [
        {
          "output_type": "execute_result",
          "data": {
            "text/plain": [
              "['지', '지윤씨의', '윤씨의', '이상형', '가슴', '가슴털', '털', '전', '전현무', '현무', '스타일']"
            ]
          },
          "metadata": {
            "tags": []
          },
          "execution_count": 42
        }
      ]
    },
    {
      "cell_type": "code",
      "metadata": {
        "id": "1O_qM0mWqJN5"
      },
      "source": [
        "# 입력 문장이 들어왔을때 명사만 토큰화 시키는 함수를 선언\n",
        "def myTokenizer(text) :\n",
        "  return kkma.nouns(text)"
      ],
      "execution_count": 43,
      "outputs": []
    },
    {
      "cell_type": "code",
      "metadata": {
        "colab": {
          "base_uri": "https://localhost:8080/"
        },
        "id": "mdxH_5DaqWdq",
        "outputId": "377a0cd4-1353-40e0-d16f-0aa989449bc2"
      },
      "source": [
        "# kkma 라이브러리에 TF-IDF 방식을 활용해보자\n",
        "# tokenizer : 토큰의 단위를 지정, 디폴트 값은 word(단어)\n",
        "tf_idf_vect =TfidfVectorizer(tokenizer=myTokenizer)\n",
        "\n",
        "# 3개의 행에 대해서만 먼저 진행해보자\n",
        "tf_idf_vect.fit(X_train[:3])\n",
        "tf_idf_vect.vocabulary_"
      ],
      "execution_count": 45,
      "outputs": [
        {
          "output_type": "stream",
          "text": [
            "/usr/local/lib/python3.7/dist-packages/sklearn/feature_extraction/text.py:507: UserWarning: The parameter 'token_pattern' will not be used since 'tokenizer' is not None'\n",
            "  warnings.warn(\"The parameter 'token_pattern' will not be used\"\n"
          ],
          "name": "stderr"
        },
        {
          "output_type": "execute_result",
          "data": {
            "text/plain": [
              "{'더빙': 0,\n",
              " '딩': 1,\n",
              " '목소리': 2,\n",
              " '밓': 3,\n",
              " '보고': 4,\n",
              " '연기': 5,\n",
              " '영화': 6,\n",
              " '오버': 7,\n",
              " '오버연기': 8,\n",
              " '재': 9,\n",
              " '재밓': 10,\n",
              " '줄': 11,\n",
              " '초': 12,\n",
              " '초딩영화줄': 13,\n",
              " '추천': 14,\n",
              " '포스터': 15,\n",
              " '포스터보고': 16,\n",
              " '흠': 17}"
            ]
          },
          "metadata": {
            "tags": []
          },
          "execution_count": 45
        }
      ]
    },
    {
      "cell_type": "markdown",
      "metadata": {
        "id": "4PVLcMwpr3t4"
      },
      "source": [
        "### POS(Part of Speech) Tagging 활용\n",
        "- 문장을 토큰화 한 후 쪼개진 형태소에 품사를 부여하는 것"
      ]
    },
    {
      "cell_type": "code",
      "metadata": {
        "colab": {
          "base_uri": "https://localhost:8080/"
        },
        "id": "qrtjdfXLq0Ko",
        "outputId": "2fef78cc-0f0c-489a-be99-939c5a6bbd0a"
      },
      "source": [
        "# 한글에서는 형용사와 동사에 감정이 많이 들어가 있음\n",
        "data = \"먹는다 먹다 먹었다 이쁘다 아름답다 사진 모자\"\n",
        "# morphs : 텍스트(문장)를 형태소로 분리\n",
        "kkma.morphs(data)"
      ],
      "execution_count": 47,
      "outputs": [
        {
          "output_type": "execute_result",
          "data": {
            "text/plain": [
              "['먹', '는', '다', '먹', '다', '먹', '었', '다', '이쁘', '다', '아름답', '다', '사진', '모자']"
            ]
          },
          "metadata": {
            "tags": []
          },
          "execution_count": 47
        }
      ]
    },
    {
      "cell_type": "code",
      "metadata": {
        "colab": {
          "base_uri": "https://localhost:8080/"
        },
        "id": "BwnnVxTAswW7",
        "outputId": "8c92f052-dd5c-4e27-a142-18b8a9f7272d"
      },
      "source": [
        "# pos : 텍스트의 각 형태소에 품사 정보를 표시\n",
        "kkma.pos(data)"
      ],
      "execution_count": 48,
      "outputs": [
        {
          "output_type": "execute_result",
          "data": {
            "text/plain": [
              "[('먹', 'VV'),\n",
              " ('는', 'EPT'),\n",
              " ('다', 'ECS'),\n",
              " ('먹', 'VV'),\n",
              " ('다', 'ECS'),\n",
              " ('먹', 'VV'),\n",
              " ('었', 'EPT'),\n",
              " ('다', 'EFN'),\n",
              " ('이쁘', 'VA'),\n",
              " ('다', 'ECS'),\n",
              " ('아름답', 'VA'),\n",
              " ('다', 'ECS'),\n",
              " ('사진', 'NNG'),\n",
              " ('모자', 'NNG')]"
            ]
          },
          "metadata": {
            "tags": []
          },
          "execution_count": 48
        }
      ]
    },
    {
      "cell_type": "code",
      "metadata": {
        "id": "VxAaklCes8b4"
      },
      "source": [
        "kkma.tagset"
      ],
      "execution_count": null,
      "outputs": []
    },
    {
      "cell_type": "code",
      "metadata": {
        "id": "ZE2G3KJbtdbR"
      },
      "source": [
        "# 학습을 시키기 위해 데이터프레임화\n",
        "df = pd.DataFrame(kkma.pos(data), columns=[\"morph\", \"tag\"])\n",
        "df"
      ],
      "execution_count": null,
      "outputs": []
    },
    {
      "cell_type": "code",
      "metadata": {
        "colab": {
          "base_uri": "https://localhost:8080/",
          "height": 297
        },
        "id": "SXjQobjEtyGr",
        "outputId": "cfb16f59-cffe-4886-9c13-2893c9817ee2"
      },
      "source": [
        "# 데이터프레임에서 tag를 인덱스로 설정\n",
        "df.set_index(\"tag\", inplace=True)\n",
        "# 동사(VV), 형용사(VA), 보통명사(NNG)로 인덱싱\n",
        "df.loc[[\"VV\", \"VA\", \"NNG\"]]"
      ],
      "execution_count": 51,
      "outputs": [
        {
          "output_type": "execute_result",
          "data": {
            "text/html": [
              "<div>\n",
              "<style scoped>\n",
              "    .dataframe tbody tr th:only-of-type {\n",
              "        vertical-align: middle;\n",
              "    }\n",
              "\n",
              "    .dataframe tbody tr th {\n",
              "        vertical-align: top;\n",
              "    }\n",
              "\n",
              "    .dataframe thead th {\n",
              "        text-align: right;\n",
              "    }\n",
              "</style>\n",
              "<table border=\"1\" class=\"dataframe\">\n",
              "  <thead>\n",
              "    <tr style=\"text-align: right;\">\n",
              "      <th></th>\n",
              "      <th>morph</th>\n",
              "    </tr>\n",
              "    <tr>\n",
              "      <th>tag</th>\n",
              "      <th></th>\n",
              "    </tr>\n",
              "  </thead>\n",
              "  <tbody>\n",
              "    <tr>\n",
              "      <th>VV</th>\n",
              "      <td>먹</td>\n",
              "    </tr>\n",
              "    <tr>\n",
              "      <th>VV</th>\n",
              "      <td>먹</td>\n",
              "    </tr>\n",
              "    <tr>\n",
              "      <th>VV</th>\n",
              "      <td>먹</td>\n",
              "    </tr>\n",
              "    <tr>\n",
              "      <th>VA</th>\n",
              "      <td>이쁘</td>\n",
              "    </tr>\n",
              "    <tr>\n",
              "      <th>VA</th>\n",
              "      <td>아름답</td>\n",
              "    </tr>\n",
              "    <tr>\n",
              "      <th>NNG</th>\n",
              "      <td>사진</td>\n",
              "    </tr>\n",
              "    <tr>\n",
              "      <th>NNG</th>\n",
              "      <td>모자</td>\n",
              "    </tr>\n",
              "  </tbody>\n",
              "</table>\n",
              "</div>"
            ],
            "text/plain": [
              "    morph\n",
              "tag      \n",
              "VV   먹   \n",
              "VV   먹   \n",
              "VV   먹   \n",
              "VA   이쁘  \n",
              "VA   아름답 \n",
              "NNG  사진  \n",
              "NNG  모자  "
            ]
          },
          "metadata": {
            "tags": []
          },
          "execution_count": 51
        }
      ]
    },
    {
      "cell_type": "code",
      "metadata": {
        "id": "WICa8gKouVIn"
      },
      "source": [
        "# 입력 텍스트에 대해서 pos tagging을 진행하여 VV, VA, NNG값만 반환하는 함수를 선언\n",
        "def myTokenizer2(text) :\n",
        "  # 텍스트가 들어오면 데이터프레임으로 변경 후 품사를 인덱스로 설정\n",
        "  df = pd.DataFrame(kkma.pos(text), columns=[\"morph\", \"tag\"])\n",
        "  df.set_index(\"tag\", inplace=True)\n",
        "\n",
        "  # VV이거나 VA이거나 NNG일 때 그 값을 반환\n",
        "  if (\"VV\" in df.index) | (\"VA\" in df.index) | (\"NNG\" in df.index):\n",
        "    labels = [\"VV\", \"VA\", \"NNG\"]\n",
        "    # intersection() : 괄호안의 라벨들의 교집합까지 포함해서 배열로 변환\n",
        "    return df.loc[df.index.intersection(labels)][\"morph\"].values\n",
        "    # VV, VA, NNG가 아니라면 필요없기 때문에 빈 배열로 반환\n",
        "  else :\n",
        "    return []\n"
      ],
      "execution_count": 52,
      "outputs": []
    },
    {
      "cell_type": "code",
      "metadata": {
        "colab": {
          "base_uri": "https://localhost:8080/"
        },
        "id": "PGrJ5MdvwvfQ",
        "outputId": "a02da2a6-9733-471e-923c-577e4d10c817"
      },
      "source": [
        "# 감정 분석에 필요한 동사, 형용사, 보통명사만 추출하는 TF-IDF 백터라이저를 생성\n",
        "tf_idf_vect = TfidfVectorizer(tokenizer=myTokenizer2)\n",
        "tf_idf_vect.fit(X_train[:2])\n",
        "tf_idf_vect.vocabulary_"
      ],
      "execution_count": 53,
      "outputs": [
        {
          "output_type": "stream",
          "text": [
            "/usr/local/lib/python3.7/dist-packages/sklearn/feature_extraction/text.py:507: UserWarning: The parameter 'token_pattern' will not be used since 'tokenizer' is not None'\n",
            "  warnings.warn(\"The parameter 'token_pattern' will not be used\"\n"
          ],
          "name": "stderr"
        },
        {
          "output_type": "execute_result",
          "data": {
            "text/plain": [
              "{'가볍': 0,\n",
              " '더빙': 1,\n",
              " '목소리': 2,\n",
              " '보고': 3,\n",
              " '아': 4,\n",
              " '연기': 5,\n",
              " '영화': 6,\n",
              " '오버': 7,\n",
              " '줄': 8,\n",
              " '짜증나': 9,\n",
              " '포스터': 10,\n",
              " '흠': 11}"
            ]
          },
          "metadata": {
            "tags": []
          },
          "execution_count": 53
        }
      ]
    },
    {
      "cell_type": "code",
      "metadata": {
        "colab": {
          "base_uri": "https://localhost:8080/"
        },
        "id": "-fxo2TRmxv7k",
        "outputId": "96c6e5c0-71f5-4634-aba3-7821ad2b5ce7"
      },
      "source": [
        "final_tf_idf_vect = TfidfVectorizer(tokenizer=myTokenizer2)\n",
        "final_tf_idf_vect.fit(X_train[:3000])"
      ],
      "execution_count": 54,
      "outputs": [
        {
          "output_type": "stream",
          "text": [
            "/usr/local/lib/python3.7/dist-packages/sklearn/feature_extraction/text.py:507: UserWarning: The parameter 'token_pattern' will not be used since 'tokenizer' is not None'\n",
            "  warnings.warn(\"The parameter 'token_pattern' will not be used\"\n"
          ],
          "name": "stderr"
        },
        {
          "output_type": "execute_result",
          "data": {
            "text/plain": [
              "TfidfVectorizer(analyzer='word', binary=False, decode_error='strict',\n",
              "                dtype=<class 'numpy.float64'>, encoding='utf-8',\n",
              "                input='content', lowercase=True, max_df=1.0, max_features=None,\n",
              "                min_df=1, ngram_range=(1, 1), norm='l2', preprocessor=None,\n",
              "                smooth_idf=True, stop_words=None, strip_accents=None,\n",
              "                sublinear_tf=False, token_pattern='(?u)\\\\b\\\\w\\\\w+\\\\b',\n",
              "                tokenizer=<function myTokenizer2 at 0x7fc94c7f8830>,\n",
              "                use_idf=True, vocabulary=None)"
            ]
          },
          "metadata": {
            "tags": []
          },
          "execution_count": 54
        }
      ]
    },
    {
      "cell_type": "code",
      "metadata": {
        "colab": {
          "base_uri": "https://localhost:8080/"
        },
        "id": "OKxG3RdOyATP",
        "outputId": "052095f9-8ea7-47f0-e907-f60f9cb6fb4d"
      },
      "source": [
        "# 동사, 형용사, 일반명사만 추출하여 만들어진 단어모음의 개수\n",
        "len(final_tf_idf_vect.vocabulary_)"
      ],
      "execution_count": 55,
      "outputs": [
        {
          "output_type": "execute_result",
          "data": {
            "text/plain": [
              "4743"
            ]
          },
          "metadata": {
            "tags": []
          },
          "execution_count": 55
        }
      ]
    },
    {
      "cell_type": "code",
      "metadata": {
        "id": "cMocnBpXy3Hh"
      },
      "source": [
        "# 토큰화된 단어를 기계가 이해할 수 있도록 벡터형태로 수치화(transform)\n",
        "X_train = final_tf_idf_vect.transform(X_train[:3000])\n",
        "X_test = final_tf_idf_vect.transform(X_test[:3000])"
      ],
      "execution_count": 56,
      "outputs": []
    },
    {
      "cell_type": "code",
      "metadata": {
        "id": "dzDH8da1zIrm"
      },
      "source": [
        "from sklearn.linear_model import LogisticRegression"
      ],
      "execution_count": 57,
      "outputs": []
    },
    {
      "cell_type": "code",
      "metadata": {
        "colab": {
          "base_uri": "https://localhost:8080/"
        },
        "id": "BoCKRE03zWX9",
        "outputId": "94639792-7e2d-4f99-a183-3d897ebd4a01"
      },
      "source": [
        "logi = LogisticRegression()\n",
        "logi.fit(X_train, y_train[:3000])\n",
        "logi.score(X_test, y_test[:3000])"
      ],
      "execution_count": 58,
      "outputs": [
        {
          "output_type": "execute_result",
          "data": {
            "text/plain": [
              "0.7533333333333333"
            ]
          },
          "metadata": {
            "tags": []
          },
          "execution_count": 58
        }
      ]
    },
    {
      "cell_type": "code",
      "metadata": {
        "id": "GmLWVeWrzpBs"
      },
      "source": [
        ""
      ],
      "execution_count": null,
      "outputs": []
    }
  ]
}