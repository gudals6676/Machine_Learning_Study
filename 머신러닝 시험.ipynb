{
 "cells": [
  {
   "cell_type": "code",
   "execution_count": 1,
   "metadata": {},
   "outputs": [],
   "source": [
    "import numpy as np\n",
    "import matplotlib.pyplot as plt\n",
    "import pandas as pd\n",
    "# 머신러닝을 지원하는 sklearn 라이브러리 가져오기\n",
    "from sklearn.neighbors import KNeighborsClassifier\n",
    "# 평가 지표들을 활용할 수 있는 metrics 모듈을 불러오기\n",
    "from sklearn import metrics\n",
    "import tqdm\n",
    "from sklearn.metrics import accuracy_score\n",
    "from sklearn.model_selection import train_test_split#학습 평가 데이터 분리\n",
    "import seaborn as sns #matplot과 유사하게 시각화 라이브러리이지만 좀 더 깔끔함\n",
    "from sklearn.datasets import load_iris #붓꽃 iris\n",
    "from sklearn.tree import DecisionTreeClassifier #트리\n",
    "# !pip install seaborn\n",
    "# 손쉽게 레이블 인코딩을 하기 위해 레이블인코더를 임포트\n",
    "from sklearn.preprocessing import LabelEncoder\n",
    "#!pip install graphviz #시각화 외부라이브러리\n",
    "from sklearn.tree import export_graphviz\n",
    "from sklearn.preprocessing import StandardScaler #StandardScaler\n",
    "from sklearn.preprocessing import MinMaxScaler  #MinMaxScaler\n",
    "from sklearn.datasets import load_breast_cancer\n",
    "#!pip install jupyter_contrib_nbextensions && jupyter contrib nbextension install 목차보기\n",
    "from sklearn.model_selection import cross_val_score#교차검증 적용을 위해 임포트\n",
    "from sklearn.ensemble import RandomForestClassifier\n",
    "from sklearn.ensemble import VotingClassifier #앙상블 모델\n",
    "from sklearn.ensemble import AdaBoostClassifier # 에이다\n",
    "#!pip install xgboost #XG부스트\n",
    "#!pip install lightgbm #LightGBM\n",
    "from xgboost import XGBClassifier\n",
    "from lightgbm import LGBMClassifier\n",
    "# 빨간색 경고창 무시하기\n",
    "import warnings\n",
    "warnings.filterwarnings(action=\"ignore\")\n",
    "from sklearn.model_selection import train_test_split #트레인테스트 스플릿\n",
    "from sklearn.model_selection import GridSearchCV # 그리드서치\n",
    "from sklearn.model_selection import KFold # cv = kfold\n",
    "from sklearn.datasets import make_classification\n",
    "from sklearn.linear_model import LinearRegression#선형회귀 모델 임포트\n",
    "from sklearn.datasets import load_boston #학습용 보스턴 집 값 데이터를 임포트\n",
    "from sklearn.metrics import mean_squared_error # mse\n",
    "from sklearn.linear_model import Lasso # Lasso 임포트\n",
    "from sklearn.linear_model import Ridge # Ridge 임포트\n",
    "from sklearn.linear_model import LogisticRegression #로지스틱 임포트\n",
    "# 한글을 쓰기 위한 코드\n",
    "from matplotlib import font_manager, rc\n",
    "font_name = font_manager.FontProperties(fname =\"c:/Windows/Fonts/malgun.ttf\").get_name()\n",
    "rc('font', family = font_name)"
   ]
  },
  {
   "cell_type": "markdown",
   "metadata": {},
   "source": [
    "### 1번문제"
   ]
  },
  {
   "cell_type": "code",
   "execution_count": 2,
   "metadata": {},
   "outputs": [],
   "source": [
    "# 1 - 1\n",
    "# 지도 : 분류(비만도, 이진분류, 다중분류), 회귀(건축년도)\n",
    "# 비지도 : 군집, 시각화, 차원\n",
    "# 1 - 2\n",
    "# 순서 : ㅁ - ㄱ - ㄷ - ㄴ - ㄹ"
   ]
  },
  {
   "cell_type": "markdown",
   "metadata": {},
   "source": [
    "### 2번 문제"
   ]
  },
  {
   "cell_type": "markdown",
   "metadata": {},
   "source": [
    "#### "
   ]
  },
  {
   "cell_type": "code",
   "execution_count": null,
   "metadata": {},
   "outputs": [],
   "source": [
    "#ㄱ :a\n",
    "#ㄴ :b\n",
    "#ㄷ :a\n",
    "#ㄹ :b"
   ]
  },
  {
   "cell_type": "markdown",
   "metadata": {},
   "source": [
    "### 3번"
   ]
  },
  {
   "cell_type": "markdown",
   "metadata": {},
   "source": [
    "#### "
   ]
  },
  {
   "cell_type": "code",
   "execution_count": 3,
   "metadata": {},
   "outputs": [],
   "source": [
    "# 지도학습(회귀)"
   ]
  },
  {
   "cell_type": "markdown",
   "metadata": {},
   "source": [
    "#### "
   ]
  },
  {
   "cell_type": "code",
   "execution_count": 4,
   "metadata": {},
   "outputs": [],
   "source": [
    "# 비지도학습"
   ]
  },
  {
   "cell_type": "markdown",
   "metadata": {},
   "source": [
    "### 4번"
   ]
  },
  {
   "cell_type": "markdown",
   "metadata": {},
   "source": [
    "#### "
   ]
  },
  {
   "cell_type": "code",
   "execution_count": 5,
   "metadata": {},
   "outputs": [],
   "source": [
    "# 평균제곱오차가 가장 적어서(낮아서)?"
   ]
  },
  {
   "cell_type": "markdown",
   "metadata": {},
   "source": [
    "#### "
   ]
  },
  {
   "cell_type": "code",
   "execution_count": 6,
   "metadata": {},
   "outputs": [],
   "source": [
    "# 과대적합"
   ]
  },
  {
   "cell_type": "markdown",
   "metadata": {},
   "source": [
    "#### "
   ]
  },
  {
   "cell_type": "code",
   "execution_count": 7,
   "metadata": {},
   "outputs": [],
   "source": [
    "# 7 : 3"
   ]
  },
  {
   "cell_type": "markdown",
   "metadata": {},
   "source": [
    "### 5번"
   ]
  },
  {
   "cell_type": "markdown",
   "metadata": {},
   "source": [
    "#### "
   ]
  },
  {
   "cell_type": "code",
   "execution_count": 9,
   "metadata": {},
   "outputs": [],
   "source": [
    "# 과대,과소 적합이 되기 쉽고, 정확도 판단하기에 어려움(모델 성능 평가하기 어려움)."
   ]
  },
  {
   "cell_type": "markdown",
   "metadata": {},
   "source": [
    "### 6번"
   ]
  },
  {
   "cell_type": "markdown",
   "metadata": {},
   "source": [
    "#### "
   ]
  },
  {
   "cell_type": "code",
   "execution_count": 10,
   "metadata": {},
   "outputs": [],
   "source": [
    "# 반복적으로 모델을 튜닝하다보면 test set이 과적합이 되어버리는 경우가 생기기 때문에 그를 해결하기 위해 교차검증을 함."
   ]
  },
  {
   "cell_type": "markdown",
   "metadata": {},
   "source": [
    "#### "
   ]
  },
  {
   "cell_type": "code",
   "execution_count": 12,
   "metadata": {},
   "outputs": [
    {
     "data": {
      "text/plain": [
       "{'data': array([[5.1, 3.5, 1.4, 0.2],\n",
       "        [4.9, 3. , 1.4, 0.2],\n",
       "        [4.7, 3.2, 1.3, 0.2],\n",
       "        [4.6, 3.1, 1.5, 0.2],\n",
       "        [5. , 3.6, 1.4, 0.2],\n",
       "        [5.4, 3.9, 1.7, 0.4],\n",
       "        [4.6, 3.4, 1.4, 0.3],\n",
       "        [5. , 3.4, 1.5, 0.2],\n",
       "        [4.4, 2.9, 1.4, 0.2],\n",
       "        [4.9, 3.1, 1.5, 0.1],\n",
       "        [5.4, 3.7, 1.5, 0.2],\n",
       "        [4.8, 3.4, 1.6, 0.2],\n",
       "        [4.8, 3. , 1.4, 0.1],\n",
       "        [4.3, 3. , 1.1, 0.1],\n",
       "        [5.8, 4. , 1.2, 0.2],\n",
       "        [5.7, 4.4, 1.5, 0.4],\n",
       "        [5.4, 3.9, 1.3, 0.4],\n",
       "        [5.1, 3.5, 1.4, 0.3],\n",
       "        [5.7, 3.8, 1.7, 0.3],\n",
       "        [5.1, 3.8, 1.5, 0.3],\n",
       "        [5.4, 3.4, 1.7, 0.2],\n",
       "        [5.1, 3.7, 1.5, 0.4],\n",
       "        [4.6, 3.6, 1. , 0.2],\n",
       "        [5.1, 3.3, 1.7, 0.5],\n",
       "        [4.8, 3.4, 1.9, 0.2],\n",
       "        [5. , 3. , 1.6, 0.2],\n",
       "        [5. , 3.4, 1.6, 0.4],\n",
       "        [5.2, 3.5, 1.5, 0.2],\n",
       "        [5.2, 3.4, 1.4, 0.2],\n",
       "        [4.7, 3.2, 1.6, 0.2],\n",
       "        [4.8, 3.1, 1.6, 0.2],\n",
       "        [5.4, 3.4, 1.5, 0.4],\n",
       "        [5.2, 4.1, 1.5, 0.1],\n",
       "        [5.5, 4.2, 1.4, 0.2],\n",
       "        [4.9, 3.1, 1.5, 0.2],\n",
       "        [5. , 3.2, 1.2, 0.2],\n",
       "        [5.5, 3.5, 1.3, 0.2],\n",
       "        [4.9, 3.6, 1.4, 0.1],\n",
       "        [4.4, 3. , 1.3, 0.2],\n",
       "        [5.1, 3.4, 1.5, 0.2],\n",
       "        [5. , 3.5, 1.3, 0.3],\n",
       "        [4.5, 2.3, 1.3, 0.3],\n",
       "        [4.4, 3.2, 1.3, 0.2],\n",
       "        [5. , 3.5, 1.6, 0.6],\n",
       "        [5.1, 3.8, 1.9, 0.4],\n",
       "        [4.8, 3. , 1.4, 0.3],\n",
       "        [5.1, 3.8, 1.6, 0.2],\n",
       "        [4.6, 3.2, 1.4, 0.2],\n",
       "        [5.3, 3.7, 1.5, 0.2],\n",
       "        [5. , 3.3, 1.4, 0.2],\n",
       "        [7. , 3.2, 4.7, 1.4],\n",
       "        [6.4, 3.2, 4.5, 1.5],\n",
       "        [6.9, 3.1, 4.9, 1.5],\n",
       "        [5.5, 2.3, 4. , 1.3],\n",
       "        [6.5, 2.8, 4.6, 1.5],\n",
       "        [5.7, 2.8, 4.5, 1.3],\n",
       "        [6.3, 3.3, 4.7, 1.6],\n",
       "        [4.9, 2.4, 3.3, 1. ],\n",
       "        [6.6, 2.9, 4.6, 1.3],\n",
       "        [5.2, 2.7, 3.9, 1.4],\n",
       "        [5. , 2. , 3.5, 1. ],\n",
       "        [5.9, 3. , 4.2, 1.5],\n",
       "        [6. , 2.2, 4. , 1. ],\n",
       "        [6.1, 2.9, 4.7, 1.4],\n",
       "        [5.6, 2.9, 3.6, 1.3],\n",
       "        [6.7, 3.1, 4.4, 1.4],\n",
       "        [5.6, 3. , 4.5, 1.5],\n",
       "        [5.8, 2.7, 4.1, 1. ],\n",
       "        [6.2, 2.2, 4.5, 1.5],\n",
       "        [5.6, 2.5, 3.9, 1.1],\n",
       "        [5.9, 3.2, 4.8, 1.8],\n",
       "        [6.1, 2.8, 4. , 1.3],\n",
       "        [6.3, 2.5, 4.9, 1.5],\n",
       "        [6.1, 2.8, 4.7, 1.2],\n",
       "        [6.4, 2.9, 4.3, 1.3],\n",
       "        [6.6, 3. , 4.4, 1.4],\n",
       "        [6.8, 2.8, 4.8, 1.4],\n",
       "        [6.7, 3. , 5. , 1.7],\n",
       "        [6. , 2.9, 4.5, 1.5],\n",
       "        [5.7, 2.6, 3.5, 1. ],\n",
       "        [5.5, 2.4, 3.8, 1.1],\n",
       "        [5.5, 2.4, 3.7, 1. ],\n",
       "        [5.8, 2.7, 3.9, 1.2],\n",
       "        [6. , 2.7, 5.1, 1.6],\n",
       "        [5.4, 3. , 4.5, 1.5],\n",
       "        [6. , 3.4, 4.5, 1.6],\n",
       "        [6.7, 3.1, 4.7, 1.5],\n",
       "        [6.3, 2.3, 4.4, 1.3],\n",
       "        [5.6, 3. , 4.1, 1.3],\n",
       "        [5.5, 2.5, 4. , 1.3],\n",
       "        [5.5, 2.6, 4.4, 1.2],\n",
       "        [6.1, 3. , 4.6, 1.4],\n",
       "        [5.8, 2.6, 4. , 1.2],\n",
       "        [5. , 2.3, 3.3, 1. ],\n",
       "        [5.6, 2.7, 4.2, 1.3],\n",
       "        [5.7, 3. , 4.2, 1.2],\n",
       "        [5.7, 2.9, 4.2, 1.3],\n",
       "        [6.2, 2.9, 4.3, 1.3],\n",
       "        [5.1, 2.5, 3. , 1.1],\n",
       "        [5.7, 2.8, 4.1, 1.3],\n",
       "        [6.3, 3.3, 6. , 2.5],\n",
       "        [5.8, 2.7, 5.1, 1.9],\n",
       "        [7.1, 3. , 5.9, 2.1],\n",
       "        [6.3, 2.9, 5.6, 1.8],\n",
       "        [6.5, 3. , 5.8, 2.2],\n",
       "        [7.6, 3. , 6.6, 2.1],\n",
       "        [4.9, 2.5, 4.5, 1.7],\n",
       "        [7.3, 2.9, 6.3, 1.8],\n",
       "        [6.7, 2.5, 5.8, 1.8],\n",
       "        [7.2, 3.6, 6.1, 2.5],\n",
       "        [6.5, 3.2, 5.1, 2. ],\n",
       "        [6.4, 2.7, 5.3, 1.9],\n",
       "        [6.8, 3. , 5.5, 2.1],\n",
       "        [5.7, 2.5, 5. , 2. ],\n",
       "        [5.8, 2.8, 5.1, 2.4],\n",
       "        [6.4, 3.2, 5.3, 2.3],\n",
       "        [6.5, 3. , 5.5, 1.8],\n",
       "        [7.7, 3.8, 6.7, 2.2],\n",
       "        [7.7, 2.6, 6.9, 2.3],\n",
       "        [6. , 2.2, 5. , 1.5],\n",
       "        [6.9, 3.2, 5.7, 2.3],\n",
       "        [5.6, 2.8, 4.9, 2. ],\n",
       "        [7.7, 2.8, 6.7, 2. ],\n",
       "        [6.3, 2.7, 4.9, 1.8],\n",
       "        [6.7, 3.3, 5.7, 2.1],\n",
       "        [7.2, 3.2, 6. , 1.8],\n",
       "        [6.2, 2.8, 4.8, 1.8],\n",
       "        [6.1, 3. , 4.9, 1.8],\n",
       "        [6.4, 2.8, 5.6, 2.1],\n",
       "        [7.2, 3. , 5.8, 1.6],\n",
       "        [7.4, 2.8, 6.1, 1.9],\n",
       "        [7.9, 3.8, 6.4, 2. ],\n",
       "        [6.4, 2.8, 5.6, 2.2],\n",
       "        [6.3, 2.8, 5.1, 1.5],\n",
       "        [6.1, 2.6, 5.6, 1.4],\n",
       "        [7.7, 3. , 6.1, 2.3],\n",
       "        [6.3, 3.4, 5.6, 2.4],\n",
       "        [6.4, 3.1, 5.5, 1.8],\n",
       "        [6. , 3. , 4.8, 1.8],\n",
       "        [6.9, 3.1, 5.4, 2.1],\n",
       "        [6.7, 3.1, 5.6, 2.4],\n",
       "        [6.9, 3.1, 5.1, 2.3],\n",
       "        [5.8, 2.7, 5.1, 1.9],\n",
       "        [6.8, 3.2, 5.9, 2.3],\n",
       "        [6.7, 3.3, 5.7, 2.5],\n",
       "        [6.7, 3. , 5.2, 2.3],\n",
       "        [6.3, 2.5, 5. , 1.9],\n",
       "        [6.5, 3. , 5.2, 2. ],\n",
       "        [6.2, 3.4, 5.4, 2.3],\n",
       "        [5.9, 3. , 5.1, 1.8]]),\n",
       " 'target': array([0, 0, 0, 0, 0, 0, 0, 0, 0, 0, 0, 0, 0, 0, 0, 0, 0, 0, 0, 0, 0, 0,\n",
       "        0, 0, 0, 0, 0, 0, 0, 0, 0, 0, 0, 0, 0, 0, 0, 0, 0, 0, 0, 0, 0, 0,\n",
       "        0, 0, 0, 0, 0, 0, 1, 1, 1, 1, 1, 1, 1, 1, 1, 1, 1, 1, 1, 1, 1, 1,\n",
       "        1, 1, 1, 1, 1, 1, 1, 1, 1, 1, 1, 1, 1, 1, 1, 1, 1, 1, 1, 1, 1, 1,\n",
       "        1, 1, 1, 1, 1, 1, 1, 1, 1, 1, 1, 1, 2, 2, 2, 2, 2, 2, 2, 2, 2, 2,\n",
       "        2, 2, 2, 2, 2, 2, 2, 2, 2, 2, 2, 2, 2, 2, 2, 2, 2, 2, 2, 2, 2, 2,\n",
       "        2, 2, 2, 2, 2, 2, 2, 2, 2, 2, 2, 2, 2, 2, 2, 2, 2, 2]),\n",
       " 'frame': None,\n",
       " 'target_names': array(['setosa', 'versicolor', 'virginica'], dtype='<U10'),\n",
       " 'DESCR': '.. _iris_dataset:\\n\\nIris plants dataset\\n--------------------\\n\\n**Data Set Characteristics:**\\n\\n    :Number of Instances: 150 (50 in each of three classes)\\n    :Number of Attributes: 4 numeric, predictive attributes and the class\\n    :Attribute Information:\\n        - sepal length in cm\\n        - sepal width in cm\\n        - petal length in cm\\n        - petal width in cm\\n        - class:\\n                - Iris-Setosa\\n                - Iris-Versicolour\\n                - Iris-Virginica\\n                \\n    :Summary Statistics:\\n\\n    ============== ==== ==== ======= ===== ====================\\n                    Min  Max   Mean    SD   Class Correlation\\n    ============== ==== ==== ======= ===== ====================\\n    sepal length:   4.3  7.9   5.84   0.83    0.7826\\n    sepal width:    2.0  4.4   3.05   0.43   -0.4194\\n    petal length:   1.0  6.9   3.76   1.76    0.9490  (high!)\\n    petal width:    0.1  2.5   1.20   0.76    0.9565  (high!)\\n    ============== ==== ==== ======= ===== ====================\\n\\n    :Missing Attribute Values: None\\n    :Class Distribution: 33.3% for each of 3 classes.\\n    :Creator: R.A. Fisher\\n    :Donor: Michael Marshall (MARSHALL%PLU@io.arc.nasa.gov)\\n    :Date: July, 1988\\n\\nThe famous Iris database, first used by Sir R.A. Fisher. The dataset is taken\\nfrom Fisher\\'s paper. Note that it\\'s the same as in R, but not as in the UCI\\nMachine Learning Repository, which has two wrong data points.\\n\\nThis is perhaps the best known database to be found in the\\npattern recognition literature.  Fisher\\'s paper is a classic in the field and\\nis referenced frequently to this day.  (See Duda & Hart, for example.)  The\\ndata set contains 3 classes of 50 instances each, where each class refers to a\\ntype of iris plant.  One class is linearly separable from the other 2; the\\nlatter are NOT linearly separable from each other.\\n\\n.. topic:: References\\n\\n   - Fisher, R.A. \"The use of multiple measurements in taxonomic problems\"\\n     Annual Eugenics, 7, Part II, 179-188 (1936); also in \"Contributions to\\n     Mathematical Statistics\" (John Wiley, NY, 1950).\\n   - Duda, R.O., & Hart, P.E. (1973) Pattern Classification and Scene Analysis.\\n     (Q327.D83) John Wiley & Sons.  ISBN 0-471-22361-1.  See page 218.\\n   - Dasarathy, B.V. (1980) \"Nosing Around the Neighborhood: A New System\\n     Structure and Classification Rule for Recognition in Partially Exposed\\n     Environments\".  IEEE Transactions on Pattern Analysis and Machine\\n     Intelligence, Vol. PAMI-2, No. 1, 67-71.\\n   - Gates, G.W. (1972) \"The Reduced Nearest Neighbor Rule\".  IEEE Transactions\\n     on Information Theory, May 1972, 431-433.\\n   - See also: 1988 MLC Proceedings, 54-64.  Cheeseman et al\"s AUTOCLASS II\\n     conceptual clustering system finds 3 classes in the data.\\n   - Many, many more ...',\n",
       " 'feature_names': ['sepal length (cm)',\n",
       "  'sepal width (cm)',\n",
       "  'petal length (cm)',\n",
       "  'petal width (cm)'],\n",
       " 'filename': 'C:\\\\Users\\\\21SMT17\\\\anaconda3\\\\lib\\\\site-packages\\\\sklearn\\\\datasets\\\\data\\\\iris.csv'}"
      ]
     },
     "execution_count": 12,
     "metadata": {},
     "output_type": "execute_result"
    }
   ],
   "source": [
    "iris = load_iris()\n",
    "iris"
   ]
  },
  {
   "cell_type": "code",
   "execution_count": 14,
   "metadata": {},
   "outputs": [],
   "source": [
    "iris_df = pd.DataFrame(iris[\"data\"], columns= iris[\"feature_names\"])"
   ]
  },
  {
   "cell_type": "code",
   "execution_count": 15,
   "metadata": {},
   "outputs": [
    {
     "data": {
      "text/html": [
       "<div>\n",
       "<style scoped>\n",
       "    .dataframe tbody tr th:only-of-type {\n",
       "        vertical-align: middle;\n",
       "    }\n",
       "\n",
       "    .dataframe tbody tr th {\n",
       "        vertical-align: top;\n",
       "    }\n",
       "\n",
       "    .dataframe thead th {\n",
       "        text-align: right;\n",
       "    }\n",
       "</style>\n",
       "<table border=\"1\" class=\"dataframe\">\n",
       "  <thead>\n",
       "    <tr style=\"text-align: right;\">\n",
       "      <th></th>\n",
       "      <th>sepal length (cm)</th>\n",
       "      <th>sepal width (cm)</th>\n",
       "      <th>petal length (cm)</th>\n",
       "      <th>petal width (cm)</th>\n",
       "    </tr>\n",
       "  </thead>\n",
       "  <tbody>\n",
       "    <tr>\n",
       "      <th>0</th>\n",
       "      <td>5.1</td>\n",
       "      <td>3.5</td>\n",
       "      <td>1.4</td>\n",
       "      <td>0.2</td>\n",
       "    </tr>\n",
       "    <tr>\n",
       "      <th>1</th>\n",
       "      <td>4.9</td>\n",
       "      <td>3.0</td>\n",
       "      <td>1.4</td>\n",
       "      <td>0.2</td>\n",
       "    </tr>\n",
       "    <tr>\n",
       "      <th>2</th>\n",
       "      <td>4.7</td>\n",
       "      <td>3.2</td>\n",
       "      <td>1.3</td>\n",
       "      <td>0.2</td>\n",
       "    </tr>\n",
       "    <tr>\n",
       "      <th>3</th>\n",
       "      <td>4.6</td>\n",
       "      <td>3.1</td>\n",
       "      <td>1.5</td>\n",
       "      <td>0.2</td>\n",
       "    </tr>\n",
       "    <tr>\n",
       "      <th>4</th>\n",
       "      <td>5.0</td>\n",
       "      <td>3.6</td>\n",
       "      <td>1.4</td>\n",
       "      <td>0.2</td>\n",
       "    </tr>\n",
       "    <tr>\n",
       "      <th>...</th>\n",
       "      <td>...</td>\n",
       "      <td>...</td>\n",
       "      <td>...</td>\n",
       "      <td>...</td>\n",
       "    </tr>\n",
       "    <tr>\n",
       "      <th>145</th>\n",
       "      <td>6.7</td>\n",
       "      <td>3.0</td>\n",
       "      <td>5.2</td>\n",
       "      <td>2.3</td>\n",
       "    </tr>\n",
       "    <tr>\n",
       "      <th>146</th>\n",
       "      <td>6.3</td>\n",
       "      <td>2.5</td>\n",
       "      <td>5.0</td>\n",
       "      <td>1.9</td>\n",
       "    </tr>\n",
       "    <tr>\n",
       "      <th>147</th>\n",
       "      <td>6.5</td>\n",
       "      <td>3.0</td>\n",
       "      <td>5.2</td>\n",
       "      <td>2.0</td>\n",
       "    </tr>\n",
       "    <tr>\n",
       "      <th>148</th>\n",
       "      <td>6.2</td>\n",
       "      <td>3.4</td>\n",
       "      <td>5.4</td>\n",
       "      <td>2.3</td>\n",
       "    </tr>\n",
       "    <tr>\n",
       "      <th>149</th>\n",
       "      <td>5.9</td>\n",
       "      <td>3.0</td>\n",
       "      <td>5.1</td>\n",
       "      <td>1.8</td>\n",
       "    </tr>\n",
       "  </tbody>\n",
       "</table>\n",
       "<p>150 rows × 4 columns</p>\n",
       "</div>"
      ],
      "text/plain": [
       "     sepal length (cm)  sepal width (cm)  petal length (cm)  petal width (cm)\n",
       "0                  5.1               3.5                1.4               0.2\n",
       "1                  4.9               3.0                1.4               0.2\n",
       "2                  4.7               3.2                1.3               0.2\n",
       "3                  4.6               3.1                1.5               0.2\n",
       "4                  5.0               3.6                1.4               0.2\n",
       "..                 ...               ...                ...               ...\n",
       "145                6.7               3.0                5.2               2.3\n",
       "146                6.3               2.5                5.0               1.9\n",
       "147                6.5               3.0                5.2               2.0\n",
       "148                6.2               3.4                5.4               2.3\n",
       "149                5.9               3.0                5.1               1.8\n",
       "\n",
       "[150 rows x 4 columns]"
      ]
     },
     "execution_count": 15,
     "metadata": {},
     "output_type": "execute_result"
    }
   ],
   "source": [
    "iris_df"
   ]
  },
  {
   "cell_type": "code",
   "execution_count": 16,
   "metadata": {},
   "outputs": [],
   "source": [
    "X = iris_df\n",
    "y = iris[\"target\"]"
   ]
  },
  {
   "cell_type": "code",
   "execution_count": 17,
   "metadata": {},
   "outputs": [
    {
     "name": "stdout",
     "output_type": "stream",
     "text": [
      "(150, 4)\n",
      "(150,)\n"
     ]
    }
   ],
   "source": [
    "print(X.shape)\n",
    "print(y.shape)"
   ]
  },
  {
   "cell_type": "code",
   "execution_count": 18,
   "metadata": {},
   "outputs": [],
   "source": [
    "X_train, X_test, y_train, y_test = train_test_split(X, y,\n",
    "                                                    test_size = 0.3,\n",
    "                                                    random_state = 10\n",
    "                                                   )"
   ]
  },
  {
   "cell_type": "code",
   "execution_count": 19,
   "metadata": {},
   "outputs": [],
   "source": [
    "knn_model = KNeighborsClassifier(n_neighbors=3) "
   ]
  },
  {
   "cell_type": "code",
   "execution_count": 20,
   "metadata": {},
   "outputs": [
    {
     "data": {
      "text/plain": [
       "KNeighborsClassifier(n_neighbors=3)"
      ]
     },
     "execution_count": 20,
     "metadata": {},
     "output_type": "execute_result"
    }
   ],
   "source": [
    "knn_model.fit(X_train, y_train)"
   ]
  },
  {
   "cell_type": "code",
   "execution_count": 24,
   "metadata": {},
   "outputs": [],
   "source": [
    "scaler = StandardScaler()"
   ]
  },
  {
   "cell_type": "code",
   "execution_count": 25,
   "metadata": {},
   "outputs": [],
   "source": [
    "knn_train = scaler.fit_transform(X_train)"
   ]
  },
  {
   "cell_type": "code",
   "execution_count": 26,
   "metadata": {
    "scrolled": false
   },
   "outputs": [
    {
     "data": {
      "text/plain": [
       "array([[-0.78847931,  2.2916743 , -1.25456793, -1.40976967],\n",
       "       [ 1.29661042,  0.0322771 ,  0.66355092,  0.41288769],\n",
       "       [ 0.07008705,  0.25821682,  0.60713566,  0.80345712],\n",
       "       [-0.29786996, -0.64554206,  0.66355092,  1.06383675],\n",
       "       [ 1.05130574,  0.48415654,  1.114873  ,  1.7147858 ],\n",
       "       [ 0.43804406, -2.00118037,  0.43788988,  0.41288769],\n",
       "       [ 1.66456743,  1.1619757 ,  1.34053404,  1.7147858 ],\n",
       "       [-0.4205223 , -1.54930093, -0.0134322 , -0.23806137],\n",
       "       [ 0.19273939, -0.41960234,  0.43788988,  0.41288769],\n",
       "       [ 0.68334873,  0.25821682,  0.43788988,  0.41288769],\n",
       "       [-0.05256529,  2.06573458, -1.42381371, -1.27957986],\n",
       "       [-0.66582697,  1.38791542, -1.25456793, -1.27957986],\n",
       "       [ 0.31539172, -0.41960234,  0.5507204 ,  0.28269788],\n",
       "       [-0.54317463,  0.71009626, -1.14173741, -1.27957986],\n",
       "       [ 0.68334873,  0.0322771 ,  1.00204248,  0.80345712],\n",
       "       [-1.40174099,  0.25821682, -1.19815267, -1.27957986],\n",
       "       [-1.52439333,  0.0322771 , -1.25456793, -1.27957986],\n",
       "       [-1.15643632, -1.32336121,  0.43788988,  0.67326731],\n",
       "       [-0.91113164, -1.32336121, -0.40833903, -0.10787156],\n",
       "       [ 1.05130574,  0.0322771 ,  1.05845774,  1.58459599],\n",
       "       [-1.15643632,  1.1619757 , -1.31098319, -1.40976967],\n",
       "       [ 1.29661042,  0.0322771 ,  0.94562722,  1.19402656],\n",
       "       [-1.27908866, -0.19366262, -1.31098319, -1.14939005],\n",
       "       [-0.05256529, -0.87148177,  0.09939832,  0.02231825],\n",
       "       [ 0.19273939, -0.87148177,  0.77638144,  0.5430775 ],\n",
       "       [-1.769698  ,  0.25821682, -1.36739845, -1.27957986],\n",
       "       [ 1.17395808,  0.25821682,  1.22770352,  1.45440618],\n",
       "       [ 2.52313379,  1.61385514,  1.50977982,  1.06383675],\n",
       "       [ 0.80600107, -0.19366262,  1.00204248,  0.80345712],\n",
       "       [ 2.15517678, -0.19366262,  1.62261034,  1.19402656],\n",
       "       [ 0.5606964 , -0.64554206,  0.77638144,  0.41288769],\n",
       "       [-1.52439333,  0.71009626, -1.31098319, -1.14939005],\n",
       "       [-0.17521762, -1.09742149, -0.12626273, -0.23806137],\n",
       "       [ 1.05130574, -1.32336121,  1.17128826,  0.80345712],\n",
       "       [-0.17521762, -0.64554206,  0.21222884,  0.15250807],\n",
       "       [-1.15643632,  0.0322771 , -1.25456793, -1.27957986],\n",
       "       [ 0.68334873, -0.64554206,  1.05845774,  1.19402656],\n",
       "       [ 1.41926275,  0.25821682,  0.5507204 ,  0.28269788],\n",
       "       [-0.17521762, -0.41960234,  0.2686441 ,  0.15250807],\n",
       "       [-1.03378398,  1.1619757 , -1.31098319, -1.27957986],\n",
       "       [-0.54317463,  1.83979486, -1.14173741, -1.01920024],\n",
       "       [-0.91113164,  1.61385514, -1.02890689, -1.01920024],\n",
       "       [-0.54317463, -0.19366262,  0.43788988,  0.41288769],\n",
       "       [ 1.9098721 , -0.64554206,  1.34053404,  0.93364693],\n",
       "       [ 0.5606964 , -0.41960234,  1.05845774,  0.80345712],\n",
       "       [ 0.92865341, -0.19366262,  0.38147462,  0.28269788],\n",
       "       [-1.03378398,  0.71009626, -1.25456793, -1.27957986],\n",
       "       [-0.91113164,  1.61385514, -1.19815267, -1.27957986],\n",
       "       [-0.91113164,  0.93603598, -1.31098319, -1.14939005],\n",
       "       [ 0.80600107, -0.19366262,  1.17128826,  1.32421637],\n",
       "       [-0.05256529, -0.87148177,  0.77638144,  0.93364693],\n",
       "       [ 0.31539172, -0.64554206,  0.15581358,  0.15250807],\n",
       "       [-0.4205223 , -1.54930093,  0.04298306, -0.10787156],\n",
       "       [ 0.80600107,  0.25821682,  0.77638144,  1.06383675],\n",
       "       [ 0.80600107, -0.19366262,  0.8327967 ,  1.06383675],\n",
       "       [ 0.07008705, -0.19366262,  0.77638144,  0.80345712],\n",
       "       [ 0.31539172, -1.09742149,  1.05845774,  0.28269788],\n",
       "       [ 0.68334873, -0.41960234,  0.32505936,  0.15250807],\n",
       "       [-0.78847931,  0.71009626, -1.31098319, -1.27957986],\n",
       "       [-1.27908866,  0.71009626, -1.19815267, -1.27957986],\n",
       "       [-0.29786996, -0.87148177,  0.2686441 ,  0.15250807],\n",
       "       [-0.91113164,  0.48415654, -1.14173741, -0.88901043],\n",
       "       [-1.52439333,  1.1619757 , -1.53664423, -1.27957986],\n",
       "       [ 0.31539172, -0.19366262,  0.66355092,  0.80345712],\n",
       "       [-1.03378398, -1.77524065, -0.23909325, -0.23806137],\n",
       "       [-0.17521762,  1.61385514, -1.14173741, -1.14939005],\n",
       "       [-0.78847931,  0.93603598, -1.25456793, -1.27957986],\n",
       "       [-0.4205223 ,  0.93603598, -1.36739845, -1.27957986],\n",
       "       [-1.15643632, -1.54930093, -0.23909325, -0.23806137],\n",
       "       [-0.54317463,  0.71009626, -1.25456793, -1.01920024],\n",
       "       [ 1.05130574,  0.0322771 ,  0.38147462,  0.28269788],\n",
       "       [-1.27908866, -0.19366262, -1.31098319, -1.40976967],\n",
       "       [-0.4205223 , -1.32336121,  0.15581358,  0.15250807],\n",
       "       [ 0.19273939, -2.00118037,  0.71996618,  0.41288769],\n",
       "       [-1.27908866,  0.0322771 , -1.19815267, -1.27957986],\n",
       "       [ 1.05130574,  0.0322771 ,  0.5507204 ,  0.41288769],\n",
       "       [-0.05256529, -1.09742149,  0.15581358,  0.02231825],\n",
       "       [ 0.43804406,  0.71009626,  0.94562722,  1.45440618],\n",
       "       [-1.03378398, -0.19366262, -1.19815267, -1.27957986],\n",
       "       [ 0.19273939, -0.19366262,  0.60713566,  0.80345712],\n",
       "       [-1.89235034, -0.19366262, -1.48022897, -1.40976967],\n",
       "       [-0.29786996, -1.32336121,  0.09939832, -0.10787156],\n",
       "       [ 1.05130574, -0.19366262,  0.71996618,  0.67326731],\n",
       "       [ 2.27782911, -0.19366262,  1.34053404,  1.45440618],\n",
       "       [ 0.5606964 ,  0.71009626,  1.05845774,  1.58459599],\n",
       "       [-0.4205223 ,  2.51761402, -1.31098319, -1.27957986],\n",
       "       [ 0.19273939, -2.00118037,  0.15581358, -0.23806137],\n",
       "       [ 2.27782911, -0.64554206,  1.6790256 ,  1.06383675],\n",
       "       [ 1.78721977, -0.41960234,  1.45336456,  0.80345712],\n",
       "       [-0.29786996, -0.19366262,  0.21222884,  0.15250807],\n",
       "       [ 0.80600107, -0.64554206,  0.49430514,  0.41288769],\n",
       "       [ 0.5606964 ,  0.48415654,  1.28411878,  1.7147858 ],\n",
       "       [-0.54317463,  1.83979486, -1.36739845, -1.01920024],\n",
       "       [ 0.68334873,  0.25821682,  0.88921196,  1.45440618],\n",
       "       [-1.03378398,  0.93603598, -1.36739845, -1.14939005],\n",
       "       [-0.91113164,  0.93603598, -1.31098319, -1.27957986],\n",
       "       [ 0.31539172, -0.64554206,  0.5507204 ,  0.02231825],\n",
       "       [-1.769698  , -0.41960234, -1.31098319, -1.27957986],\n",
       "       [ 1.05130574, -0.19366262,  0.8327967 ,  1.45440618],\n",
       "       [ 0.5606964 , -0.87148177,  0.66355092,  0.80345712],\n",
       "       [-0.17521762, -1.32336121,  0.71996618,  1.06383675],\n",
       "       [-0.29786996, -0.41960234, -0.06984747,  0.15250807],\n",
       "       [-0.17521762,  2.96949345, -1.25456793, -1.01920024],\n",
       "       [ 1.66456743,  0.25821682,  1.28411878,  0.80345712],\n",
       "       [-1.15643632,  0.0322771 , -1.25456793, -1.40976967]])"
      ]
     },
     "execution_count": 26,
     "metadata": {},
     "output_type": "execute_result"
    }
   ],
   "source": [
    "knn_train"
   ]
  },
  {
   "cell_type": "code",
   "execution_count": 29,
   "metadata": {},
   "outputs": [
    {
     "data": {
      "text/plain": [
       "array([0.85714286, 0.9047619 , 1.        , 0.85714286, 1.        ])"
      ]
     },
     "execution_count": 29,
     "metadata": {},
     "output_type": "execute_result"
    }
   ],
   "source": [
    "knn_SS = cross_val_score(knn_model,\n",
    "                               knn_train, # 스케일링된 문제데이터\n",
    "                                y_train,           # 정답 데이터\n",
    "                                cv = 5\n",
    "                               )\n",
    "knn_SS"
   ]
  },
  {
   "cell_type": "markdown",
   "metadata": {},
   "source": [
    "### 7번"
   ]
  },
  {
   "cell_type": "markdown",
   "metadata": {},
   "source": [
    "#### "
   ]
  },
  {
   "cell_type": "code",
   "execution_count": 30,
   "metadata": {},
   "outputs": [],
   "source": [
    "# 0,1,2가 섞여있지 않고 차례대로 있기 때문에 나눴을때 한부분에만 0이 있거나 한부분에만 1이 있을수도 있어 평가하기 어려움"
   ]
  },
  {
   "cell_type": "markdown",
   "metadata": {},
   "source": [
    "### 8번"
   ]
  },
  {
   "cell_type": "markdown",
   "metadata": {},
   "source": [
    "#### "
   ]
  },
  {
   "cell_type": "code",
   "execution_count": 31,
   "metadata": {},
   "outputs": [],
   "source": [
    "# 원핫인코딩"
   ]
  },
  {
   "cell_type": "markdown",
   "metadata": {},
   "source": [
    "#### "
   ]
  },
  {
   "cell_type": "code",
   "execution_count": 32,
   "metadata": {},
   "outputs": [],
   "source": [
    "# 원핫인코딩을 사용하여 {\"x\" : 0, \"f\" : 1, \"k\" : 2, \"b\" : 3, \"s\" : 4, \"c\" : 5},\n",
    "#  0 or 1의 값을 가진 여러 개의 새로운 특성으로 변경"
   ]
  },
  {
   "cell_type": "markdown",
   "metadata": {},
   "source": [
    "### 9번"
   ]
  },
  {
   "cell_type": "markdown",
   "metadata": {},
   "source": [
    "#### "
   ]
  },
  {
   "cell_type": "code",
   "execution_count": 33,
   "metadata": {},
   "outputs": [],
   "source": [
    "#개념 :새로운 데이터 포인트와 가장 가까운 훈련 데이터셋의 데이터 포인트를 찾아 예측\n",
    "#장점 : 단순하고 효율적이다.\n",
    "#단점 : 데이터가 많으수록 느림."
   ]
  },
  {
   "cell_type": "markdown",
   "metadata": {},
   "source": [
    "#### "
   ]
  },
  {
   "cell_type": "code",
   "execution_count": null,
   "metadata": {},
   "outputs": [],
   "source": [
    "#개념 : Tree를 만들기 위해 예/아니오 질문을 반복하며 학습\n",
    "#장점 : 트리는 가변수들을 만들지 않고도 질적 설명변수들을 쉽게 처리할 수 있다.\n",
    "#단점 : 다른 모델에 비해 조금만 깊이가 깊어져도 과대적합 되기 쉬움"
   ]
  },
  {
   "cell_type": "markdown",
   "metadata": {},
   "source": [
    "#### "
   ]
  },
  {
   "cell_type": "code",
   "execution_count": 34,
   "metadata": {},
   "outputs": [],
   "source": [
    "# 타이타닉 생존자 예측 분석\n",
    "# iris 품종 예측\n"
   ]
  },
  {
   "cell_type": "markdown",
   "metadata": {},
   "source": [
    "### 10번"
   ]
  },
  {
   "cell_type": "markdown",
   "metadata": {},
   "source": [
    "#### "
   ]
  },
  {
   "cell_type": "code",
   "execution_count": null,
   "metadata": {},
   "outputs": [],
   "source": [
    "#개념: 데이터의 분포를 가장 잘 표현할 수 있는 직선을 그려서 값을 예측하는 방법\n",
    "#장점: 계수들에 대한 해석이 간단, 통계적 유의성을 쉽게 검정할 수 있음\n",
    "#단점: 선형 회귀는 특이 치에 민감합니다"
   ]
  },
  {
   "cell_type": "markdown",
   "metadata": {},
   "source": [
    "#### "
   ]
  },
  {
   "cell_type": "code",
   "execution_count": 35,
   "metadata": {},
   "outputs": [],
   "source": [
    "# L1규제 : Lasso - w의 모든원소에 똑같은 힘으로 규제를 적용. 특정 계수들은 0이됨. 특성선택이 자동으로 이루어짐.(중요 하지 않은 변수 제외, 특성 간 상관관계가 상대적으로 낮은 경우 사용)\n",
    "# L2규제 : Ridge - w의 모든 원소에 골고루 규제를 적용하여 0에 가깝게 만든다.(모든 변수에 같은 비율로 규제를 적용, 특성 간 상관관계가 상대적으로 높은 경우 사용)"
   ]
  },
  {
   "cell_type": "markdown",
   "metadata": {},
   "source": [
    "### 11번"
   ]
  },
  {
   "cell_type": "markdown",
   "metadata": {},
   "source": [
    "#### "
   ]
  },
  {
   "cell_type": "code",
   "execution_count": 36,
   "metadata": {},
   "outputs": [],
   "source": [
    "# 파라미터: n_estimators, max_features, random_state \n",
    "# 의사결정 나무의 표본 개수조정(배깅),  각 분할(split)에서 사용할 예측변수들을 랜덤하게 선택"
   ]
  },
  {
   "cell_type": "markdown",
   "metadata": {},
   "source": [
    "### 12번"
   ]
  },
  {
   "cell_type": "markdown",
   "metadata": {},
   "source": [
    "#### "
   ]
  },
  {
   "cell_type": "code",
   "execution_count": null,
   "metadata": {},
   "outputs": [],
   "source": [
    "# 스팸 또는 스팸 아님으로 이메일 분류하기\n",
    "# 분류 임계값 증가\n",
    "# 데이터를 묻지도 따지지도 않고 모두 토끼라고 예측한다면, 정확도는 무려 90% 입니다.이렇게, 라벨이 불균형할때 정확도만으로 모델의 성능을 평가하는 것은 위험합니다\n",
    "# 불균형한 레이블 클래스를 가지는 이진 분류 모델에서는 정확도만 가지고 판단할 경우 모델의 신뢰도가 떨어질 수 있으므로 정밀도와 재현율을 사용한다.\n",
    "\n"
   ]
  },
  {
   "cell_type": "markdown",
   "metadata": {},
   "source": [
    "#### "
   ]
  },
  {
   "cell_type": "code",
   "execution_count": null,
   "metadata": {},
   "outputs": [],
   "source": [
    "#정확도: 0.95 TP+TN/TP+TN+FP+FN\n",
    "#재현율: 0 TP/TP+FN\n",
    "#정밀도: 0 TP/TP+FP"
   ]
  },
  {
   "cell_type": "markdown",
   "metadata": {},
   "source": [
    "#### "
   ]
  },
  {
   "cell_type": "code",
   "execution_count": 37,
   "metadata": {},
   "outputs": [],
   "source": [
    "# 정확도 역설(Accuracy Paradox)현상이 일어남."
   ]
  },
  {
   "cell_type": "markdown",
   "metadata": {},
   "source": [
    "#### "
   ]
  },
  {
   "cell_type": "code",
   "execution_count": null,
   "metadata": {},
   "outputs": [],
   "source": [
    "# 조화평균의 기하학적 접근을 한다.( accuracy만 보기 보다는 auc score도 보자!)"
   ]
  }
 ],
 "metadata": {
  "kernelspec": {
   "display_name": "Python 3",
   "language": "python",
   "name": "python3"
  },
  "language_info": {
   "codemirror_mode": {
    "name": "ipython",
    "version": 3
   },
   "file_extension": ".py",
   "mimetype": "text/x-python",
   "name": "python",
   "nbconvert_exporter": "python",
   "pygments_lexer": "ipython3",
   "version": "3.8.5"
  },
  "toc": {
   "base_numbering": 1,
   "nav_menu": {},
   "number_sections": true,
   "sideBar": true,
   "skip_h1_title": false,
   "title_cell": "Table of Contents",
   "title_sidebar": "Contents",
   "toc_cell": false,
   "toc_position": {},
   "toc_section_display": true,
   "toc_window_display": false
  }
 },
 "nbformat": 4,
 "nbformat_minor": 4
}
