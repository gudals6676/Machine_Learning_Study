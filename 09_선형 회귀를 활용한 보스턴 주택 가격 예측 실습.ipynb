{
 "cells": [
  {
   "cell_type": "code",
   "execution_count": 137,
   "metadata": {},
   "outputs": [],
   "source": [
    "import numpy as np\n",
    "import matplotlib.pyplot as plt\n",
    "import pandas as pd\n",
    "# 머신러닝을 지원하는 sklearn 라이브러리 가져오기\n",
    "from sklearn.neighbors import KNeighborsClassifier\n",
    "# 평가 지표들을 활용할 수 있는 metrics 모듈을 불러오기\n",
    "from sklearn import metrics\n",
    "import tqdm\n",
    "from sklearn.metrics import accuracy_score\n",
    "from sklearn.model_selection import train_test_split#학습 평가 데이터 분리\n",
    "import seaborn as sns #matplot과 유사하게 시각화 라이브러리이지만 좀 더 깔끔함\n",
    "from sklearn.datasets import load_iris #붓꽃 iris\n",
    "from sklearn.tree import DecisionTreeClassifier #트리\n",
    "# !pip install seaborn\n",
    "# 손쉽게 레이블 인코딩을 하기 위해 레이블인코더를 임포트\n",
    "from sklearn.preprocessing import LabelEncoder\n",
    "#!pip install graphviz #시각화 외부라이브러리\n",
    "from sklearn.tree import export_graphviz\n",
    "from sklearn.preprocessing import StandardScaler #StandardScaler\n",
    "from sklearn.preprocessing import MinMaxScaler  #MinMaxScaler\n",
    "from sklearn.datasets import load_breast_cancer\n",
    "#!pip install jupyter_contrib_nbextensions && jupyter contrib nbextension install 목차보기\n",
    "from sklearn.model_selection import cross_val_score#교차검증 적용을 위해 임포트\n",
    "from sklearn.ensemble import RandomForestClassifier\n",
    "from sklearn.ensemble import VotingClassifier #앙상블 모델\n",
    "from sklearn.ensemble import AdaBoostClassifier # 에이다\n",
    "#!pip install xgboost #XG부스트\n",
    "#!pip install lightgbm #LightGBM\n",
    "from xgboost import XGBClassifier\n",
    "from lightgbm import LGBMClassifier\n",
    "# 빨간색 경고창 무시하기\n",
    "import warnings\n",
    "warnings.filterwarnings(action=\"ignore\")\n",
    "from sklearn.model_selection import train_test_split #트레인테스트 스플릿\n",
    "from sklearn.model_selection import GridSearchCV # 그리드서치\n",
    "from sklearn.model_selection import KFold # cv = kfold\n",
    "from sklearn.datasets import make_classification\n",
    "from sklearn.linear_model import LinearRegression#선형회귀 모델 임포트\n",
    "from sklearn.datasets import load_boston #학습용 보스턴 집 값 데이터를 임포트\n",
    "from sklearn.metrics import mean_squared_error # mse\n",
    "from sklearn.linear_model import Lasso # Lasso 임포트\n",
    "from sklearn.linear_model import Ridge # Ridge 임포트\n",
    "from sklearn.linear_model import LogisticRegression #로지스틱 임포트\n",
    "# 한글을 쓰기 위한 코드\n",
    "from matplotlib import font_manager, rc\n",
    "font_name = font_manager.FontProperties(fname =\"c:/Windows/Fonts/malgun.ttf\").get_name()\n",
    "rc('font', family = font_name)"
   ]
  },
  {
   "cell_type": "markdown",
   "metadata": {},
   "source": [
    "### 목표\n",
    "- 보스턴에 있는 주택들의 데이터를 바탕으로 집 가격을 예측해보자!"
   ]
  },
  {
   "cell_type": "markdown",
   "metadata": {},
   "source": [
    "### 데이터 수집\n",
    "- 보스턴 집 값 데이터셋 로드"
   ]
  },
  {
   "cell_type": "code",
   "execution_count": 138,
   "metadata": {},
   "outputs": [],
   "source": [
    "boston = load_boston()"
   ]
  },
  {
   "cell_type": "code",
   "execution_count": 139,
   "metadata": {},
   "outputs": [
    {
     "data": {
      "text/plain": [
       "dict_keys(['data', 'target', 'feature_names', 'DESCR', 'filename'])"
      ]
     },
     "execution_count": 139,
     "metadata": {},
     "output_type": "execute_result"
    }
   ],
   "source": [
    "boston.keys()"
   ]
  },
  {
   "cell_type": "code",
   "execution_count": 140,
   "metadata": {},
   "outputs": [
    {
     "data": {
      "text/plain": [
       "{'data': array([[6.3200e-03, 1.8000e+01, 2.3100e+00, ..., 1.5300e+01, 3.9690e+02,\n",
       "         4.9800e+00],\n",
       "        [2.7310e-02, 0.0000e+00, 7.0700e+00, ..., 1.7800e+01, 3.9690e+02,\n",
       "         9.1400e+00],\n",
       "        [2.7290e-02, 0.0000e+00, 7.0700e+00, ..., 1.7800e+01, 3.9283e+02,\n",
       "         4.0300e+00],\n",
       "        ...,\n",
       "        [6.0760e-02, 0.0000e+00, 1.1930e+01, ..., 2.1000e+01, 3.9690e+02,\n",
       "         5.6400e+00],\n",
       "        [1.0959e-01, 0.0000e+00, 1.1930e+01, ..., 2.1000e+01, 3.9345e+02,\n",
       "         6.4800e+00],\n",
       "        [4.7410e-02, 0.0000e+00, 1.1930e+01, ..., 2.1000e+01, 3.9690e+02,\n",
       "         7.8800e+00]]),\n",
       " 'target': array([24. , 21.6, 34.7, 33.4, 36.2, 28.7, 22.9, 27.1, 16.5, 18.9, 15. ,\n",
       "        18.9, 21.7, 20.4, 18.2, 19.9, 23.1, 17.5, 20.2, 18.2, 13.6, 19.6,\n",
       "        15.2, 14.5, 15.6, 13.9, 16.6, 14.8, 18.4, 21. , 12.7, 14.5, 13.2,\n",
       "        13.1, 13.5, 18.9, 20. , 21. , 24.7, 30.8, 34.9, 26.6, 25.3, 24.7,\n",
       "        21.2, 19.3, 20. , 16.6, 14.4, 19.4, 19.7, 20.5, 25. , 23.4, 18.9,\n",
       "        35.4, 24.7, 31.6, 23.3, 19.6, 18.7, 16. , 22.2, 25. , 33. , 23.5,\n",
       "        19.4, 22. , 17.4, 20.9, 24.2, 21.7, 22.8, 23.4, 24.1, 21.4, 20. ,\n",
       "        20.8, 21.2, 20.3, 28. , 23.9, 24.8, 22.9, 23.9, 26.6, 22.5, 22.2,\n",
       "        23.6, 28.7, 22.6, 22. , 22.9, 25. , 20.6, 28.4, 21.4, 38.7, 43.8,\n",
       "        33.2, 27.5, 26.5, 18.6, 19.3, 20.1, 19.5, 19.5, 20.4, 19.8, 19.4,\n",
       "        21.7, 22.8, 18.8, 18.7, 18.5, 18.3, 21.2, 19.2, 20.4, 19.3, 22. ,\n",
       "        20.3, 20.5, 17.3, 18.8, 21.4, 15.7, 16.2, 18. , 14.3, 19.2, 19.6,\n",
       "        23. , 18.4, 15.6, 18.1, 17.4, 17.1, 13.3, 17.8, 14. , 14.4, 13.4,\n",
       "        15.6, 11.8, 13.8, 15.6, 14.6, 17.8, 15.4, 21.5, 19.6, 15.3, 19.4,\n",
       "        17. , 15.6, 13.1, 41.3, 24.3, 23.3, 27. , 50. , 50. , 50. , 22.7,\n",
       "        25. , 50. , 23.8, 23.8, 22.3, 17.4, 19.1, 23.1, 23.6, 22.6, 29.4,\n",
       "        23.2, 24.6, 29.9, 37.2, 39.8, 36.2, 37.9, 32.5, 26.4, 29.6, 50. ,\n",
       "        32. , 29.8, 34.9, 37. , 30.5, 36.4, 31.1, 29.1, 50. , 33.3, 30.3,\n",
       "        34.6, 34.9, 32.9, 24.1, 42.3, 48.5, 50. , 22.6, 24.4, 22.5, 24.4,\n",
       "        20. , 21.7, 19.3, 22.4, 28.1, 23.7, 25. , 23.3, 28.7, 21.5, 23. ,\n",
       "        26.7, 21.7, 27.5, 30.1, 44.8, 50. , 37.6, 31.6, 46.7, 31.5, 24.3,\n",
       "        31.7, 41.7, 48.3, 29. , 24. , 25.1, 31.5, 23.7, 23.3, 22. , 20.1,\n",
       "        22.2, 23.7, 17.6, 18.5, 24.3, 20.5, 24.5, 26.2, 24.4, 24.8, 29.6,\n",
       "        42.8, 21.9, 20.9, 44. , 50. , 36. , 30.1, 33.8, 43.1, 48.8, 31. ,\n",
       "        36.5, 22.8, 30.7, 50. , 43.5, 20.7, 21.1, 25.2, 24.4, 35.2, 32.4,\n",
       "        32. , 33.2, 33.1, 29.1, 35.1, 45.4, 35.4, 46. , 50. , 32.2, 22. ,\n",
       "        20.1, 23.2, 22.3, 24.8, 28.5, 37.3, 27.9, 23.9, 21.7, 28.6, 27.1,\n",
       "        20.3, 22.5, 29. , 24.8, 22. , 26.4, 33.1, 36.1, 28.4, 33.4, 28.2,\n",
       "        22.8, 20.3, 16.1, 22.1, 19.4, 21.6, 23.8, 16.2, 17.8, 19.8, 23.1,\n",
       "        21. , 23.8, 23.1, 20.4, 18.5, 25. , 24.6, 23. , 22.2, 19.3, 22.6,\n",
       "        19.8, 17.1, 19.4, 22.2, 20.7, 21.1, 19.5, 18.5, 20.6, 19. , 18.7,\n",
       "        32.7, 16.5, 23.9, 31.2, 17.5, 17.2, 23.1, 24.5, 26.6, 22.9, 24.1,\n",
       "        18.6, 30.1, 18.2, 20.6, 17.8, 21.7, 22.7, 22.6, 25. , 19.9, 20.8,\n",
       "        16.8, 21.9, 27.5, 21.9, 23.1, 50. , 50. , 50. , 50. , 50. , 13.8,\n",
       "        13.8, 15. , 13.9, 13.3, 13.1, 10.2, 10.4, 10.9, 11.3, 12.3,  8.8,\n",
       "         7.2, 10.5,  7.4, 10.2, 11.5, 15.1, 23.2,  9.7, 13.8, 12.7, 13.1,\n",
       "        12.5,  8.5,  5. ,  6.3,  5.6,  7.2, 12.1,  8.3,  8.5,  5. , 11.9,\n",
       "        27.9, 17.2, 27.5, 15. , 17.2, 17.9, 16.3,  7. ,  7.2,  7.5, 10.4,\n",
       "         8.8,  8.4, 16.7, 14.2, 20.8, 13.4, 11.7,  8.3, 10.2, 10.9, 11. ,\n",
       "         9.5, 14.5, 14.1, 16.1, 14.3, 11.7, 13.4,  9.6,  8.7,  8.4, 12.8,\n",
       "        10.5, 17.1, 18.4, 15.4, 10.8, 11.8, 14.9, 12.6, 14.1, 13. , 13.4,\n",
       "        15.2, 16.1, 17.8, 14.9, 14.1, 12.7, 13.5, 14.9, 20. , 16.4, 17.7,\n",
       "        19.5, 20.2, 21.4, 19.9, 19. , 19.1, 19.1, 20.1, 19.9, 19.6, 23.2,\n",
       "        29.8, 13.8, 13.3, 16.7, 12. , 14.6, 21.4, 23. , 23.7, 25. , 21.8,\n",
       "        20.6, 21.2, 19.1, 20.6, 15.2,  7. ,  8.1, 13.6, 20.1, 21.8, 24.5,\n",
       "        23.1, 19.7, 18.3, 21.2, 17.5, 16.8, 22.4, 20.6, 23.9, 22. , 11.9]),\n",
       " 'feature_names': array(['CRIM', 'ZN', 'INDUS', 'CHAS', 'NOX', 'RM', 'AGE', 'DIS', 'RAD',\n",
       "        'TAX', 'PTRATIO', 'B', 'LSTAT'], dtype='<U7'),\n",
       " 'DESCR': \".. _boston_dataset:\\n\\nBoston house prices dataset\\n---------------------------\\n\\n**Data Set Characteristics:**  \\n\\n    :Number of Instances: 506 \\n\\n    :Number of Attributes: 13 numeric/categorical predictive. Median Value (attribute 14) is usually the target.\\n\\n    :Attribute Information (in order):\\n        - CRIM     per capita crime rate by town\\n        - ZN       proportion of residential land zoned for lots over 25,000 sq.ft.\\n        - INDUS    proportion of non-retail business acres per town\\n        - CHAS     Charles River dummy variable (= 1 if tract bounds river; 0 otherwise)\\n        - NOX      nitric oxides concentration (parts per 10 million)\\n        - RM       average number of rooms per dwelling\\n        - AGE      proportion of owner-occupied units built prior to 1940\\n        - DIS      weighted distances to five Boston employment centres\\n        - RAD      index of accessibility to radial highways\\n        - TAX      full-value property-tax rate per $10,000\\n        - PTRATIO  pupil-teacher ratio by town\\n        - B        1000(Bk - 0.63)^2 where Bk is the proportion of blacks by town\\n        - LSTAT    % lower status of the population\\n        - MEDV     Median value of owner-occupied homes in $1000's\\n\\n    :Missing Attribute Values: None\\n\\n    :Creator: Harrison, D. and Rubinfeld, D.L.\\n\\nThis is a copy of UCI ML housing dataset.\\nhttps://archive.ics.uci.edu/ml/machine-learning-databases/housing/\\n\\n\\nThis dataset was taken from the StatLib library which is maintained at Carnegie Mellon University.\\n\\nThe Boston house-price data of Harrison, D. and Rubinfeld, D.L. 'Hedonic\\nprices and the demand for clean air', J. Environ. Economics & Management,\\nvol.5, 81-102, 1978.   Used in Belsley, Kuh & Welsch, 'Regression diagnostics\\n...', Wiley, 1980.   N.B. Various transformations are used in the table on\\npages 244-261 of the latter.\\n\\nThe Boston house-price data has been used in many machine learning papers that address regression\\nproblems.   \\n     \\n.. topic:: References\\n\\n   - Belsley, Kuh & Welsch, 'Regression diagnostics: Identifying Influential Data and Sources of Collinearity', Wiley, 1980. 244-261.\\n   - Quinlan,R. (1993). Combining Instance-Based and Model-Based Learning. In Proceedings on the Tenth International Conference of Machine Learning, 236-243, University of Massachusetts, Amherst. Morgan Kaufmann.\\n\",\n",
       " 'filename': 'C:\\\\Users\\\\21SMT17\\\\anaconda3\\\\lib\\\\site-packages\\\\sklearn\\\\datasets\\\\data\\\\boston_house_prices.csv'}"
      ]
     },
     "execution_count": 140,
     "metadata": {},
     "output_type": "execute_result"
    }
   ],
   "source": [
    "boston"
   ]
  },
  {
   "cell_type": "code",
   "execution_count": 141,
   "metadata": {},
   "outputs": [],
   "source": [
    "# data : 문제 데이터\n",
    "# target : 정답 데이터\n",
    "# feature_names : 컬럼명(특성명)\n",
    "# DESCR : feature_names에 대한 설명\n",
    "# filename : 파일 경로 및 이름"
   ]
  },
  {
   "cell_type": "code",
   "execution_count": 142,
   "metadata": {},
   "outputs": [
    {
     "data": {
      "text/plain": [
       "array([24. , 21.6, 34.7, 33.4, 36.2, 28.7, 22.9, 27.1, 16.5, 18.9, 15. ,\n",
       "       18.9, 21.7, 20.4, 18.2, 19.9, 23.1, 17.5, 20.2, 18.2, 13.6, 19.6,\n",
       "       15.2, 14.5, 15.6, 13.9, 16.6, 14.8, 18.4, 21. , 12.7, 14.5, 13.2,\n",
       "       13.1, 13.5, 18.9, 20. , 21. , 24.7, 30.8, 34.9, 26.6, 25.3, 24.7,\n",
       "       21.2, 19.3, 20. , 16.6, 14.4, 19.4, 19.7, 20.5, 25. , 23.4, 18.9,\n",
       "       35.4, 24.7, 31.6, 23.3, 19.6, 18.7, 16. , 22.2, 25. , 33. , 23.5,\n",
       "       19.4, 22. , 17.4, 20.9, 24.2, 21.7, 22.8, 23.4, 24.1, 21.4, 20. ,\n",
       "       20.8, 21.2, 20.3, 28. , 23.9, 24.8, 22.9, 23.9, 26.6, 22.5, 22.2,\n",
       "       23.6, 28.7, 22.6, 22. , 22.9, 25. , 20.6, 28.4, 21.4, 38.7, 43.8,\n",
       "       33.2, 27.5, 26.5, 18.6, 19.3, 20.1, 19.5, 19.5, 20.4, 19.8, 19.4,\n",
       "       21.7, 22.8, 18.8, 18.7, 18.5, 18.3, 21.2, 19.2, 20.4, 19.3, 22. ,\n",
       "       20.3, 20.5, 17.3, 18.8, 21.4, 15.7, 16.2, 18. , 14.3, 19.2, 19.6,\n",
       "       23. , 18.4, 15.6, 18.1, 17.4, 17.1, 13.3, 17.8, 14. , 14.4, 13.4,\n",
       "       15.6, 11.8, 13.8, 15.6, 14.6, 17.8, 15.4, 21.5, 19.6, 15.3, 19.4,\n",
       "       17. , 15.6, 13.1, 41.3, 24.3, 23.3, 27. , 50. , 50. , 50. , 22.7,\n",
       "       25. , 50. , 23.8, 23.8, 22.3, 17.4, 19.1, 23.1, 23.6, 22.6, 29.4,\n",
       "       23.2, 24.6, 29.9, 37.2, 39.8, 36.2, 37.9, 32.5, 26.4, 29.6, 50. ,\n",
       "       32. , 29.8, 34.9, 37. , 30.5, 36.4, 31.1, 29.1, 50. , 33.3, 30.3,\n",
       "       34.6, 34.9, 32.9, 24.1, 42.3, 48.5, 50. , 22.6, 24.4, 22.5, 24.4,\n",
       "       20. , 21.7, 19.3, 22.4, 28.1, 23.7, 25. , 23.3, 28.7, 21.5, 23. ,\n",
       "       26.7, 21.7, 27.5, 30.1, 44.8, 50. , 37.6, 31.6, 46.7, 31.5, 24.3,\n",
       "       31.7, 41.7, 48.3, 29. , 24. , 25.1, 31.5, 23.7, 23.3, 22. , 20.1,\n",
       "       22.2, 23.7, 17.6, 18.5, 24.3, 20.5, 24.5, 26.2, 24.4, 24.8, 29.6,\n",
       "       42.8, 21.9, 20.9, 44. , 50. , 36. , 30.1, 33.8, 43.1, 48.8, 31. ,\n",
       "       36.5, 22.8, 30.7, 50. , 43.5, 20.7, 21.1, 25.2, 24.4, 35.2, 32.4,\n",
       "       32. , 33.2, 33.1, 29.1, 35.1, 45.4, 35.4, 46. , 50. , 32.2, 22. ,\n",
       "       20.1, 23.2, 22.3, 24.8, 28.5, 37.3, 27.9, 23.9, 21.7, 28.6, 27.1,\n",
       "       20.3, 22.5, 29. , 24.8, 22. , 26.4, 33.1, 36.1, 28.4, 33.4, 28.2,\n",
       "       22.8, 20.3, 16.1, 22.1, 19.4, 21.6, 23.8, 16.2, 17.8, 19.8, 23.1,\n",
       "       21. , 23.8, 23.1, 20.4, 18.5, 25. , 24.6, 23. , 22.2, 19.3, 22.6,\n",
       "       19.8, 17.1, 19.4, 22.2, 20.7, 21.1, 19.5, 18.5, 20.6, 19. , 18.7,\n",
       "       32.7, 16.5, 23.9, 31.2, 17.5, 17.2, 23.1, 24.5, 26.6, 22.9, 24.1,\n",
       "       18.6, 30.1, 18.2, 20.6, 17.8, 21.7, 22.7, 22.6, 25. , 19.9, 20.8,\n",
       "       16.8, 21.9, 27.5, 21.9, 23.1, 50. , 50. , 50. , 50. , 50. , 13.8,\n",
       "       13.8, 15. , 13.9, 13.3, 13.1, 10.2, 10.4, 10.9, 11.3, 12.3,  8.8,\n",
       "        7.2, 10.5,  7.4, 10.2, 11.5, 15.1, 23.2,  9.7, 13.8, 12.7, 13.1,\n",
       "       12.5,  8.5,  5. ,  6.3,  5.6,  7.2, 12.1,  8.3,  8.5,  5. , 11.9,\n",
       "       27.9, 17.2, 27.5, 15. , 17.2, 17.9, 16.3,  7. ,  7.2,  7.5, 10.4,\n",
       "        8.8,  8.4, 16.7, 14.2, 20.8, 13.4, 11.7,  8.3, 10.2, 10.9, 11. ,\n",
       "        9.5, 14.5, 14.1, 16.1, 14.3, 11.7, 13.4,  9.6,  8.7,  8.4, 12.8,\n",
       "       10.5, 17.1, 18.4, 15.4, 10.8, 11.8, 14.9, 12.6, 14.1, 13. , 13.4,\n",
       "       15.2, 16.1, 17.8, 14.9, 14.1, 12.7, 13.5, 14.9, 20. , 16.4, 17.7,\n",
       "       19.5, 20.2, 21.4, 19.9, 19. , 19.1, 19.1, 20.1, 19.9, 19.6, 23.2,\n",
       "       29.8, 13.8, 13.3, 16.7, 12. , 14.6, 21.4, 23. , 23.7, 25. , 21.8,\n",
       "       20.6, 21.2, 19.1, 20.6, 15.2,  7. ,  8.1, 13.6, 20.1, 21.8, 24.5,\n",
       "       23.1, 19.7, 18.3, 21.2, 17.5, 16.8, 22.4, 20.6, 23.9, 22. , 11.9])"
      ]
     },
     "execution_count": 142,
     "metadata": {},
     "output_type": "execute_result"
    }
   ],
   "source": [
    "boston[\"target\"] # 정답이 실수로 되어있음"
   ]
  },
  {
   "attachments": {
    "KakaoTalk_20210609_144736352.png": {
     "image/png": "[encoded data removed]"
    }
   },
   "cell_type": "markdown",
   "metadata": {},
   "source": [
    "![KakaoTalk_20210609_144736352.png](attachment:KakaoTalk_20210609_144736352.png)"
   ]
  },
  {
   "cell_type": "code",
   "execution_count": 143,
   "metadata": {
    "scrolled": true
   },
   "outputs": [
    {
     "data": {
      "text/plain": [
       "array(['CRIM', 'ZN', 'INDUS', 'CHAS', 'NOX', 'RM', 'AGE', 'DIS', 'RAD',\n",
       "       'TAX', 'PTRATIO', 'B', 'LSTAT'], dtype='<U7')"
      ]
     },
     "execution_count": 143,
     "metadata": {},
     "output_type": "execute_result"
    }
   ],
   "source": [
    "boston[\"feature_names\"]"
   ]
  },
  {
   "cell_type": "markdown",
   "metadata": {},
   "source": [
    "### 데이터 전처리\n",
    "- 필요없음(학습용 데이터)"
   ]
  },
  {
   "cell_type": "markdown",
   "metadata": {},
   "source": [
    "### 탐색적 데이터 분석\n",
    "- 생략"
   ]
  },
  {
   "cell_type": "markdown",
   "metadata": {},
   "source": [
    "### 모델링(선택, 학습, 평가)\n",
    "- 문제, 정답 데이터 설정\n",
    "- 학습, 평가 데이터 설정"
   ]
  },
  {
   "cell_type": "code",
   "execution_count": 144,
   "metadata": {},
   "outputs": [],
   "source": [
    "boston_df = pd.DataFrame(boston[\"data\"], columns=boston[\"feature_names\"])"
   ]
  },
  {
   "cell_type": "code",
   "execution_count": 145,
   "metadata": {},
   "outputs": [],
   "source": [
    "dfX = pd.DataFrame(boston[\"data\"], columns=boston[\"feature_names\"])#boston_df\n",
    "dfy = pd.DataFrame(boston[\"target\"], columns=[\"price\"])#boston[\"target\"]"
   ]
  },
  {
   "cell_type": "code",
   "execution_count": 146,
   "metadata": {},
   "outputs": [
    {
     "name": "stdout",
     "output_type": "stream",
     "text": [
      "<class 'pandas.core.frame.DataFrame'>\n",
      "RangeIndex: 506 entries, 0 to 505\n",
      "Data columns (total 13 columns):\n",
      " #   Column   Non-Null Count  Dtype  \n",
      "---  ------   --------------  -----  \n",
      " 0   CRIM     506 non-null    float64\n",
      " 1   ZN       506 non-null    float64\n",
      " 2   INDUS    506 non-null    float64\n",
      " 3   CHAS     506 non-null    float64\n",
      " 4   NOX      506 non-null    float64\n",
      " 5   RM       506 non-null    float64\n",
      " 6   AGE      506 non-null    float64\n",
      " 7   DIS      506 non-null    float64\n",
      " 8   RAD      506 non-null    float64\n",
      " 9   TAX      506 non-null    float64\n",
      " 10  PTRATIO  506 non-null    float64\n",
      " 11  B        506 non-null    float64\n",
      " 12  LSTAT    506 non-null    float64\n",
      "dtypes: float64(13)\n",
      "memory usage: 51.5 KB\n"
     ]
    }
   ],
   "source": [
    "dfX.info()"
   ]
  },
  {
   "cell_type": "code",
   "execution_count": 147,
   "metadata": {},
   "outputs": [
    {
     "name": "stdout",
     "output_type": "stream",
     "text": [
      "<class 'pandas.core.frame.DataFrame'>\n",
      "RangeIndex: 506 entries, 0 to 505\n",
      "Data columns (total 1 columns):\n",
      " #   Column  Non-Null Count  Dtype  \n",
      "---  ------  --------------  -----  \n",
      " 0   price   506 non-null    float64\n",
      "dtypes: float64(1)\n",
      "memory usage: 4.1 KB\n"
     ]
    }
   ],
   "source": [
    "dfy.info()"
   ]
  },
  {
   "cell_type": "code",
   "execution_count": 148,
   "metadata": {},
   "outputs": [],
   "source": [
    "# 평가 ,정답데이터 나누기\n",
    "X_train, X_test, y_train, y_test = train_test_split(dfX, dfy,\n",
    "                                                    test_size = 0.3, #7 : 3\n",
    "                                                    random_state = 5\n",
    "                                                   )"
   ]
  },
  {
   "cell_type": "code",
   "execution_count": 149,
   "metadata": {},
   "outputs": [
    {
     "name": "stdout",
     "output_type": "stream",
     "text": [
      "(354, 13)\n",
      "(152, 13)\n",
      "(354, 1)\n",
      "(152, 1)\n"
     ]
    }
   ],
   "source": [
    "print(X_train.shape)\n",
    "print(X_test.shape)\n",
    "print(y_train.shape)\n",
    "print(y_test.shape) # 데이터 프레임이라 1이라고 나옴"
   ]
  },
  {
   "cell_type": "markdown",
   "metadata": {},
   "source": [
    "- 선형회귀 모델 적용"
   ]
  },
  {
   "cell_type": "code",
   "execution_count": 150,
   "metadata": {},
   "outputs": [],
   "source": [
    "linear_md = LinearRegression()"
   ]
  },
  {
   "cell_type": "code",
   "execution_count": 151,
   "metadata": {},
   "outputs": [
    {
     "data": {
      "text/plain": [
       "LinearRegression()"
      ]
     },
     "execution_count": 151,
     "metadata": {},
     "output_type": "execute_result"
    }
   ],
   "source": [
    "linear_md.fit(X_train, y_train)"
   ]
  },
  {
   "cell_type": "code",
   "execution_count": 152,
   "metadata": {},
   "outputs": [
    {
     "data": {
      "text/plain": [
       "array([[-1.54486040e-01,  4.13948217e-02, -2.53765225e-02,\n",
       "         7.86055259e-01, -1.29365836e+01,  4.03952301e+00,\n",
       "        -1.05354914e-02, -1.33498644e+00,  3.18272501e-01,\n",
       "        -1.26427463e-02, -9.77287564e-01,  1.26714702e-02,\n",
       "        -4.62052176e-01]])"
      ]
     },
     "execution_count": 152,
     "metadata": {},
     "output_type": "execute_result"
    }
   ],
   "source": [
    "# 특성의 개수만큼 W값이 출력\n",
    "linear_md.coef_ # 선형회귀 직선의 w값 확인"
   ]
  },
  {
   "cell_type": "code",
   "execution_count": 153,
   "metadata": {},
   "outputs": [
    {
     "data": {
      "text/plain": [
       "array([31.7303513])"
      ]
     },
     "execution_count": 153,
     "metadata": {},
     "output_type": "execute_result"
    }
   ],
   "source": [
    "linear_md.intercept_ # 선형회귀 직선의 b값(y절편) 확인"
   ]
  },
  {
   "cell_type": "markdown",
   "metadata": {},
   "source": [
    "- 모델 평가:MSE ,RMSE, R2스코어 확인"
   ]
  },
  {
   "cell_type": "code",
   "execution_count": 154,
   "metadata": {},
   "outputs": [],
   "source": [
    "# 선형회귀 모델로 예측한 값을 변수에 저장\n",
    "pre_train = linear_md.predict(X_train)\n",
    "pre_test = linear_md.predict(X_test)"
   ]
  },
  {
   "cell_type": "code",
   "execution_count": 155,
   "metadata": {},
   "outputs": [],
   "source": [
    "# train 데이터의 mse\n",
    "train_mse = mean_squared_error(pre_train, y_train)\n",
    "# test 데이터의 mse\n",
    "test_mse = mean_squared_error(pre_test, y_test)"
   ]
  },
  {
   "cell_type": "code",
   "execution_count": 156,
   "metadata": {
    "scrolled": false
   },
   "outputs": [
    {
     "name": "stdout",
     "output_type": "stream",
     "text": [
      "train 데이터 MSE :  19.068341850927226\n",
      "test 데이터 MSE :  30.69703770408852\n",
      "train, test의 MSE 차이 :  11.628695853161293\n",
      "--------------------------------------------------\n",
      "train 데이터 RMSE :  4.366731254717563\n",
      "test 데이터 RMSE :  5.540490745781327\n",
      "train, test의 RMSE 차이 :  1.1737594910637634\n"
     ]
    }
   ],
   "source": [
    "print(\"train 데이터 MSE : \", train_mse)\n",
    "print(\"test 데이터 MSE : \", test_mse)\n",
    "print(\"train, test의 MSE 차이 : \", test_mse - train_mse )\n",
    "print(\"-\"*50)\n",
    "print(\"train 데이터 RMSE : \", train_mse**0.5)\n",
    "print(\"test 데이터 RMSE : \", test_mse**0.5)\n",
    "print(\"train, test의 RMSE 차이 : \", test_mse**0.5-train_mse**0.5)"
   ]
  },
  {
   "cell_type": "code",
   "execution_count": 157,
   "metadata": {
    "scrolled": true
   },
   "outputs": [
    {
     "name": "stdout",
     "output_type": "stream",
     "text": [
      "train데이터 주택 가격 평균 :  22.556214689265538\n",
      "test데이터 주택 가격 평균 :  22.478289473684214\n"
     ]
    }
   ],
   "source": [
    "# 정답 데이터(집 가격)의 평균 수치값을 확인해보자!\n",
    "print(\"train데이터 주택 가격 평균 : \", y_train[\"price\"].mean())\n",
    "print(\"test데이터 주택 가격 평균 : \", y_test[\"price\"].mean())"
   ]
  },
  {
   "cell_type": "code",
   "execution_count": 158,
   "metadata": {},
   "outputs": [
    {
     "data": {
      "text/plain": [
       "0.7611598772034454"
      ]
     },
     "execution_count": 158,
     "metadata": {},
     "output_type": "execute_result"
    }
   ],
   "source": [
    "# train 데이터의 R2 스코어\n",
    "linear_md.score(X_train, y_train)"
   ]
  },
  {
   "cell_type": "code",
   "execution_count": 159,
   "metadata": {
    "scrolled": true
   },
   "outputs": [
    {
     "data": {
      "text/plain": [
       "0.67716969998517"
      ]
     },
     "execution_count": 159,
     "metadata": {},
     "output_type": "execute_result"
    }
   ],
   "source": [
    "# test 데이터의 R2 스코어\n",
    "linear_md.score(X_test, y_test)"
   ]
  },
  {
   "cell_type": "code",
   "execution_count": 160,
   "metadata": {},
   "outputs": [
    {
     "data": {
      "image/png": "[encoded data removed]",
      "text/plain": [
       "<Figure size 432x288 with 1 Axes>"
      ]
     },
     "metadata": {
      "needs_background": "light"
     },
     "output_type": "display_data"
    }
   ],
   "source": [
    "plt.plot(dfX, dfy)\n",
    "plt.grid()\n",
    "plt.show()"
   ]
  },
  {
   "cell_type": "markdown",
   "metadata": {},
   "source": [
    "### 선형회귀 모델 특성확장\n",
    "- 선형회귀는 특성이 적으면(모델이 간단하면) 다른 모델에 비해 성능이 낮게 나오기 때문에\n",
    "특성확장을 사용해서 모델의 복잡도를 증가시켜보자\n",
    "- 각 컬럼들의 데이터를 곱하여 새로운 특성으로 확장시켜보자잇!!"
   ]
  },
  {
   "cell_type": "code",
   "execution_count": 161,
   "metadata": {},
   "outputs": [],
   "source": [
    "extended_X_train = X_train.copy()\n",
    "# copy : 기존의 데이터는 그대로 두면서 새로운 변수명에 넣어주는 명령\n",
    "# copy 없이 X_train을 새로운 변수에 담아준다면 변수의 내용이 바뀌면 X_train도 바뀌게 됨"
   ]
  },
  {
   "cell_type": "code",
   "execution_count": 162,
   "metadata": {},
   "outputs": [
    {
     "data": {
      "text/plain": [
       "[2, 2, 3]"
      ]
     },
     "execution_count": 162,
     "metadata": {},
     "output_type": "execute_result"
    }
   ],
   "source": [
    "# copy 를 쓰는 이유!!!!!\n",
    "a = [1, 2, 3]\n",
    "b= a\n",
    "b[0] = 2\n",
    "a"
   ]
  },
  {
   "cell_type": "code",
   "execution_count": 163,
   "metadata": {},
   "outputs": [
    {
     "data": {
      "text/plain": [
       "Index(['CRIM', 'ZN', 'INDUS', 'CHAS', 'NOX', 'RM', 'AGE', 'DIS', 'RAD', 'TAX',\n",
       "       'PTRATIO', 'B', 'LSTAT'],\n",
       "      dtype='object')"
      ]
     },
     "execution_count": 163,
     "metadata": {},
     "output_type": "execute_result"
    }
   ],
   "source": [
    "X_train.columns"
   ]
  },
  {
   "cell_type": "code",
   "execution_count": 164,
   "metadata": {},
   "outputs": [],
   "source": [
    "# extended_X_train의 각 컬럼들을 서로서로 한번씩 곱해서 새로운 컬럼을 추가해주기\n",
    "for col1 in X_train.columns:     # 13번 반복\n",
    "    for col2 in X_train.columns: # 13번 반복\n",
    "        extended_X_train[col1+\"x\"+col2] = X_train[col1] * X_train[col2]"
   ]
  },
  {
   "cell_type": "code",
   "execution_count": 165,
   "metadata": {},
   "outputs": [],
   "source": [
    "pd.set_option(\"display.max_columns\", None)"
   ]
  },
  {
   "cell_type": "code",
   "execution_count": 166,
   "metadata": {
    "scrolled": true
   },
   "outputs": [
    {
     "data": {
      "text/html": [
       "<div>\n",
       "<style scoped>\n",
       "    .dataframe tbody tr th:only-of-type {\n",
       "        vertical-align: middle;\n",
       "    }\n",
       "\n",
       "    .dataframe tbody tr th {\n",
       "        vertical-align: top;\n",
       "    }\n",
       "\n",
       "    .dataframe thead th {\n",
       "        text-align: right;\n",
       "    }\n",
       "</style>\n",
       "<table border=\"1\" class=\"dataframe\">\n",
       "  <thead>\n",
       "    <tr style=\"text-align: right;\">\n",
       "      <th></th>\n",
       "      <th>CRIM</th>\n",
       "      <th>ZN</th>\n",
       "      <th>INDUS</th>\n",
       "      <th>CHAS</th>\n",
       "      <th>NOX</th>\n",
       "      <th>RM</th>\n",
       "      <th>AGE</th>\n",
       "      <th>DIS</th>\n",
       "      <th>RAD</th>\n",
       "      <th>TAX</th>\n",
       "      <th>PTRATIO</th>\n",
       "      <th>B</th>\n",
       "      <th>LSTAT</th>\n",
       "      <th>CRIMxCRIM</th>\n",
       "      <th>CRIMxZN</th>\n",
       "      <th>CRIMxINDUS</th>\n",
       "      <th>CRIMxCHAS</th>\n",
       "      <th>CRIMxNOX</th>\n",
       "      <th>CRIMxRM</th>\n",
       "      <th>CRIMxAGE</th>\n",
       "      <th>CRIMxDIS</th>\n",
       "      <th>CRIMxRAD</th>\n",
       "      <th>CRIMxTAX</th>\n",
       "      <th>CRIMxPTRATIO</th>\n",
       "      <th>CRIMxB</th>\n",
       "      <th>CRIMxLSTAT</th>\n",
       "      <th>ZNxCRIM</th>\n",
       "      <th>ZNxZN</th>\n",
       "      <th>ZNxINDUS</th>\n",
       "      <th>ZNxCHAS</th>\n",
       "      <th>ZNxNOX</th>\n",
       "      <th>ZNxRM</th>\n",
       "      <th>ZNxAGE</th>\n",
       "      <th>ZNxDIS</th>\n",
       "      <th>ZNxRAD</th>\n",
       "      <th>ZNxTAX</th>\n",
       "      <th>ZNxPTRATIO</th>\n",
       "      <th>ZNxB</th>\n",
       "      <th>ZNxLSTAT</th>\n",
       "      <th>INDUSxCRIM</th>\n",
       "      <th>INDUSxZN</th>\n",
       "      <th>INDUSxINDUS</th>\n",
       "      <th>INDUSxCHAS</th>\n",
       "      <th>INDUSxNOX</th>\n",
       "      <th>INDUSxRM</th>\n",
       "      <th>INDUSxAGE</th>\n",
       "      <th>INDUSxDIS</th>\n",
       "      <th>INDUSxRAD</th>\n",
       "      <th>INDUSxTAX</th>\n",
       "      <th>INDUSxPTRATIO</th>\n",
       "      <th>INDUSxB</th>\n",
       "      <th>INDUSxLSTAT</th>\n",
       "      <th>CHASxCRIM</th>\n",
       "      <th>CHASxZN</th>\n",
       "      <th>CHASxINDUS</th>\n",
       "      <th>CHASxCHAS</th>\n",
       "      <th>CHASxNOX</th>\n",
       "      <th>CHASxRM</th>\n",
       "      <th>CHASxAGE</th>\n",
       "      <th>CHASxDIS</th>\n",
       "      <th>CHASxRAD</th>\n",
       "      <th>CHASxTAX</th>\n",
       "      <th>CHASxPTRATIO</th>\n",
       "      <th>CHASxB</th>\n",
       "      <th>CHASxLSTAT</th>\n",
       "      <th>NOXxCRIM</th>\n",
       "      <th>NOXxZN</th>\n",
       "      <th>NOXxINDUS</th>\n",
       "      <th>NOXxCHAS</th>\n",
       "      <th>NOXxNOX</th>\n",
       "      <th>NOXxRM</th>\n",
       "      <th>NOXxAGE</th>\n",
       "      <th>NOXxDIS</th>\n",
       "      <th>NOXxRAD</th>\n",
       "      <th>NOXxTAX</th>\n",
       "      <th>NOXxPTRATIO</th>\n",
       "      <th>NOXxB</th>\n",
       "      <th>NOXxLSTAT</th>\n",
       "      <th>RMxCRIM</th>\n",
       "      <th>RMxZN</th>\n",
       "      <th>RMxINDUS</th>\n",
       "      <th>RMxCHAS</th>\n",
       "      <th>RMxNOX</th>\n",
       "      <th>RMxRM</th>\n",
       "      <th>RMxAGE</th>\n",
       "      <th>RMxDIS</th>\n",
       "      <th>RMxRAD</th>\n",
       "      <th>RMxTAX</th>\n",
       "      <th>RMxPTRATIO</th>\n",
       "      <th>RMxB</th>\n",
       "      <th>RMxLSTAT</th>\n",
       "      <th>AGExCRIM</th>\n",
       "      <th>AGExZN</th>\n",
       "      <th>AGExINDUS</th>\n",
       "      <th>AGExCHAS</th>\n",
       "      <th>AGExNOX</th>\n",
       "      <th>AGExRM</th>\n",
       "      <th>AGExAGE</th>\n",
       "      <th>AGExDIS</th>\n",
       "      <th>AGExRAD</th>\n",
       "      <th>AGExTAX</th>\n",
       "      <th>AGExPTRATIO</th>\n",
       "      <th>AGExB</th>\n",
       "      <th>AGExLSTAT</th>\n",
       "      <th>DISxCRIM</th>\n",
       "      <th>DISxZN</th>\n",
       "      <th>DISxINDUS</th>\n",
       "      <th>DISxCHAS</th>\n",
       "      <th>DISxNOX</th>\n",
       "      <th>DISxRM</th>\n",
       "      <th>DISxAGE</th>\n",
       "      <th>DISxDIS</th>\n",
       "      <th>DISxRAD</th>\n",
       "      <th>DISxTAX</th>\n",
       "      <th>DISxPTRATIO</th>\n",
       "      <th>DISxB</th>\n",
       "      <th>DISxLSTAT</th>\n",
       "      <th>RADxCRIM</th>\n",
       "      <th>RADxZN</th>\n",
       "      <th>RADxINDUS</th>\n",
       "      <th>RADxCHAS</th>\n",
       "      <th>RADxNOX</th>\n",
       "      <th>RADxRM</th>\n",
       "      <th>RADxAGE</th>\n",
       "      <th>RADxDIS</th>\n",
       "      <th>RADxRAD</th>\n",
       "      <th>RADxTAX</th>\n",
       "      <th>RADxPTRATIO</th>\n",
       "      <th>RADxB</th>\n",
       "      <th>RADxLSTAT</th>\n",
       "      <th>TAXxCRIM</th>\n",
       "      <th>TAXxZN</th>\n",
       "      <th>TAXxINDUS</th>\n",
       "      <th>TAXxCHAS</th>\n",
       "      <th>TAXxNOX</th>\n",
       "      <th>TAXxRM</th>\n",
       "      <th>TAXxAGE</th>\n",
       "      <th>TAXxDIS</th>\n",
       "      <th>TAXxRAD</th>\n",
       "      <th>TAXxTAX</th>\n",
       "      <th>TAXxPTRATIO</th>\n",
       "      <th>TAXxB</th>\n",
       "      <th>TAXxLSTAT</th>\n",
       "      <th>PTRATIOxCRIM</th>\n",
       "      <th>PTRATIOxZN</th>\n",
       "      <th>PTRATIOxINDUS</th>\n",
       "      <th>PTRATIOxCHAS</th>\n",
       "      <th>PTRATIOxNOX</th>\n",
       "      <th>PTRATIOxRM</th>\n",
       "      <th>PTRATIOxAGE</th>\n",
       "      <th>PTRATIOxDIS</th>\n",
       "      <th>PTRATIOxRAD</th>\n",
       "      <th>PTRATIOxTAX</th>\n",
       "      <th>PTRATIOxPTRATIO</th>\n",
       "      <th>PTRATIOxB</th>\n",
       "      <th>PTRATIOxLSTAT</th>\n",
       "      <th>BxCRIM</th>\n",
       "      <th>BxZN</th>\n",
       "      <th>BxINDUS</th>\n",
       "      <th>BxCHAS</th>\n",
       "      <th>BxNOX</th>\n",
       "      <th>BxRM</th>\n",
       "      <th>BxAGE</th>\n",
       "      <th>BxDIS</th>\n",
       "      <th>BxRAD</th>\n",
       "      <th>BxTAX</th>\n",
       "      <th>BxPTRATIO</th>\n",
       "      <th>BxB</th>\n",
       "      <th>BxLSTAT</th>\n",
       "      <th>LSTATxCRIM</th>\n",
       "      <th>LSTATxZN</th>\n",
       "      <th>LSTATxINDUS</th>\n",
       "      <th>LSTATxCHAS</th>\n",
       "      <th>LSTATxNOX</th>\n",
       "      <th>LSTATxRM</th>\n",
       "      <th>LSTATxAGE</th>\n",
       "      <th>LSTATxDIS</th>\n",
       "      <th>LSTATxRAD</th>\n",
       "      <th>LSTATxTAX</th>\n",
       "      <th>LSTATxPTRATIO</th>\n",
       "      <th>LSTATxB</th>\n",
       "      <th>LSTATxLSTAT</th>\n",
       "    </tr>\n",
       "  </thead>\n",
       "  <tbody>\n",
       "    <tr>\n",
       "      <th>445</th>\n",
       "      <td>10.67180</td>\n",
       "      <td>0.0</td>\n",
       "      <td>18.10</td>\n",
       "      <td>0.0</td>\n",
       "      <td>0.740</td>\n",
       "      <td>6.459</td>\n",
       "      <td>94.8</td>\n",
       "      <td>1.9879</td>\n",
       "      <td>24.0</td>\n",
       "      <td>666.0</td>\n",
       "      <td>20.2</td>\n",
       "      <td>43.06</td>\n",
       "      <td>23.98</td>\n",
       "      <td>113.887315</td>\n",
       "      <td>0.0000</td>\n",
       "      <td>193.159580</td>\n",
       "      <td>0.0</td>\n",
       "      <td>7.897132</td>\n",
       "      <td>68.929156</td>\n",
       "      <td>1011.686640</td>\n",
       "      <td>21.214471</td>\n",
       "      <td>256.12320</td>\n",
       "      <td>7107.41880</td>\n",
       "      <td>215.570360</td>\n",
       "      <td>459.527708</td>\n",
       "      <td>255.909764</td>\n",
       "      <td>0.0000</td>\n",
       "      <td>0.0</td>\n",
       "      <td>0.0</td>\n",
       "      <td>0.0</td>\n",
       "      <td>0.00</td>\n",
       "      <td>0.00</td>\n",
       "      <td>0.0</td>\n",
       "      <td>0.000</td>\n",
       "      <td>0.0</td>\n",
       "      <td>0.0</td>\n",
       "      <td>0.0</td>\n",
       "      <td>0.0</td>\n",
       "      <td>0.0</td>\n",
       "      <td>193.159580</td>\n",
       "      <td>0.0</td>\n",
       "      <td>327.6100</td>\n",
       "      <td>0.0</td>\n",
       "      <td>13.39400</td>\n",
       "      <td>116.90790</td>\n",
       "      <td>1715.880</td>\n",
       "      <td>35.980990</td>\n",
       "      <td>434.40</td>\n",
       "      <td>12054.60</td>\n",
       "      <td>365.620</td>\n",
       "      <td>779.3860</td>\n",
       "      <td>434.0380</td>\n",
       "      <td>0.0</td>\n",
       "      <td>0.0</td>\n",
       "      <td>0.0</td>\n",
       "      <td>0.0</td>\n",
       "      <td>0.0</td>\n",
       "      <td>0.0</td>\n",
       "      <td>0.0</td>\n",
       "      <td>0.0</td>\n",
       "      <td>0.0</td>\n",
       "      <td>0.0</td>\n",
       "      <td>0.0</td>\n",
       "      <td>0.0</td>\n",
       "      <td>0.0</td>\n",
       "      <td>7.897132</td>\n",
       "      <td>0.00</td>\n",
       "      <td>13.39400</td>\n",
       "      <td>0.0</td>\n",
       "      <td>0.547600</td>\n",
       "      <td>4.779660</td>\n",
       "      <td>70.1520</td>\n",
       "      <td>1.471046</td>\n",
       "      <td>17.760</td>\n",
       "      <td>492.840</td>\n",
       "      <td>14.9480</td>\n",
       "      <td>31.86440</td>\n",
       "      <td>17.74520</td>\n",
       "      <td>68.929156</td>\n",
       "      <td>0.00</td>\n",
       "      <td>116.90790</td>\n",
       "      <td>0.0</td>\n",
       "      <td>4.779660</td>\n",
       "      <td>41.718681</td>\n",
       "      <td>612.3132</td>\n",
       "      <td>12.839846</td>\n",
       "      <td>155.016</td>\n",
       "      <td>4301.694</td>\n",
       "      <td>130.4718</td>\n",
       "      <td>278.12454</td>\n",
       "      <td>154.88682</td>\n",
       "      <td>1011.686640</td>\n",
       "      <td>0.0</td>\n",
       "      <td>1715.880</td>\n",
       "      <td>0.0</td>\n",
       "      <td>70.1520</td>\n",
       "      <td>612.3132</td>\n",
       "      <td>8987.04</td>\n",
       "      <td>188.45292</td>\n",
       "      <td>2275.2</td>\n",
       "      <td>63136.8</td>\n",
       "      <td>1914.96</td>\n",
       "      <td>4082.088</td>\n",
       "      <td>2273.304</td>\n",
       "      <td>21.214471</td>\n",
       "      <td>0.000</td>\n",
       "      <td>35.980990</td>\n",
       "      <td>0.0</td>\n",
       "      <td>1.471046</td>\n",
       "      <td>12.839846</td>\n",
       "      <td>188.45292</td>\n",
       "      <td>3.951746</td>\n",
       "      <td>47.7096</td>\n",
       "      <td>1323.9414</td>\n",
       "      <td>40.15558</td>\n",
       "      <td>85.598974</td>\n",
       "      <td>47.669842</td>\n",
       "      <td>256.12320</td>\n",
       "      <td>0.0</td>\n",
       "      <td>434.40</td>\n",
       "      <td>0.0</td>\n",
       "      <td>17.760</td>\n",
       "      <td>155.016</td>\n",
       "      <td>2275.2</td>\n",
       "      <td>47.7096</td>\n",
       "      <td>576.0</td>\n",
       "      <td>15984.0</td>\n",
       "      <td>484.8</td>\n",
       "      <td>1033.44</td>\n",
       "      <td>575.52</td>\n",
       "      <td>7107.41880</td>\n",
       "      <td>0.0</td>\n",
       "      <td>12054.60</td>\n",
       "      <td>0.0</td>\n",
       "      <td>492.840</td>\n",
       "      <td>4301.694</td>\n",
       "      <td>63136.8</td>\n",
       "      <td>1323.9414</td>\n",
       "      <td>15984.0</td>\n",
       "      <td>443556.0</td>\n",
       "      <td>13453.2</td>\n",
       "      <td>28677.96</td>\n",
       "      <td>15970.68</td>\n",
       "      <td>215.570360</td>\n",
       "      <td>0.0</td>\n",
       "      <td>365.620</td>\n",
       "      <td>0.0</td>\n",
       "      <td>14.9480</td>\n",
       "      <td>130.4718</td>\n",
       "      <td>1914.96</td>\n",
       "      <td>40.15558</td>\n",
       "      <td>484.8</td>\n",
       "      <td>13453.2</td>\n",
       "      <td>408.04</td>\n",
       "      <td>869.812</td>\n",
       "      <td>484.396</td>\n",
       "      <td>459.527708</td>\n",
       "      <td>0.0</td>\n",
       "      <td>779.3860</td>\n",
       "      <td>0.0</td>\n",
       "      <td>31.86440</td>\n",
       "      <td>278.12454</td>\n",
       "      <td>4082.088</td>\n",
       "      <td>85.598974</td>\n",
       "      <td>1033.44</td>\n",
       "      <td>28677.96</td>\n",
       "      <td>869.812</td>\n",
       "      <td>1854.1636</td>\n",
       "      <td>1032.5788</td>\n",
       "      <td>255.909764</td>\n",
       "      <td>0.0</td>\n",
       "      <td>434.0380</td>\n",
       "      <td>0.0</td>\n",
       "      <td>17.74520</td>\n",
       "      <td>154.88682</td>\n",
       "      <td>2273.304</td>\n",
       "      <td>47.669842</td>\n",
       "      <td>575.52</td>\n",
       "      <td>15970.68</td>\n",
       "      <td>484.396</td>\n",
       "      <td>1032.5788</td>\n",
       "      <td>575.0404</td>\n",
       "    </tr>\n",
       "    <tr>\n",
       "      <th>428</th>\n",
       "      <td>7.36711</td>\n",
       "      <td>0.0</td>\n",
       "      <td>18.10</td>\n",
       "      <td>0.0</td>\n",
       "      <td>0.679</td>\n",
       "      <td>6.193</td>\n",
       "      <td>78.1</td>\n",
       "      <td>1.9356</td>\n",
       "      <td>24.0</td>\n",
       "      <td>666.0</td>\n",
       "      <td>20.2</td>\n",
       "      <td>96.73</td>\n",
       "      <td>21.52</td>\n",
       "      <td>54.274310</td>\n",
       "      <td>0.0000</td>\n",
       "      <td>133.344691</td>\n",
       "      <td>0.0</td>\n",
       "      <td>5.002268</td>\n",
       "      <td>45.624512</td>\n",
       "      <td>575.371291</td>\n",
       "      <td>14.259778</td>\n",
       "      <td>176.81064</td>\n",
       "      <td>4906.49526</td>\n",
       "      <td>148.815622</td>\n",
       "      <td>712.620550</td>\n",
       "      <td>158.540207</td>\n",
       "      <td>0.0000</td>\n",
       "      <td>0.0</td>\n",
       "      <td>0.0</td>\n",
       "      <td>0.0</td>\n",
       "      <td>0.00</td>\n",
       "      <td>0.00</td>\n",
       "      <td>0.0</td>\n",
       "      <td>0.000</td>\n",
       "      <td>0.0</td>\n",
       "      <td>0.0</td>\n",
       "      <td>0.0</td>\n",
       "      <td>0.0</td>\n",
       "      <td>0.0</td>\n",
       "      <td>133.344691</td>\n",
       "      <td>0.0</td>\n",
       "      <td>327.6100</td>\n",
       "      <td>0.0</td>\n",
       "      <td>12.28990</td>\n",
       "      <td>112.09330</td>\n",
       "      <td>1413.610</td>\n",
       "      <td>35.034360</td>\n",
       "      <td>434.40</td>\n",
       "      <td>12054.60</td>\n",
       "      <td>365.620</td>\n",
       "      <td>1750.8130</td>\n",
       "      <td>389.5120</td>\n",
       "      <td>0.0</td>\n",
       "      <td>0.0</td>\n",
       "      <td>0.0</td>\n",
       "      <td>0.0</td>\n",
       "      <td>0.0</td>\n",
       "      <td>0.0</td>\n",
       "      <td>0.0</td>\n",
       "      <td>0.0</td>\n",
       "      <td>0.0</td>\n",
       "      <td>0.0</td>\n",
       "      <td>0.0</td>\n",
       "      <td>0.0</td>\n",
       "      <td>0.0</td>\n",
       "      <td>5.002268</td>\n",
       "      <td>0.00</td>\n",
       "      <td>12.28990</td>\n",
       "      <td>0.0</td>\n",
       "      <td>0.461041</td>\n",
       "      <td>4.205047</td>\n",
       "      <td>53.0299</td>\n",
       "      <td>1.314272</td>\n",
       "      <td>16.296</td>\n",
       "      <td>452.214</td>\n",
       "      <td>13.7158</td>\n",
       "      <td>65.67967</td>\n",
       "      <td>14.61208</td>\n",
       "      <td>45.624512</td>\n",
       "      <td>0.00</td>\n",
       "      <td>112.09330</td>\n",
       "      <td>0.0</td>\n",
       "      <td>4.205047</td>\n",
       "      <td>38.353249</td>\n",
       "      <td>483.6733</td>\n",
       "      <td>11.987171</td>\n",
       "      <td>148.632</td>\n",
       "      <td>4124.538</td>\n",
       "      <td>125.0986</td>\n",
       "      <td>599.04889</td>\n",
       "      <td>133.27336</td>\n",
       "      <td>575.371291</td>\n",
       "      <td>0.0</td>\n",
       "      <td>1413.610</td>\n",
       "      <td>0.0</td>\n",
       "      <td>53.0299</td>\n",
       "      <td>483.6733</td>\n",
       "      <td>6099.61</td>\n",
       "      <td>151.17036</td>\n",
       "      <td>1874.4</td>\n",
       "      <td>52014.6</td>\n",
       "      <td>1577.62</td>\n",
       "      <td>7554.613</td>\n",
       "      <td>1680.712</td>\n",
       "      <td>14.259778</td>\n",
       "      <td>0.000</td>\n",
       "      <td>35.034360</td>\n",
       "      <td>0.0</td>\n",
       "      <td>1.314272</td>\n",
       "      <td>11.987171</td>\n",
       "      <td>151.17036</td>\n",
       "      <td>3.746547</td>\n",
       "      <td>46.4544</td>\n",
       "      <td>1289.1096</td>\n",
       "      <td>39.09912</td>\n",
       "      <td>187.230588</td>\n",
       "      <td>41.654112</td>\n",
       "      <td>176.81064</td>\n",
       "      <td>0.0</td>\n",
       "      <td>434.40</td>\n",
       "      <td>0.0</td>\n",
       "      <td>16.296</td>\n",
       "      <td>148.632</td>\n",
       "      <td>1874.4</td>\n",
       "      <td>46.4544</td>\n",
       "      <td>576.0</td>\n",
       "      <td>15984.0</td>\n",
       "      <td>484.8</td>\n",
       "      <td>2321.52</td>\n",
       "      <td>516.48</td>\n",
       "      <td>4906.49526</td>\n",
       "      <td>0.0</td>\n",
       "      <td>12054.60</td>\n",
       "      <td>0.0</td>\n",
       "      <td>452.214</td>\n",
       "      <td>4124.538</td>\n",
       "      <td>52014.6</td>\n",
       "      <td>1289.1096</td>\n",
       "      <td>15984.0</td>\n",
       "      <td>443556.0</td>\n",
       "      <td>13453.2</td>\n",
       "      <td>64422.18</td>\n",
       "      <td>14332.32</td>\n",
       "      <td>148.815622</td>\n",
       "      <td>0.0</td>\n",
       "      <td>365.620</td>\n",
       "      <td>0.0</td>\n",
       "      <td>13.7158</td>\n",
       "      <td>125.0986</td>\n",
       "      <td>1577.62</td>\n",
       "      <td>39.09912</td>\n",
       "      <td>484.8</td>\n",
       "      <td>13453.2</td>\n",
       "      <td>408.04</td>\n",
       "      <td>1953.946</td>\n",
       "      <td>434.704</td>\n",
       "      <td>712.620550</td>\n",
       "      <td>0.0</td>\n",
       "      <td>1750.8130</td>\n",
       "      <td>0.0</td>\n",
       "      <td>65.67967</td>\n",
       "      <td>599.04889</td>\n",
       "      <td>7554.613</td>\n",
       "      <td>187.230588</td>\n",
       "      <td>2321.52</td>\n",
       "      <td>64422.18</td>\n",
       "      <td>1953.946</td>\n",
       "      <td>9356.6929</td>\n",
       "      <td>2081.6296</td>\n",
       "      <td>158.540207</td>\n",
       "      <td>0.0</td>\n",
       "      <td>389.5120</td>\n",
       "      <td>0.0</td>\n",
       "      <td>14.61208</td>\n",
       "      <td>133.27336</td>\n",
       "      <td>1680.712</td>\n",
       "      <td>41.654112</td>\n",
       "      <td>516.48</td>\n",
       "      <td>14332.32</td>\n",
       "      <td>434.704</td>\n",
       "      <td>2081.6296</td>\n",
       "      <td>463.1104</td>\n",
       "    </tr>\n",
       "    <tr>\n",
       "      <th>481</th>\n",
       "      <td>5.70818</td>\n",
       "      <td>0.0</td>\n",
       "      <td>18.10</td>\n",
       "      <td>0.0</td>\n",
       "      <td>0.532</td>\n",
       "      <td>6.750</td>\n",
       "      <td>74.9</td>\n",
       "      <td>3.3317</td>\n",
       "      <td>24.0</td>\n",
       "      <td>666.0</td>\n",
       "      <td>20.2</td>\n",
       "      <td>393.07</td>\n",
       "      <td>7.74</td>\n",
       "      <td>32.583319</td>\n",
       "      <td>0.0000</td>\n",
       "      <td>103.318058</td>\n",
       "      <td>0.0</td>\n",
       "      <td>3.036752</td>\n",
       "      <td>38.530215</td>\n",
       "      <td>427.542682</td>\n",
       "      <td>19.017943</td>\n",
       "      <td>136.99632</td>\n",
       "      <td>3801.64788</td>\n",
       "      <td>115.305236</td>\n",
       "      <td>2243.714313</td>\n",
       "      <td>44.181313</td>\n",
       "      <td>0.0000</td>\n",
       "      <td>0.0</td>\n",
       "      <td>0.0</td>\n",
       "      <td>0.0</td>\n",
       "      <td>0.00</td>\n",
       "      <td>0.00</td>\n",
       "      <td>0.0</td>\n",
       "      <td>0.000</td>\n",
       "      <td>0.0</td>\n",
       "      <td>0.0</td>\n",
       "      <td>0.0</td>\n",
       "      <td>0.0</td>\n",
       "      <td>0.0</td>\n",
       "      <td>103.318058</td>\n",
       "      <td>0.0</td>\n",
       "      <td>327.6100</td>\n",
       "      <td>0.0</td>\n",
       "      <td>9.62920</td>\n",
       "      <td>122.17500</td>\n",
       "      <td>1355.690</td>\n",
       "      <td>60.303770</td>\n",
       "      <td>434.40</td>\n",
       "      <td>12054.60</td>\n",
       "      <td>365.620</td>\n",
       "      <td>7114.5670</td>\n",
       "      <td>140.0940</td>\n",
       "      <td>0.0</td>\n",
       "      <td>0.0</td>\n",
       "      <td>0.0</td>\n",
       "      <td>0.0</td>\n",
       "      <td>0.0</td>\n",
       "      <td>0.0</td>\n",
       "      <td>0.0</td>\n",
       "      <td>0.0</td>\n",
       "      <td>0.0</td>\n",
       "      <td>0.0</td>\n",
       "      <td>0.0</td>\n",
       "      <td>0.0</td>\n",
       "      <td>0.0</td>\n",
       "      <td>3.036752</td>\n",
       "      <td>0.00</td>\n",
       "      <td>9.62920</td>\n",
       "      <td>0.0</td>\n",
       "      <td>0.283024</td>\n",
       "      <td>3.591000</td>\n",
       "      <td>39.8468</td>\n",
       "      <td>1.772464</td>\n",
       "      <td>12.768</td>\n",
       "      <td>354.312</td>\n",
       "      <td>10.7464</td>\n",
       "      <td>209.11324</td>\n",
       "      <td>4.11768</td>\n",
       "      <td>38.530215</td>\n",
       "      <td>0.00</td>\n",
       "      <td>122.17500</td>\n",
       "      <td>0.0</td>\n",
       "      <td>3.591000</td>\n",
       "      <td>45.562500</td>\n",
       "      <td>505.5750</td>\n",
       "      <td>22.488975</td>\n",
       "      <td>162.000</td>\n",
       "      <td>4495.500</td>\n",
       "      <td>136.3500</td>\n",
       "      <td>2653.22250</td>\n",
       "      <td>52.24500</td>\n",
       "      <td>427.542682</td>\n",
       "      <td>0.0</td>\n",
       "      <td>1355.690</td>\n",
       "      <td>0.0</td>\n",
       "      <td>39.8468</td>\n",
       "      <td>505.5750</td>\n",
       "      <td>5610.01</td>\n",
       "      <td>249.54433</td>\n",
       "      <td>1797.6</td>\n",
       "      <td>49883.4</td>\n",
       "      <td>1512.98</td>\n",
       "      <td>29440.943</td>\n",
       "      <td>579.726</td>\n",
       "      <td>19.017943</td>\n",
       "      <td>0.000</td>\n",
       "      <td>60.303770</td>\n",
       "      <td>0.0</td>\n",
       "      <td>1.772464</td>\n",
       "      <td>22.488975</td>\n",
       "      <td>249.54433</td>\n",
       "      <td>11.100225</td>\n",
       "      <td>79.9608</td>\n",
       "      <td>2218.9122</td>\n",
       "      <td>67.30034</td>\n",
       "      <td>1309.591319</td>\n",
       "      <td>25.787358</td>\n",
       "      <td>136.99632</td>\n",
       "      <td>0.0</td>\n",
       "      <td>434.40</td>\n",
       "      <td>0.0</td>\n",
       "      <td>12.768</td>\n",
       "      <td>162.000</td>\n",
       "      <td>1797.6</td>\n",
       "      <td>79.9608</td>\n",
       "      <td>576.0</td>\n",
       "      <td>15984.0</td>\n",
       "      <td>484.8</td>\n",
       "      <td>9433.68</td>\n",
       "      <td>185.76</td>\n",
       "      <td>3801.64788</td>\n",
       "      <td>0.0</td>\n",
       "      <td>12054.60</td>\n",
       "      <td>0.0</td>\n",
       "      <td>354.312</td>\n",
       "      <td>4495.500</td>\n",
       "      <td>49883.4</td>\n",
       "      <td>2218.9122</td>\n",
       "      <td>15984.0</td>\n",
       "      <td>443556.0</td>\n",
       "      <td>13453.2</td>\n",
       "      <td>261784.62</td>\n",
       "      <td>5154.84</td>\n",
       "      <td>115.305236</td>\n",
       "      <td>0.0</td>\n",
       "      <td>365.620</td>\n",
       "      <td>0.0</td>\n",
       "      <td>10.7464</td>\n",
       "      <td>136.3500</td>\n",
       "      <td>1512.98</td>\n",
       "      <td>67.30034</td>\n",
       "      <td>484.8</td>\n",
       "      <td>13453.2</td>\n",
       "      <td>408.04</td>\n",
       "      <td>7940.014</td>\n",
       "      <td>156.348</td>\n",
       "      <td>2243.714313</td>\n",
       "      <td>0.0</td>\n",
       "      <td>7114.5670</td>\n",
       "      <td>0.0</td>\n",
       "      <td>209.11324</td>\n",
       "      <td>2653.22250</td>\n",
       "      <td>29440.943</td>\n",
       "      <td>1309.591319</td>\n",
       "      <td>9433.68</td>\n",
       "      <td>261784.62</td>\n",
       "      <td>7940.014</td>\n",
       "      <td>154504.0249</td>\n",
       "      <td>3042.3618</td>\n",
       "      <td>44.181313</td>\n",
       "      <td>0.0</td>\n",
       "      <td>140.0940</td>\n",
       "      <td>0.0</td>\n",
       "      <td>4.11768</td>\n",
       "      <td>52.24500</td>\n",
       "      <td>579.726</td>\n",
       "      <td>25.787358</td>\n",
       "      <td>185.76</td>\n",
       "      <td>5154.84</td>\n",
       "      <td>156.348</td>\n",
       "      <td>3042.3618</td>\n",
       "      <td>59.9076</td>\n",
       "    </tr>\n",
       "    <tr>\n",
       "      <th>55</th>\n",
       "      <td>0.01311</td>\n",
       "      <td>90.0</td>\n",
       "      <td>1.22</td>\n",
       "      <td>0.0</td>\n",
       "      <td>0.403</td>\n",
       "      <td>7.249</td>\n",
       "      <td>21.9</td>\n",
       "      <td>8.6966</td>\n",
       "      <td>5.0</td>\n",
       "      <td>226.0</td>\n",
       "      <td>17.9</td>\n",
       "      <td>395.93</td>\n",
       "      <td>4.81</td>\n",
       "      <td>0.000172</td>\n",
       "      <td>1.1799</td>\n",
       "      <td>0.015994</td>\n",
       "      <td>0.0</td>\n",
       "      <td>0.005283</td>\n",
       "      <td>0.095034</td>\n",
       "      <td>0.287109</td>\n",
       "      <td>0.114012</td>\n",
       "      <td>0.06555</td>\n",
       "      <td>2.96286</td>\n",
       "      <td>0.234669</td>\n",
       "      <td>5.190642</td>\n",
       "      <td>0.063059</td>\n",
       "      <td>1.1799</td>\n",
       "      <td>8100.0</td>\n",
       "      <td>109.8</td>\n",
       "      <td>0.0</td>\n",
       "      <td>36.27</td>\n",
       "      <td>652.41</td>\n",
       "      <td>1971.0</td>\n",
       "      <td>782.694</td>\n",
       "      <td>450.0</td>\n",
       "      <td>20340.0</td>\n",
       "      <td>1611.0</td>\n",
       "      <td>35633.7</td>\n",
       "      <td>432.9</td>\n",
       "      <td>0.015994</td>\n",
       "      <td>109.8</td>\n",
       "      <td>1.4884</td>\n",
       "      <td>0.0</td>\n",
       "      <td>0.49166</td>\n",
       "      <td>8.84378</td>\n",
       "      <td>26.718</td>\n",
       "      <td>10.609852</td>\n",
       "      <td>6.10</td>\n",
       "      <td>275.72</td>\n",
       "      <td>21.838</td>\n",
       "      <td>483.0346</td>\n",
       "      <td>5.8682</td>\n",
       "      <td>0.0</td>\n",
       "      <td>0.0</td>\n",
       "      <td>0.0</td>\n",
       "      <td>0.0</td>\n",
       "      <td>0.0</td>\n",
       "      <td>0.0</td>\n",
       "      <td>0.0</td>\n",
       "      <td>0.0</td>\n",
       "      <td>0.0</td>\n",
       "      <td>0.0</td>\n",
       "      <td>0.0</td>\n",
       "      <td>0.0</td>\n",
       "      <td>0.0</td>\n",
       "      <td>0.005283</td>\n",
       "      <td>36.27</td>\n",
       "      <td>0.49166</td>\n",
       "      <td>0.0</td>\n",
       "      <td>0.162409</td>\n",
       "      <td>2.921347</td>\n",
       "      <td>8.8257</td>\n",
       "      <td>3.504730</td>\n",
       "      <td>2.015</td>\n",
       "      <td>91.078</td>\n",
       "      <td>7.2137</td>\n",
       "      <td>159.55979</td>\n",
       "      <td>1.93843</td>\n",
       "      <td>0.095034</td>\n",
       "      <td>652.41</td>\n",
       "      <td>8.84378</td>\n",
       "      <td>0.0</td>\n",
       "      <td>2.921347</td>\n",
       "      <td>52.548001</td>\n",
       "      <td>158.7531</td>\n",
       "      <td>63.041653</td>\n",
       "      <td>36.245</td>\n",
       "      <td>1638.274</td>\n",
       "      <td>129.7571</td>\n",
       "      <td>2870.09657</td>\n",
       "      <td>34.86769</td>\n",
       "      <td>0.287109</td>\n",
       "      <td>1971.0</td>\n",
       "      <td>26.718</td>\n",
       "      <td>0.0</td>\n",
       "      <td>8.8257</td>\n",
       "      <td>158.7531</td>\n",
       "      <td>479.61</td>\n",
       "      <td>190.45554</td>\n",
       "      <td>109.5</td>\n",
       "      <td>4949.4</td>\n",
       "      <td>392.01</td>\n",
       "      <td>8670.867</td>\n",
       "      <td>105.339</td>\n",
       "      <td>0.114012</td>\n",
       "      <td>782.694</td>\n",
       "      <td>10.609852</td>\n",
       "      <td>0.0</td>\n",
       "      <td>3.504730</td>\n",
       "      <td>63.041653</td>\n",
       "      <td>190.45554</td>\n",
       "      <td>75.630852</td>\n",
       "      <td>43.4830</td>\n",
       "      <td>1965.4316</td>\n",
       "      <td>155.66914</td>\n",
       "      <td>3443.244838</td>\n",
       "      <td>41.830646</td>\n",
       "      <td>0.06555</td>\n",
       "      <td>450.0</td>\n",
       "      <td>6.10</td>\n",
       "      <td>0.0</td>\n",
       "      <td>2.015</td>\n",
       "      <td>36.245</td>\n",
       "      <td>109.5</td>\n",
       "      <td>43.4830</td>\n",
       "      <td>25.0</td>\n",
       "      <td>1130.0</td>\n",
       "      <td>89.5</td>\n",
       "      <td>1979.65</td>\n",
       "      <td>24.05</td>\n",
       "      <td>2.96286</td>\n",
       "      <td>20340.0</td>\n",
       "      <td>275.72</td>\n",
       "      <td>0.0</td>\n",
       "      <td>91.078</td>\n",
       "      <td>1638.274</td>\n",
       "      <td>4949.4</td>\n",
       "      <td>1965.4316</td>\n",
       "      <td>1130.0</td>\n",
       "      <td>51076.0</td>\n",
       "      <td>4045.4</td>\n",
       "      <td>89480.18</td>\n",
       "      <td>1087.06</td>\n",
       "      <td>0.234669</td>\n",
       "      <td>1611.0</td>\n",
       "      <td>21.838</td>\n",
       "      <td>0.0</td>\n",
       "      <td>7.2137</td>\n",
       "      <td>129.7571</td>\n",
       "      <td>392.01</td>\n",
       "      <td>155.66914</td>\n",
       "      <td>89.5</td>\n",
       "      <td>4045.4</td>\n",
       "      <td>320.41</td>\n",
       "      <td>7087.147</td>\n",
       "      <td>86.099</td>\n",
       "      <td>5.190642</td>\n",
       "      <td>35633.7</td>\n",
       "      <td>483.0346</td>\n",
       "      <td>0.0</td>\n",
       "      <td>159.55979</td>\n",
       "      <td>2870.09657</td>\n",
       "      <td>8670.867</td>\n",
       "      <td>3443.244838</td>\n",
       "      <td>1979.65</td>\n",
       "      <td>89480.18</td>\n",
       "      <td>7087.147</td>\n",
       "      <td>156760.5649</td>\n",
       "      <td>1904.4233</td>\n",
       "      <td>0.063059</td>\n",
       "      <td>432.9</td>\n",
       "      <td>5.8682</td>\n",
       "      <td>0.0</td>\n",
       "      <td>1.93843</td>\n",
       "      <td>34.86769</td>\n",
       "      <td>105.339</td>\n",
       "      <td>41.830646</td>\n",
       "      <td>24.05</td>\n",
       "      <td>1087.06</td>\n",
       "      <td>86.099</td>\n",
       "      <td>1904.4233</td>\n",
       "      <td>23.1361</td>\n",
       "    </tr>\n",
       "    <tr>\n",
       "      <th>488</th>\n",
       "      <td>0.15086</td>\n",
       "      <td>0.0</td>\n",
       "      <td>27.74</td>\n",
       "      <td>0.0</td>\n",
       "      <td>0.609</td>\n",
       "      <td>5.454</td>\n",
       "      <td>92.7</td>\n",
       "      <td>1.8209</td>\n",
       "      <td>4.0</td>\n",
       "      <td>711.0</td>\n",
       "      <td>20.1</td>\n",
       "      <td>395.09</td>\n",
       "      <td>18.06</td>\n",
       "      <td>0.022759</td>\n",
       "      <td>0.0000</td>\n",
       "      <td>4.184856</td>\n",
       "      <td>0.0</td>\n",
       "      <td>0.091874</td>\n",
       "      <td>0.822790</td>\n",
       "      <td>13.984722</td>\n",
       "      <td>0.274701</td>\n",
       "      <td>0.60344</td>\n",
       "      <td>107.26146</td>\n",
       "      <td>3.032286</td>\n",
       "      <td>59.603277</td>\n",
       "      <td>2.724532</td>\n",
       "      <td>0.0000</td>\n",
       "      <td>0.0</td>\n",
       "      <td>0.0</td>\n",
       "      <td>0.0</td>\n",
       "      <td>0.00</td>\n",
       "      <td>0.00</td>\n",
       "      <td>0.0</td>\n",
       "      <td>0.000</td>\n",
       "      <td>0.0</td>\n",
       "      <td>0.0</td>\n",
       "      <td>0.0</td>\n",
       "      <td>0.0</td>\n",
       "      <td>0.0</td>\n",
       "      <td>4.184856</td>\n",
       "      <td>0.0</td>\n",
       "      <td>769.5076</td>\n",
       "      <td>0.0</td>\n",
       "      <td>16.89366</td>\n",
       "      <td>151.29396</td>\n",
       "      <td>2571.498</td>\n",
       "      <td>50.511766</td>\n",
       "      <td>110.96</td>\n",
       "      <td>19723.14</td>\n",
       "      <td>557.574</td>\n",
       "      <td>10959.7966</td>\n",
       "      <td>500.9844</td>\n",
       "      <td>0.0</td>\n",
       "      <td>0.0</td>\n",
       "      <td>0.0</td>\n",
       "      <td>0.0</td>\n",
       "      <td>0.0</td>\n",
       "      <td>0.0</td>\n",
       "      <td>0.0</td>\n",
       "      <td>0.0</td>\n",
       "      <td>0.0</td>\n",
       "      <td>0.0</td>\n",
       "      <td>0.0</td>\n",
       "      <td>0.0</td>\n",
       "      <td>0.0</td>\n",
       "      <td>0.091874</td>\n",
       "      <td>0.00</td>\n",
       "      <td>16.89366</td>\n",
       "      <td>0.0</td>\n",
       "      <td>0.370881</td>\n",
       "      <td>3.321486</td>\n",
       "      <td>56.4543</td>\n",
       "      <td>1.108928</td>\n",
       "      <td>2.436</td>\n",
       "      <td>432.999</td>\n",
       "      <td>12.2409</td>\n",
       "      <td>240.60981</td>\n",
       "      <td>10.99854</td>\n",
       "      <td>0.822790</td>\n",
       "      <td>0.00</td>\n",
       "      <td>151.29396</td>\n",
       "      <td>0.0</td>\n",
       "      <td>3.321486</td>\n",
       "      <td>29.746116</td>\n",
       "      <td>505.5858</td>\n",
       "      <td>9.931189</td>\n",
       "      <td>21.816</td>\n",
       "      <td>3877.794</td>\n",
       "      <td>109.6254</td>\n",
       "      <td>2154.82086</td>\n",
       "      <td>98.49924</td>\n",
       "      <td>13.984722</td>\n",
       "      <td>0.0</td>\n",
       "      <td>2571.498</td>\n",
       "      <td>0.0</td>\n",
       "      <td>56.4543</td>\n",
       "      <td>505.5858</td>\n",
       "      <td>8593.29</td>\n",
       "      <td>168.79743</td>\n",
       "      <td>370.8</td>\n",
       "      <td>65909.7</td>\n",
       "      <td>1863.27</td>\n",
       "      <td>36624.843</td>\n",
       "      <td>1674.162</td>\n",
       "      <td>0.274701</td>\n",
       "      <td>0.000</td>\n",
       "      <td>50.511766</td>\n",
       "      <td>0.0</td>\n",
       "      <td>1.108928</td>\n",
       "      <td>9.931189</td>\n",
       "      <td>168.79743</td>\n",
       "      <td>3.315677</td>\n",
       "      <td>7.2836</td>\n",
       "      <td>1294.6599</td>\n",
       "      <td>36.60009</td>\n",
       "      <td>719.419381</td>\n",
       "      <td>32.885454</td>\n",
       "      <td>0.60344</td>\n",
       "      <td>0.0</td>\n",
       "      <td>110.96</td>\n",
       "      <td>0.0</td>\n",
       "      <td>2.436</td>\n",
       "      <td>21.816</td>\n",
       "      <td>370.8</td>\n",
       "      <td>7.2836</td>\n",
       "      <td>16.0</td>\n",
       "      <td>2844.0</td>\n",
       "      <td>80.4</td>\n",
       "      <td>1580.36</td>\n",
       "      <td>72.24</td>\n",
       "      <td>107.26146</td>\n",
       "      <td>0.0</td>\n",
       "      <td>19723.14</td>\n",
       "      <td>0.0</td>\n",
       "      <td>432.999</td>\n",
       "      <td>3877.794</td>\n",
       "      <td>65909.7</td>\n",
       "      <td>1294.6599</td>\n",
       "      <td>2844.0</td>\n",
       "      <td>505521.0</td>\n",
       "      <td>14291.1</td>\n",
       "      <td>280908.99</td>\n",
       "      <td>12840.66</td>\n",
       "      <td>3.032286</td>\n",
       "      <td>0.0</td>\n",
       "      <td>557.574</td>\n",
       "      <td>0.0</td>\n",
       "      <td>12.2409</td>\n",
       "      <td>109.6254</td>\n",
       "      <td>1863.27</td>\n",
       "      <td>36.60009</td>\n",
       "      <td>80.4</td>\n",
       "      <td>14291.1</td>\n",
       "      <td>404.01</td>\n",
       "      <td>7941.309</td>\n",
       "      <td>363.006</td>\n",
       "      <td>59.603277</td>\n",
       "      <td>0.0</td>\n",
       "      <td>10959.7966</td>\n",
       "      <td>0.0</td>\n",
       "      <td>240.60981</td>\n",
       "      <td>2154.82086</td>\n",
       "      <td>36624.843</td>\n",
       "      <td>719.419381</td>\n",
       "      <td>1580.36</td>\n",
       "      <td>280908.99</td>\n",
       "      <td>7941.309</td>\n",
       "      <td>156096.1081</td>\n",
       "      <td>7135.3254</td>\n",
       "      <td>2.724532</td>\n",
       "      <td>0.0</td>\n",
       "      <td>500.9844</td>\n",
       "      <td>0.0</td>\n",
       "      <td>10.99854</td>\n",
       "      <td>98.49924</td>\n",
       "      <td>1674.162</td>\n",
       "      <td>32.885454</td>\n",
       "      <td>72.24</td>\n",
       "      <td>12840.66</td>\n",
       "      <td>363.006</td>\n",
       "      <td>7135.3254</td>\n",
       "      <td>326.1636</td>\n",
       "    </tr>\n",
       "  </tbody>\n",
       "</table>\n",
       "</div>"
      ],
      "text/plain": [
       "         CRIM    ZN  INDUS  CHAS    NOX     RM   AGE     DIS   RAD    TAX  \\\n",
       "445  10.67180   0.0  18.10   0.0  0.740  6.459  94.8  1.9879  24.0  666.0   \n",
       "428   7.36711   0.0  18.10   0.0  0.679  6.193  78.1  1.9356  24.0  666.0   \n",
       "481   5.70818   0.0  18.10   0.0  0.532  6.750  74.9  3.3317  24.0  666.0   \n",
       "55    0.01311  90.0   1.22   0.0  0.403  7.249  21.9  8.6966   5.0  226.0   \n",
       "488   0.15086   0.0  27.74   0.0  0.609  5.454  92.7  1.8209   4.0  711.0   \n",
       "\n",
       "     PTRATIO       B  LSTAT   CRIMxCRIM  CRIMxZN  CRIMxINDUS  CRIMxCHAS  \\\n",
       "445     20.2   43.06  23.98  113.887315   0.0000  193.159580        0.0   \n",
       "428     20.2   96.73  21.52   54.274310   0.0000  133.344691        0.0   \n",
       "481     20.2  393.07   7.74   32.583319   0.0000  103.318058        0.0   \n",
       "55      17.9  395.93   4.81    0.000172   1.1799    0.015994        0.0   \n",
       "488     20.1  395.09  18.06    0.022759   0.0000    4.184856        0.0   \n",
       "\n",
       "     CRIMxNOX    CRIMxRM     CRIMxAGE   CRIMxDIS   CRIMxRAD    CRIMxTAX  \\\n",
       "445  7.897132  68.929156  1011.686640  21.214471  256.12320  7107.41880   \n",
       "428  5.002268  45.624512   575.371291  14.259778  176.81064  4906.49526   \n",
       "481  3.036752  38.530215   427.542682  19.017943  136.99632  3801.64788   \n",
       "55   0.005283   0.095034     0.287109   0.114012    0.06555     2.96286   \n",
       "488  0.091874   0.822790    13.984722   0.274701    0.60344   107.26146   \n",
       "\n",
       "     CRIMxPTRATIO       CRIMxB  CRIMxLSTAT  ZNxCRIM   ZNxZN  ZNxINDUS  \\\n",
       "445    215.570360   459.527708  255.909764   0.0000     0.0       0.0   \n",
       "428    148.815622   712.620550  158.540207   0.0000     0.0       0.0   \n",
       "481    115.305236  2243.714313   44.181313   0.0000     0.0       0.0   \n",
       "55       0.234669     5.190642    0.063059   1.1799  8100.0     109.8   \n",
       "488      3.032286    59.603277    2.724532   0.0000     0.0       0.0   \n",
       "\n",
       "     ZNxCHAS  ZNxNOX   ZNxRM  ZNxAGE   ZNxDIS  ZNxRAD   ZNxTAX  ZNxPTRATIO  \\\n",
       "445      0.0    0.00    0.00     0.0    0.000     0.0      0.0         0.0   \n",
       "428      0.0    0.00    0.00     0.0    0.000     0.0      0.0         0.0   \n",
       "481      0.0    0.00    0.00     0.0    0.000     0.0      0.0         0.0   \n",
       "55       0.0   36.27  652.41  1971.0  782.694   450.0  20340.0      1611.0   \n",
       "488      0.0    0.00    0.00     0.0    0.000     0.0      0.0         0.0   \n",
       "\n",
       "        ZNxB  ZNxLSTAT  INDUSxCRIM  INDUSxZN  INDUSxINDUS  INDUSxCHAS  \\\n",
       "445      0.0       0.0  193.159580       0.0     327.6100         0.0   \n",
       "428      0.0       0.0  133.344691       0.0     327.6100         0.0   \n",
       "481      0.0       0.0  103.318058       0.0     327.6100         0.0   \n",
       "55   35633.7     432.9    0.015994     109.8       1.4884         0.0   \n",
       "488      0.0       0.0    4.184856       0.0     769.5076         0.0   \n",
       "\n",
       "     INDUSxNOX   INDUSxRM  INDUSxAGE  INDUSxDIS  INDUSxRAD  INDUSxTAX  \\\n",
       "445   13.39400  116.90790   1715.880  35.980990     434.40   12054.60   \n",
       "428   12.28990  112.09330   1413.610  35.034360     434.40   12054.60   \n",
       "481    9.62920  122.17500   1355.690  60.303770     434.40   12054.60   \n",
       "55     0.49166    8.84378     26.718  10.609852       6.10     275.72   \n",
       "488   16.89366  151.29396   2571.498  50.511766     110.96   19723.14   \n",
       "\n",
       "     INDUSxPTRATIO     INDUSxB  INDUSxLSTAT  CHASxCRIM  CHASxZN  CHASxINDUS  \\\n",
       "445        365.620    779.3860     434.0380        0.0      0.0         0.0   \n",
       "428        365.620   1750.8130     389.5120        0.0      0.0         0.0   \n",
       "481        365.620   7114.5670     140.0940        0.0      0.0         0.0   \n",
       "55          21.838    483.0346       5.8682        0.0      0.0         0.0   \n",
       "488        557.574  10959.7966     500.9844        0.0      0.0         0.0   \n",
       "\n",
       "     CHASxCHAS  CHASxNOX  CHASxRM  CHASxAGE  CHASxDIS  CHASxRAD  CHASxTAX  \\\n",
       "445        0.0       0.0      0.0       0.0       0.0       0.0       0.0   \n",
       "428        0.0       0.0      0.0       0.0       0.0       0.0       0.0   \n",
       "481        0.0       0.0      0.0       0.0       0.0       0.0       0.0   \n",
       "55         0.0       0.0      0.0       0.0       0.0       0.0       0.0   \n",
       "488        0.0       0.0      0.0       0.0       0.0       0.0       0.0   \n",
       "\n",
       "     CHASxPTRATIO  CHASxB  CHASxLSTAT  NOXxCRIM  NOXxZN  NOXxINDUS  NOXxCHAS  \\\n",
       "445           0.0     0.0         0.0  7.897132    0.00   13.39400       0.0   \n",
       "428           0.0     0.0         0.0  5.002268    0.00   12.28990       0.0   \n",
       "481           0.0     0.0         0.0  3.036752    0.00    9.62920       0.0   \n",
       "55            0.0     0.0         0.0  0.005283   36.27    0.49166       0.0   \n",
       "488           0.0     0.0         0.0  0.091874    0.00   16.89366       0.0   \n",
       "\n",
       "      NOXxNOX    NOXxRM  NOXxAGE   NOXxDIS  NOXxRAD  NOXxTAX  NOXxPTRATIO  \\\n",
       "445  0.547600  4.779660  70.1520  1.471046   17.760  492.840      14.9480   \n",
       "428  0.461041  4.205047  53.0299  1.314272   16.296  452.214      13.7158   \n",
       "481  0.283024  3.591000  39.8468  1.772464   12.768  354.312      10.7464   \n",
       "55   0.162409  2.921347   8.8257  3.504730    2.015   91.078       7.2137   \n",
       "488  0.370881  3.321486  56.4543  1.108928    2.436  432.999      12.2409   \n",
       "\n",
       "         NOXxB  NOXxLSTAT    RMxCRIM   RMxZN   RMxINDUS  RMxCHAS    RMxNOX  \\\n",
       "445   31.86440   17.74520  68.929156    0.00  116.90790      0.0  4.779660   \n",
       "428   65.67967   14.61208  45.624512    0.00  112.09330      0.0  4.205047   \n",
       "481  209.11324    4.11768  38.530215    0.00  122.17500      0.0  3.591000   \n",
       "55   159.55979    1.93843   0.095034  652.41    8.84378      0.0  2.921347   \n",
       "488  240.60981   10.99854   0.822790    0.00  151.29396      0.0  3.321486   \n",
       "\n",
       "         RMxRM    RMxAGE     RMxDIS   RMxRAD    RMxTAX  RMxPTRATIO  \\\n",
       "445  41.718681  612.3132  12.839846  155.016  4301.694    130.4718   \n",
       "428  38.353249  483.6733  11.987171  148.632  4124.538    125.0986   \n",
       "481  45.562500  505.5750  22.488975  162.000  4495.500    136.3500   \n",
       "55   52.548001  158.7531  63.041653   36.245  1638.274    129.7571   \n",
       "488  29.746116  505.5858   9.931189   21.816  3877.794    109.6254   \n",
       "\n",
       "           RMxB   RMxLSTAT     AGExCRIM  AGExZN  AGExINDUS  AGExCHAS  AGExNOX  \\\n",
       "445   278.12454  154.88682  1011.686640     0.0   1715.880       0.0  70.1520   \n",
       "428   599.04889  133.27336   575.371291     0.0   1413.610       0.0  53.0299   \n",
       "481  2653.22250   52.24500   427.542682     0.0   1355.690       0.0  39.8468   \n",
       "55   2870.09657   34.86769     0.287109  1971.0     26.718       0.0   8.8257   \n",
       "488  2154.82086   98.49924    13.984722     0.0   2571.498       0.0  56.4543   \n",
       "\n",
       "       AGExRM  AGExAGE    AGExDIS  AGExRAD  AGExTAX  AGExPTRATIO      AGExB  \\\n",
       "445  612.3132  8987.04  188.45292   2275.2  63136.8      1914.96   4082.088   \n",
       "428  483.6733  6099.61  151.17036   1874.4  52014.6      1577.62   7554.613   \n",
       "481  505.5750  5610.01  249.54433   1797.6  49883.4      1512.98  29440.943   \n",
       "55   158.7531   479.61  190.45554    109.5   4949.4       392.01   8670.867   \n",
       "488  505.5858  8593.29  168.79743    370.8  65909.7      1863.27  36624.843   \n",
       "\n",
       "     AGExLSTAT   DISxCRIM   DISxZN  DISxINDUS  DISxCHAS   DISxNOX     DISxRM  \\\n",
       "445   2273.304  21.214471    0.000  35.980990       0.0  1.471046  12.839846   \n",
       "428   1680.712  14.259778    0.000  35.034360       0.0  1.314272  11.987171   \n",
       "481    579.726  19.017943    0.000  60.303770       0.0  1.772464  22.488975   \n",
       "55     105.339   0.114012  782.694  10.609852       0.0  3.504730  63.041653   \n",
       "488   1674.162   0.274701    0.000  50.511766       0.0  1.108928   9.931189   \n",
       "\n",
       "       DISxAGE    DISxDIS  DISxRAD    DISxTAX  DISxPTRATIO        DISxB  \\\n",
       "445  188.45292   3.951746  47.7096  1323.9414     40.15558    85.598974   \n",
       "428  151.17036   3.746547  46.4544  1289.1096     39.09912   187.230588   \n",
       "481  249.54433  11.100225  79.9608  2218.9122     67.30034  1309.591319   \n",
       "55   190.45554  75.630852  43.4830  1965.4316    155.66914  3443.244838   \n",
       "488  168.79743   3.315677   7.2836  1294.6599     36.60009   719.419381   \n",
       "\n",
       "     DISxLSTAT   RADxCRIM  RADxZN  RADxINDUS  RADxCHAS  RADxNOX   RADxRM  \\\n",
       "445  47.669842  256.12320     0.0     434.40       0.0   17.760  155.016   \n",
       "428  41.654112  176.81064     0.0     434.40       0.0   16.296  148.632   \n",
       "481  25.787358  136.99632     0.0     434.40       0.0   12.768  162.000   \n",
       "55   41.830646    0.06555   450.0       6.10       0.0    2.015   36.245   \n",
       "488  32.885454    0.60344     0.0     110.96       0.0    2.436   21.816   \n",
       "\n",
       "     RADxAGE  RADxDIS  RADxRAD  RADxTAX  RADxPTRATIO    RADxB  RADxLSTAT  \\\n",
       "445   2275.2  47.7096    576.0  15984.0        484.8  1033.44     575.52   \n",
       "428   1874.4  46.4544    576.0  15984.0        484.8  2321.52     516.48   \n",
       "481   1797.6  79.9608    576.0  15984.0        484.8  9433.68     185.76   \n",
       "55     109.5  43.4830     25.0   1130.0         89.5  1979.65      24.05   \n",
       "488    370.8   7.2836     16.0   2844.0         80.4  1580.36      72.24   \n",
       "\n",
       "       TAXxCRIM   TAXxZN  TAXxINDUS  TAXxCHAS  TAXxNOX    TAXxRM  TAXxAGE  \\\n",
       "445  7107.41880      0.0   12054.60       0.0  492.840  4301.694  63136.8   \n",
       "428  4906.49526      0.0   12054.60       0.0  452.214  4124.538  52014.6   \n",
       "481  3801.64788      0.0   12054.60       0.0  354.312  4495.500  49883.4   \n",
       "55      2.96286  20340.0     275.72       0.0   91.078  1638.274   4949.4   \n",
       "488   107.26146      0.0   19723.14       0.0  432.999  3877.794  65909.7   \n",
       "\n",
       "       TAXxDIS  TAXxRAD   TAXxTAX  TAXxPTRATIO      TAXxB  TAXxLSTAT  \\\n",
       "445  1323.9414  15984.0  443556.0      13453.2   28677.96   15970.68   \n",
       "428  1289.1096  15984.0  443556.0      13453.2   64422.18   14332.32   \n",
       "481  2218.9122  15984.0  443556.0      13453.2  261784.62    5154.84   \n",
       "55   1965.4316   1130.0   51076.0       4045.4   89480.18    1087.06   \n",
       "488  1294.6599   2844.0  505521.0      14291.1  280908.99   12840.66   \n",
       "\n",
       "     PTRATIOxCRIM  PTRATIOxZN  PTRATIOxINDUS  PTRATIOxCHAS  PTRATIOxNOX  \\\n",
       "445    215.570360         0.0        365.620           0.0      14.9480   \n",
       "428    148.815622         0.0        365.620           0.0      13.7158   \n",
       "481    115.305236         0.0        365.620           0.0      10.7464   \n",
       "55       0.234669      1611.0         21.838           0.0       7.2137   \n",
       "488      3.032286         0.0        557.574           0.0      12.2409   \n",
       "\n",
       "     PTRATIOxRM  PTRATIOxAGE  PTRATIOxDIS  PTRATIOxRAD  PTRATIOxTAX  \\\n",
       "445    130.4718      1914.96     40.15558        484.8      13453.2   \n",
       "428    125.0986      1577.62     39.09912        484.8      13453.2   \n",
       "481    136.3500      1512.98     67.30034        484.8      13453.2   \n",
       "55     129.7571       392.01    155.66914         89.5       4045.4   \n",
       "488    109.6254      1863.27     36.60009         80.4      14291.1   \n",
       "\n",
       "     PTRATIOxPTRATIO  PTRATIOxB  PTRATIOxLSTAT       BxCRIM     BxZN  \\\n",
       "445           408.04    869.812        484.396   459.527708      0.0   \n",
       "428           408.04   1953.946        434.704   712.620550      0.0   \n",
       "481           408.04   7940.014        156.348  2243.714313      0.0   \n",
       "55            320.41   7087.147         86.099     5.190642  35633.7   \n",
       "488           404.01   7941.309        363.006    59.603277      0.0   \n",
       "\n",
       "        BxINDUS  BxCHAS      BxNOX        BxRM      BxAGE        BxDIS  \\\n",
       "445    779.3860     0.0   31.86440   278.12454   4082.088    85.598974   \n",
       "428   1750.8130     0.0   65.67967   599.04889   7554.613   187.230588   \n",
       "481   7114.5670     0.0  209.11324  2653.22250  29440.943  1309.591319   \n",
       "55     483.0346     0.0  159.55979  2870.09657   8670.867  3443.244838   \n",
       "488  10959.7966     0.0  240.60981  2154.82086  36624.843   719.419381   \n",
       "\n",
       "       BxRAD      BxTAX  BxPTRATIO          BxB    BxLSTAT  LSTATxCRIM  \\\n",
       "445  1033.44   28677.96    869.812    1854.1636  1032.5788  255.909764   \n",
       "428  2321.52   64422.18   1953.946    9356.6929  2081.6296  158.540207   \n",
       "481  9433.68  261784.62   7940.014  154504.0249  3042.3618   44.181313   \n",
       "55   1979.65   89480.18   7087.147  156760.5649  1904.4233    0.063059   \n",
       "488  1580.36  280908.99   7941.309  156096.1081  7135.3254    2.724532   \n",
       "\n",
       "     LSTATxZN  LSTATxINDUS  LSTATxCHAS  LSTATxNOX   LSTATxRM  LSTATxAGE  \\\n",
       "445       0.0     434.0380         0.0   17.74520  154.88682   2273.304   \n",
       "428       0.0     389.5120         0.0   14.61208  133.27336   1680.712   \n",
       "481       0.0     140.0940         0.0    4.11768   52.24500    579.726   \n",
       "55      432.9       5.8682         0.0    1.93843   34.86769    105.339   \n",
       "488       0.0     500.9844         0.0   10.99854   98.49924   1674.162   \n",
       "\n",
       "     LSTATxDIS  LSTATxRAD  LSTATxTAX  LSTATxPTRATIO    LSTATxB  LSTATxLSTAT  \n",
       "445  47.669842     575.52   15970.68        484.396  1032.5788     575.0404  \n",
       "428  41.654112     516.48   14332.32        434.704  2081.6296     463.1104  \n",
       "481  25.787358     185.76    5154.84        156.348  3042.3618      59.9076  \n",
       "55   41.830646      24.05    1087.06         86.099  1904.4233      23.1361  \n",
       "488  32.885454      72.24   12840.66        363.006  7135.3254     326.1636  "
      ]
     },
     "execution_count": 166,
     "metadata": {},
     "output_type": "execute_result"
    }
   ],
   "source": [
    "extended_X_train.head()"
   ]
  },
  {
   "cell_type": "code",
   "execution_count": 167,
   "metadata": {},
   "outputs": [
    {
     "data": {
      "text/plain": [
       "(354, 13)"
      ]
     },
     "execution_count": 167,
     "metadata": {},
     "output_type": "execute_result"
    }
   ],
   "source": [
    "X_train.shape"
   ]
  },
  {
   "cell_type": "code",
   "execution_count": 168,
   "metadata": {
    "scrolled": true
   },
   "outputs": [
    {
     "data": {
      "text/plain": [
       "(354, 182)"
      ]
     },
     "execution_count": 168,
     "metadata": {},
     "output_type": "execute_result"
    }
   ],
   "source": [
    "extended_X_train.shape"
   ]
  },
  {
   "cell_type": "code",
   "execution_count": 169,
   "metadata": {},
   "outputs": [
    {
     "data": {
      "text/plain": [
       "LinearRegression()"
      ]
     },
     "execution_count": 169,
     "metadata": {},
     "output_type": "execute_result"
    }
   ],
   "source": [
    "# 특성확장된 train 데이터의 문제와 정답으로 학습시키기\n",
    "linear_md2 = LinearRegression()\n",
    "linear_md2.fit(extended_X_train, y_train)"
   ]
  },
  {
   "cell_type": "code",
   "execution_count": 170,
   "metadata": {},
   "outputs": [],
   "source": [
    "extended_X_test = X_test.copy()"
   ]
  },
  {
   "cell_type": "code",
   "execution_count": 171,
   "metadata": {},
   "outputs": [],
   "source": [
    "# extended_X_test의 각 컬럼들을 서로서로 한번씩 곱해서 새로운 컬럼을 추가해주기\n",
    "for col1 in X_test.columns:     # 13번 반복\n",
    "    for col2 in X_test.columns: # 13번 반복\n",
    "        extended_X_test[col1+\"x\"+col2] = X_test[col1] * X_test[col2]"
   ]
  },
  {
   "cell_type": "code",
   "execution_count": 172,
   "metadata": {},
   "outputs": [
    {
     "data": {
      "text/plain": [
       "(152, 182)"
      ]
     },
     "execution_count": 172,
     "metadata": {},
     "output_type": "execute_result"
    }
   ],
   "source": [
    "extended_X_test.shape"
   ]
  },
  {
   "cell_type": "code",
   "execution_count": 173,
   "metadata": {},
   "outputs": [],
   "source": [
    "ex_pre_train = linear_md2.predict(extended_X_train)\n",
    "ex_pre_test = linear_md2.predict(extended_X_test)"
   ]
  },
  {
   "cell_type": "code",
   "execution_count": 174,
   "metadata": {},
   "outputs": [],
   "source": [
    "# train 데이터의 mse(평균제곱오차) = 예측값 - 정답값\n",
    "ex_train_mse = mean_squared_error(ex_pre_train, y_train)\n",
    "# test 데이터의 mse\n",
    "ex_test_mse = mean_squared_error(ex_pre_test, y_test)"
   ]
  },
  {
   "cell_type": "code",
   "execution_count": 175,
   "metadata": {},
   "outputs": [
    {
     "name": "stdout",
     "output_type": "stream",
     "text": [
      "특성확장train 데이터 MSE :  5.329363416561545\n",
      "특성확장test 데이터 MSE :  18.12803010569276\n",
      "특성확장train, test의 MSE 차이 :  12.798666689131213\n",
      "--------------------------------------------------\n",
      "특성확장train 데이터 RMSE :  2.3085414045586328\n",
      "특성확장test 데이터 RMSE :  4.257702444475513\n",
      "특성확장train, test의 RMSE 차이 :  1.9491610399168806\n"
     ]
    }
   ],
   "source": [
    "print(\"특성확장train 데이터 MSE : \", ex_train_mse)\n",
    "print(\"특성확장test 데이터 MSE : \", ex_test_mse)\n",
    "print(\"특성확장train, test의 MSE 차이 : \", ex_test_mse - ex_train_mse )\n",
    "print(\"-\"*50)\n",
    "print(\"특성확장train 데이터 RMSE : \", ex_train_mse**0.5)\n",
    "print(\"특성확장test 데이터 RMSE : \", ex_test_mse**0.5)\n",
    "print(\"특성확장train, test의 RMSE 차이 : \", ex_test_mse**0.5 - ex_train_mse**0.5)"
   ]
  },
  {
   "cell_type": "code",
   "execution_count": 176,
   "metadata": {},
   "outputs": [
    {
     "data": {
      "text/plain": [
       "0.9332471683804467"
      ]
     },
     "execution_count": 176,
     "metadata": {},
     "output_type": "execute_result"
    }
   ],
   "source": [
    "linear_md2.score(extended_X_train, y_train)"
   ]
  },
  {
   "cell_type": "code",
   "execution_count": 177,
   "metadata": {
    "scrolled": true
   },
   "outputs": [
    {
     "data": {
      "text/plain": [
       "0.8093536759438125"
      ]
     },
     "execution_count": 177,
     "metadata": {},
     "output_type": "execute_result"
    }
   ],
   "source": [
    "linear_md2.score(extended_X_test, y_test)"
   ]
  },
  {
   "cell_type": "markdown",
   "metadata": {},
   "source": [
    "- 과대적합을 해소하기 위해서 규제모델을 적용해보자!"
   ]
  },
  {
   "cell_type": "markdown",
   "metadata": {},
   "source": [
    "### 라쏘(Lasso)모델 적용"
   ]
  },
  {
   "cell_type": "code",
   "execution_count": 178,
   "metadata": {},
   "outputs": [],
   "source": [
    "lasso_md = Lasso(alpha=10)\n",
    "# alpha값이 높아지면 과대적합이 줄어들지만 오차는 커질 수 있음."
   ]
  },
  {
   "cell_type": "code",
   "execution_count": 179,
   "metadata": {},
   "outputs": [
    {
     "data": {
      "text/plain": [
       "Lasso(alpha=10)"
      ]
     },
     "execution_count": 179,
     "metadata": {},
     "output_type": "execute_result"
    }
   ],
   "source": [
    "lasso_md.fit(extended_X_train, y_train)"
   ]
  },
  {
   "cell_type": "code",
   "execution_count": 180,
   "metadata": {},
   "outputs": [
    {
     "name": "stdout",
     "output_type": "stream",
     "text": [
      "사용한 특성의 수 : 49\n"
     ]
    }
   ],
   "source": [
    "print(f\"사용한 특성의 수 : {np.sum(lasso_md.coef_ != 0)}\")"
   ]
  },
  {
   "cell_type": "code",
   "execution_count": 181,
   "metadata": {},
   "outputs": [
    {
     "name": "stdout",
     "output_type": "stream",
     "text": [
      "사용한 특성의 수 : 1\n"
     ]
    }
   ],
   "source": [
    "print(f\"사용한 특성의 수 : {np.sum(lasso_md.intercept_ != 0)}\")"
   ]
  },
  {
   "cell_type": "code",
   "execution_count": 182,
   "metadata": {},
   "outputs": [],
   "source": [
    "pre_train_lasso = lasso_md.predict(extended_X_train)\n",
    "pre_test_lasso = lasso_md.predict(extended_X_test)"
   ]
  },
  {
   "cell_type": "code",
   "execution_count": 183,
   "metadata": {},
   "outputs": [
    {
     "name": "stdout",
     "output_type": "stream",
     "text": [
      "특성확장train 데이터 MSE :  11.772124825717558\n",
      "특성확장test 데이터 MSE :  17.91779281740544\n",
      "특성확장train, test의 MSE 차이 :  6.145667991687883\n",
      "--------------------------------------------------\n",
      "특성확장train 데이터 RMSE :  3.4310530199513907\n",
      "특성확장test 데이터 RMSE :  4.232941390735931\n",
      "특성확장train, test의 RMSE 차이 :  0.8018883707845403\n"
     ]
    }
   ],
   "source": [
    "# train 데이터의 mse(평균제곱오차) = 예측값 - 정답값\n",
    "train_mse_la = mean_squared_error(pre_train_lasso, y_train)\n",
    "# test 데이터의 mse\n",
    "test_mse_la = mean_squared_error(pre_test_lasso, y_test)\n",
    "print(\"특성확장train 데이터 MSE : \", train_mse_la)\n",
    "print(\"특성확장test 데이터 MSE : \", test_mse_la)\n",
    "print(\"특성확장train, test의 MSE 차이 : \", test_mse_la - train_mse_la )\n",
    "print(\"-\"*50)\n",
    "print(\"특성확장train 데이터 RMSE : \", train_mse_la**0.5)\n",
    "print(\"특성확장test 데이터 RMSE : \", test_mse_la**0.5)\n",
    "print(\"특성확장train, test의 RMSE 차이 : \", test_mse_la**0.5 - train_mse_la**0.5)"
   ]
  },
  {
   "cell_type": "code",
   "execution_count": 184,
   "metadata": {},
   "outputs": [
    {
     "data": {
      "text/plain": [
       "0.8525484931552121"
      ]
     },
     "execution_count": 184,
     "metadata": {},
     "output_type": "execute_result"
    }
   ],
   "source": [
    "#R2스코어\n",
    "lasso_md.score(extended_X_train, y_train)"
   ]
  },
  {
   "cell_type": "code",
   "execution_count": 185,
   "metadata": {
    "scrolled": true
   },
   "outputs": [
    {
     "data": {
      "text/plain": [
       "0.8115646699656578"
      ]
     },
     "execution_count": 185,
     "metadata": {},
     "output_type": "execute_result"
    }
   ],
   "source": [
    "lasso_md.score(extended_X_test, y_test)"
   ]
  },
  {
   "cell_type": "markdown",
   "metadata": {},
   "source": [
    "- 선형회귀 모델에 비해 과대적합이 줄어든 것을 확인할 수 있음"
   ]
  },
  {
   "cell_type": "markdown",
   "metadata": {},
   "source": [
    "### 릿지(Ridge)모델 적용"
   ]
  },
  {
   "cell_type": "code",
   "execution_count": 186,
   "metadata": {},
   "outputs": [],
   "source": [
    "ridge_md = Ridge(alpha=10)"
   ]
  },
  {
   "cell_type": "code",
   "execution_count": 187,
   "metadata": {},
   "outputs": [
    {
     "data": {
      "text/plain": [
       "Ridge(alpha=10)"
      ]
     },
     "execution_count": 187,
     "metadata": {},
     "output_type": "execute_result"
    }
   ],
   "source": [
    "ridge_md.fit(extended_X_train, y_train)"
   ]
  },
  {
   "cell_type": "code",
   "execution_count": 188,
   "metadata": {},
   "outputs": [],
   "source": [
    "pre_train_ridge = ridge_md.predict(extended_X_train)\n",
    "pre_test_ridge = ridge_md.predict(extended_X_test)"
   ]
  },
  {
   "cell_type": "code",
   "execution_count": 189,
   "metadata": {
    "scrolled": true
   },
   "outputs": [
    {
     "name": "stdout",
     "output_type": "stream",
     "text": [
      "특성확장train 데이터 MSE :  6.430744469502569\n",
      "특성확장test 데이터 MSE :  15.363594941038443\n",
      "특성확장train, test의 MSE 차이 :  8.932850471535874\n",
      "--------------------------------------------------\n",
      "특성확장train 데이터 RMSE :  2.5358912574285535\n",
      "특성확장test 데이터 RMSE :  3.919642195537552\n",
      "특성확장train, test의 RMSE 차이 :  1.3837509381089985\n"
     ]
    }
   ],
   "source": [
    "# train 데이터의 mse(평균제곱오차) = 예측값 - 정답값\n",
    "train_mse_ri = mean_squared_error(pre_train_ridge, y_train)\n",
    "# test 데이터의 mse\n",
    "test_mse_ri = mean_squared_error(pre_test_ridge, y_test)\n",
    "print(\"특성확장train 데이터 MSE : \", train_mse_ri)\n",
    "print(\"특성확장test 데이터 MSE : \", test_mse_ri)\n",
    "print(\"특성확장train, test의 MSE 차이 : \", test_mse_ri - train_mse_ri )\n",
    "print(\"-\"*50)\n",
    "print(\"특성확장train 데이터 RMSE : \", train_mse_ri**0.5)\n",
    "print(\"특성확장test 데이터 RMSE : \", test_mse_ri**0.5)\n",
    "print(\"특성확장train, test의 RMSE 차이 : \", test_mse_ri**0.5 - train_mse_ri**0.5)"
   ]
  },
  {
   "cell_type": "code",
   "execution_count": 190,
   "metadata": {},
   "outputs": [
    {
     "data": {
      "text/plain": [
       "0.9194518427046885"
      ]
     },
     "execution_count": 190,
     "metadata": {},
     "output_type": "execute_result"
    }
   ],
   "source": [
    "#R2스코어\n",
    "ridge_md.score(extended_X_train, y_train)"
   ]
  },
  {
   "cell_type": "code",
   "execution_count": 191,
   "metadata": {},
   "outputs": [
    {
     "data": {
      "text/plain": [
       "0.8384262998946909"
      ]
     },
     "execution_count": 191,
     "metadata": {},
     "output_type": "execute_result"
    }
   ],
   "source": [
    "ridge_md.score(extended_X_test, y_test)"
   ]
  },
  {
   "cell_type": "markdown",
   "metadata": {},
   "source": [
    "- alpha값이 10일때는 릿지모델에 비해 라쏘모델이 과대적합을 해소하는데 더 유리하다"
   ]
  },
  {
   "cell_type": "code",
   "execution_count": 192,
   "metadata": {},
   "outputs": [],
   "source": [
    "# Lasso모델\n",
    "# alpha값에 따라 RMSE 계산값을 빈 리스트에 하나씩 담아두기!\n",
    "alpha_list = [0.001, 0.01, 0.1, 10, 100, 1000]\n",
    "lasso_train_list = []  #train데이터의 RMSE 값을 담아줄 빈 리스트\n",
    "lasso_test_list = []   #test데이터의 RMSE 값을 담아줄 빈 리스트\n",
    "\n",
    "for i in alpha_list :\n",
    "    # alpha값을 바꿔가며 모델 생성\n",
    "    lasso_md = Lasso(alpha = i)\n",
    "     #모델 학습\n",
    "    lasso_md.fit(extended_X_train, y_train)\n",
    "    \n",
    "    #train\n",
    "    #모델 예측\n",
    "    lasso_train_pre = lasso_md.predict(extended_X_train)\n",
    "    #RMSE 구하기\n",
    "    lasso_train_RMSE = mean_squared_error(lasso_train_pre, y_train)**0.5\n",
    "    #구한 RMSE를 빈 리스트에 차례로 넣어주기\n",
    "    lasso_train_list.append(lasso_train_RMSE)\n",
    "    \n",
    "    #test\n",
    "    lasso_test_pre = lasso_md.predict(extended_X_test)\n",
    "    lasso_test_RMSE = mean_squared_error(lasso_test_pre, y_test)**0.5\n",
    "    lasso_test_list.append(lasso_test_RMSE)"
   ]
  },
  {
   "cell_type": "code",
   "execution_count": 193,
   "metadata": {},
   "outputs": [
    {
     "data": {
      "text/plain": [
       "[4.221458972433112,\n",
       " 4.243935779449194,\n",
       " 3.8032211559519307,\n",
       " 4.232941390735931,\n",
       " 5.188098568923207,\n",
       " 6.409164606921208]"
      ]
     },
     "execution_count": 193,
     "metadata": {},
     "output_type": "execute_result"
    }
   ],
   "source": [
    "lasso_test_list"
   ]
  },
  {
   "cell_type": "code",
   "execution_count": 194,
   "metadata": {},
   "outputs": [
    {
     "data": {
      "text/plain": [
       "[2.5074101228840613,\n",
       " 2.5518594174521247,\n",
       " 2.8090648633104824,\n",
       " 3.4310530199513907,\n",
       " 4.072947845655064,\n",
       " 5.446757079334986]"
      ]
     },
     "execution_count": 194,
     "metadata": {},
     "output_type": "execute_result"
    }
   ],
   "source": [
    "lasso_train_list"
   ]
  },
  {
   "cell_type": "code",
   "execution_count": 195,
   "metadata": {},
   "outputs": [],
   "source": [
    "# 한글을 쓰기 위한 코드\n",
    "from matplotlib import font_manager, rc\n",
    "font_name = font_manager.FontProperties(fname =\"c:/Windows/Fonts/malgun.ttf\").get_name()\n",
    "rc('font', family = font_name)"
   ]
  },
  {
   "cell_type": "code",
   "execution_count": 196,
   "metadata": {
    "scrolled": true
   },
   "outputs": [
    {
     "data": {
      "image/png": "[encoded data removed]",
      "text/plain": [
       "<Figure size 720x360 with 1 Axes>"
      ]
     },
     "metadata": {
      "needs_background": "light"
     },
     "output_type": "display_data"
    }
   ],
   "source": [
    "plt.figure(figsize=(10,5))\n",
    "plt.plot(lasso_train_list, label=\"train\") # train 그래프\n",
    "plt.plot(lasso_test_list, label=\"test\")   # test  그래프\n",
    "plt.title(\"Lasso 모델 alpha = RMSE 그래프\") # 그래프 제목\n",
    "plt.xlabel(\"alpha값\")\n",
    "plt.xticks(np.arange(6), alpha_list)      # x축 값 설정(x축 값의 개수, 바꿔줄 값)\n",
    "plt.ylabel(\"RMSE\")\n",
    "plt.grid()\n",
    "plt.legend()\n",
    "plt.show()"
   ]
  },
  {
   "cell_type": "code",
   "execution_count": 197,
   "metadata": {},
   "outputs": [],
   "source": [
    "# Ridge 모델 그래프로 스스로 만들기!\n",
    "# Ridge모델\n",
    "# alpha값에 따라 RMSE 계산값을 빈 리스트에 하나씩 담아두기!\n",
    "alpha_list = [0.001, 0.01, 0.1, 10, 100, 1000]\n",
    "ridge_train_list = []  #train데이터의 RMSE 값을 담아줄 빈 리스트\n",
    "ridge_test_list = []   #test데이터의 RMSE 값을 담아줄 빈 리스트\n",
    "\n",
    "for i in alpha_list :\n",
    "    # alpha값을 바꿔가며 모델 생성\n",
    "    ridge_md = Ridge(alpha = i)\n",
    "     #모델 학습\n",
    "    ridge_md.fit(extended_X_train, y_train)\n",
    "    \n",
    "    #train\n",
    "    #모델 예측\n",
    "    ridge_train_pre = ridge_md.predict(extended_X_train)\n",
    "    #RMSE 구하기\n",
    "    ridge_train_RMSE = mean_squared_error(ridge_train_pre, y_train)**0.5\n",
    "    #구한 RMSE를 빈 리스트에 차례로 넣어주기\n",
    "    ridge_train_list.append(ridge_train_RMSE)\n",
    "    \n",
    "    #test\n",
    "    ridge_test_pre = ridge_md.predict(extended_X_test)\n",
    "    ridge_test_RMSE = mean_squared_error(ridge_test_pre, y_test)**0.5\n",
    "    ridge_test_list.append(ridge_test_RMSE)"
   ]
  },
  {
   "cell_type": "code",
   "execution_count": 198,
   "metadata": {},
   "outputs": [
    {
     "data": {
      "image/png": "[encoded data removed]",
      "text/plain": [
       "<Figure size 720x360 with 1 Axes>"
      ]
     },
     "metadata": {
      "needs_background": "light"
     },
     "output_type": "display_data"
    }
   ],
   "source": [
    "plt.figure(figsize=(10,5))\n",
    "plt.plot(ridge_train_list, label=\"train\") # train 그래프\n",
    "plt.plot(ridge_test_list, label=\"test\")   # test  그래프\n",
    "plt.title(\"ridge 모델 alpha = RMSE 그래프\") # 그래프 제목\n",
    "plt.xlabel(\"alpha값\")\n",
    "plt.xticks(np.arange(6), alpha_list)      # x축 값 설정(x축 값의 개수, 바꿔줄 값)\n",
    "plt.ylabel(\"RMSE\")\n",
    "plt.grid()\n",
    "plt.legend()\n",
    "plt.show()"
   ]
  },
  {
   "cell_type": "code",
   "execution_count": null,
   "metadata": {},
   "outputs": [],
   "source": []
  }
 ],
 "metadata": {
  "kernelspec": {
   "display_name": "Python 3",
   "language": "python",
   "name": "python3"
  },
  "language_info": {
   "codemirror_mode": {
    "name": "ipython",
    "version": 3
   },
   "file_extension": ".py",
   "mimetype": "text/x-python",
   "name": "python",
   "nbconvert_exporter": "python",
   "pygments_lexer": "ipython3",
   "version": "3.8.5"
  },
  "toc": {
   "base_numbering": 1,
   "nav_menu": {},
   "number_sections": true,
   "sideBar": true,
   "skip_h1_title": false,
   "title_cell": "Table of Contents",
   "title_sidebar": "Contents",
   "toc_cell": false,
   "toc_position": {},
   "toc_section_display": true,
   "toc_window_display": true
  }
 },
 "nbformat": 4,
 "nbformat_minor": 4
}
