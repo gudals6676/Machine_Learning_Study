{
 "cells": [
  {
   "cell_type": "code",
   "execution_count": null,
   "metadata": {},
   "outputs": [],
   "source": [
    "import numpy as np\n",
    "import matplotlib.pyplot as plt\n",
    "import pandas as pd\n",
    "# 머신러닝을 지원하는 sklearn 라이브러리 가져오기\n",
    "from sklearn.neighbors import KNeighborsClassifier\n",
    "# 평가 지표들을 활용할 수 있는 metrics 모듈을 불러오기\n",
    "from sklearn import metrics\n",
    "import tqdm\n",
    "from sklearn.metrics import accuracy_score\n",
    "from sklearn.model_selection import train_test_split#학습 평가 데이터 분리\n",
    "import seaborn as sns #matplot과 유사하게 시각화 라이브러리이지만 좀 더 깔끔함\n",
    "from sklearn.datasets import load_iris #붓꽃 iris\n",
    "from sklearn.tree import DecisionTreeClassifier #트리\n",
    "# !pip install seaborn\n",
    "# 손쉽게 레이블 인코딩을 하기 위해 레이블인코더를 임포트\n",
    "from sklearn.preprocessing import LabelEncoder\n",
    "#!pip install graphviz #시각화 외부라이브러리\n",
    "from sklearn.tree import export_graphviz\n",
    "from sklearn.preprocessing import StandardScaler #StandardScaler\n",
    "from sklearn.preprocessing import MinMaxScaler  #MinMaxScaler\n",
    "from sklearn.datasets import load_breast_cancer\n",
    "#!pip install jupyter_contrib_nbextensions && jupyter contrib nbextension install 목차보기\n",
    "from sklearn.model_selection import cross_val_score#교차검증 적용을 위해 임포트\n",
    "from sklearn.ensemble import RandomForestClassifier\n",
    "from sklearn.ensemble import VotingClassifier #앙상블 모델\n",
    "from sklearn.ensemble import AdaBoostClassifier # 에이다\n",
    "#!pip install xgboost #XG부스트\n",
    "#!pip install lightgbm #LightGBM\n",
    "from xgboost import XGBClassifier\n",
    "from lightgbm import LGBMClassifier\n",
    "# 빨간색 경고창 무시하기\n",
    "import warnings\n",
    "warnings.filterwarnings(action=\"ignore\")\n",
    "from sklearn.model_selection import train_test_split #트레인테스트 스플릿\n",
    "from sklearn.model_selection import GridSearchCV # 그리드서치\n",
    "from sklearn.model_selection import KFold # cv = kfold\n",
    "from sklearn.datasets import make_classification\n",
    "from sklearn.linear_model import LinearRegression#선형회귀 모델 임포트\n",
    "from sklearn.datasets import load_boston #학습용 보스턴 집 값 데이터를 임포트\n",
    "from sklearn.metrics import mean_squared_error # mse\n",
    "from sklearn.linear_model import Lasso # Lasso 임포트\n",
    "from sklearn.linear_model import Ridge # Ridge 임포트\n",
    "from sklearn.linear_model import LogisticRegression #로지스틱 임포트\n",
    "# 한글을 쓰기 위한 코드\n",
    "from matplotlib import font_manager, rc\n",
    "font_name = font_manager.FontProperties(fname =\"c:/Windows/Fonts/malgun.ttf\").get_name()\n",
    "rc('font', family = font_name)\n",
    "from surprise import Reader, Dataset\n",
    "from surprise import SVD, accuracy"
   ]
  }
 ],
 "metadata": {
  "kernelspec": {
   "display_name": "Python 3",
   "language": "python",
   "name": "python3"
  },
  "language_info": {
   "codemirror_mode": {
    "name": "ipython",
    "version": 3
   },
   "file_extension": ".py",
   "mimetype": "text/x-python",
   "name": "python",
   "nbconvert_exporter": "python",
   "pygments_lexer": "ipython3",
   "version": "3.8.5"
  },
  "toc": {
   "base_numbering": 1,
   "nav_menu": {},
   "number_sections": true,
   "sideBar": true,
   "skip_h1_title": false,
   "title_cell": "Table of Contents",
   "title_sidebar": "Contents",
   "toc_cell": false,
   "toc_position": {},
   "toc_section_display": true,
   "toc_window_display": false
  }
 },
 "nbformat": 4,
 "nbformat_minor": 4
}
